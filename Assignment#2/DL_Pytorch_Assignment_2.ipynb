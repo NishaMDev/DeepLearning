{
  "nbformat": 4,
  "nbformat_minor": 0,
  "metadata": {
    "colab": {
      "name": "DL_Pytorch_Assignment_2.ipynb",
      "provenance": [],
      "collapsed_sections": [],
      "authorship_tag": "ABX9TyNOYttzXIMXk8d9E0gVBHHJ",
      "include_colab_link": true
    },
    "kernelspec": {
      "name": "python3",
      "display_name": "Python 3"
    },
    "language_info": {
      "name": "python"
    },
    "accelerator": "GPU"
  },
  "cells": [
    {
      "cell_type": "markdown",
      "metadata": {
        "id": "view-in-github",
        "colab_type": "text"
      },
      "source": [
        "<a href=\"https://colab.research.google.com/github/NishaMDev/DeepLearning/blob/main/Assignment%232/DL_Pytorch_Assignment_2.ipynb\" target=\"_parent\"><img src=\"https://colab.research.google.com/assets/colab-badge.svg\" alt=\"Open In Colab\"/></a>"
      ]
    },
    {
      "cell_type": "markdown",
      "source": [
        "# **Assignment#2 - Practicing Tensor Operations usinf Pytorch**\n",
        "\n",
        " ***Author - Nisha Mohan Devadiga***"
      ],
      "metadata": {
        "id": "aQFiZ_SItrER"
      }
    },
    {
      "cell_type": "code",
      "source": [
        "import torch\n",
        "import numpy as np  "
      ],
      "metadata": {
        "id": "O3M8H18VNdNV"
      },
      "execution_count": 1,
      "outputs": []
    },
    {
      "cell_type": "markdown",
      "source": [
        "# Initializing a Tensor\n",
        "\n",
        "Tensors can be initialized in various ways"
      ],
      "metadata": {
        "id": "RbZuB9GkNyTW"
      }
    },
    {
      "cell_type": "markdown",
      "source": [
        "**Directly from data**\n",
        "\n",
        "Tensors can be created directly from data. The data type is automatically inferred"
      ],
      "metadata": {
        "id": "bM74U_tmN4Q2"
      }
    },
    {
      "cell_type": "code",
      "source": [
        "data = [[1,2],[3,4]]\n",
        "\n",
        "x_data = torch.tensor(data)\n",
        "\n",
        "x_data"
      ],
      "metadata": {
        "colab": {
          "base_uri": "https://localhost:8080/"
        },
        "id": "3OiWE6RqNdJb",
        "outputId": "ad13ad7b-9811-4a90-9c0e-757b9475943c"
      },
      "execution_count": 2,
      "outputs": [
        {
          "output_type": "execute_result",
          "data": {
            "text/plain": [
              "tensor([[1, 2],\n",
              "        [3, 4]])"
            ]
          },
          "metadata": {},
          "execution_count": 2
        }
      ]
    },
    {
      "cell_type": "markdown",
      "source": [
        "**From a NumPy array**\n",
        "\n",
        "Tensors can be created from NumPy arrays"
      ],
      "metadata": {
        "id": "uVm2wGscOIOV"
      }
    },
    {
      "cell_type": "code",
      "source": [
        "np_array = np.array(data)\n",
        "x_np = torch.from_numpy(np_array)\n",
        "\n",
        "x_np"
      ],
      "metadata": {
        "colab": {
          "base_uri": "https://localhost:8080/"
        },
        "id": "_ttEorHfNdFx",
        "outputId": "44a36bf2-cf2a-444d-e803-bcf328488210"
      },
      "execution_count": 3,
      "outputs": [
        {
          "output_type": "execute_result",
          "data": {
            "text/plain": [
              "tensor([[1, 2],\n",
              "        [3, 4]])"
            ]
          },
          "metadata": {},
          "execution_count": 3
        }
      ]
    },
    {
      "cell_type": "markdown",
      "source": [
        "**From another tensor:**\n",
        "\n",
        "The new tensor retains the properties (shape, datatype) of the argument tensor, unless explicitly overridden."
      ],
      "metadata": {
        "id": "s_ygXo1NOfeq"
      }
    },
    {
      "cell_type": "code",
      "source": [
        "x_ones = torch.ones_like(x_data)\n",
        "print(f\"Ones Tensor: \\n {x_ones} \\n\")\n",
        "\n",
        "x_rand = torch.rand_like(x_data,dtype=torch.float)\n",
        "print(f\"Random Tensor: \\n {x_rand} \\n\")"
      ],
      "metadata": {
        "colab": {
          "base_uri": "https://localhost:8080/"
        },
        "id": "8qnX9aOyNc_0",
        "outputId": "f7be4d18-e17b-4140-da37-8e8123f54d03"
      },
      "execution_count": 4,
      "outputs": [
        {
          "output_type": "stream",
          "name": "stdout",
          "text": [
            "Ones Tensor: \n",
            " tensor([[1, 1],\n",
            "        [1, 1]]) \n",
            "\n",
            "Random Tensor: \n",
            " tensor([[0.8803, 0.3798],\n",
            "        [0.5421, 0.5024]]) \n",
            "\n"
          ]
        }
      ]
    },
    {
      "cell_type": "markdown",
      "source": [
        "**With random or constant values:**"
      ],
      "metadata": {
        "id": "GUI8T0I6P1rx"
      }
    },
    {
      "cell_type": "code",
      "source": [
        "shape = (2,3,)\n",
        "\n",
        "rand_tensor = torch.rand(shape)\n",
        "ones_tensor = torch.ones(shape)\n",
        "zeros_tensor = torch.zeros(shape)\n",
        "\n",
        "print(f\"Random Tensor: \\n {rand_tensor} \\n\")\n",
        "print(f\"Ones Tensor: \\n {ones_tensor} \\n\")\n",
        "print(f\"Zeroes Tensor: \\n {zeros_tensor} \\n\")"
      ],
      "metadata": {
        "colab": {
          "base_uri": "https://localhost:8080/"
        },
        "id": "45RwNjUsNc45",
        "outputId": "09874871-830f-48bb-a332-1e5409080df0"
      },
      "execution_count": 5,
      "outputs": [
        {
          "output_type": "stream",
          "name": "stdout",
          "text": [
            "Random Tensor: \n",
            " tensor([[0.5316, 0.4945, 0.8346],\n",
            "        [0.7484, 0.1957, 0.7827]]) \n",
            "\n",
            "Ones Tensor: \n",
            " tensor([[1., 1., 1.],\n",
            "        [1., 1., 1.]]) \n",
            "\n",
            "Zeroes Tensor: \n",
            " tensor([[0., 0., 0.],\n",
            "        [0., 0., 0.]]) \n",
            "\n"
          ]
        }
      ]
    },
    {
      "cell_type": "markdown",
      "source": [
        "# Attributes of a Tensor\n",
        "\n",
        "Tensor attributes describe their shape, datatype, and the device on which they are stored."
      ],
      "metadata": {
        "id": "R-n25bpIQL9D"
      }
    },
    {
      "cell_type": "code",
      "source": [
        "tensor = torch.rand(3,4)\n",
        "\n",
        "print(f\"Shape of tensor: {tensor.shape}\")\n",
        "print(f\"Datatype of tensor: {tensor.dtype}\")\n",
        "print(f\"Device tensor is stored on: {tensor.device}\")"
      ],
      "metadata": {
        "colab": {
          "base_uri": "https://localhost:8080/"
        },
        "id": "v8tqt61CNc1u",
        "outputId": "db42bab4-2b28-4381-a4e2-d4ff4b08ceb2"
      },
      "execution_count": 6,
      "outputs": [
        {
          "output_type": "stream",
          "name": "stdout",
          "text": [
            "Shape of tensor: torch.Size([3, 4])\n",
            "Datatype of tensor: torch.float32\n",
            "Device tensor is stored on: cpu\n"
          ]
        }
      ]
    },
    {
      "cell_type": "markdown",
      "source": [
        "# Operations on Tensors"
      ],
      "metadata": {
        "id": "0o84cw8-Qdjg"
      }
    },
    {
      "cell_type": "code",
      "source": [
        "# We move our tensor to the GPU if available\n",
        "if torch.cuda.is_available():\n",
        "    tensor = tensor.to(\"cuda\")"
      ],
      "metadata": {
        "id": "cABwbpJ5NcyZ"
      },
      "execution_count": 7,
      "outputs": []
    },
    {
      "cell_type": "markdown",
      "source": [
        "Standard numpy-like indexing and slicing:"
      ],
      "metadata": {
        "id": "9WPwqipiQrmv"
      }
    },
    {
      "cell_type": "code",
      "source": [
        "tensor = torch.ones(4, 4)\n",
        "print(f\"First row: {tensor[0]}\")\n",
        "print(f\"First column: {tensor[:, 0]}\")\n",
        "print(f\"Last column: {tensor[..., -1]}\")\n",
        "tensor[:,1] = 0\n",
        "print(tensor)"
      ],
      "metadata": {
        "colab": {
          "base_uri": "https://localhost:8080/"
        },
        "id": "USyVeSk4Ncul",
        "outputId": "77e0c4da-ba54-47c8-cc9b-50d9917fe5f0"
      },
      "execution_count": 8,
      "outputs": [
        {
          "output_type": "stream",
          "name": "stdout",
          "text": [
            "First row: tensor([1., 1., 1., 1.])\n",
            "First column: tensor([1., 1., 1., 1.])\n",
            "Last column: tensor([1., 1., 1., 1.])\n",
            "tensor([[1., 0., 1., 1.],\n",
            "        [1., 0., 1., 1.],\n",
            "        [1., 0., 1., 1.],\n",
            "        [1., 0., 1., 1.]])\n"
          ]
        }
      ]
    },
    {
      "cell_type": "markdown",
      "source": [
        "**Joining tensors**\n",
        "\n",
        "You can use torch.cat to concatenate a sequence of tensors along a given dimension. See also torch.stack, another tensor joining op that is subtly different from torch.cat."
      ],
      "metadata": {
        "id": "EYa40pwvRPU3"
      }
    },
    {
      "cell_type": "code",
      "source": [
        "t1 = torch.cat([tensor,tensor,tensor], dim=1)\n",
        "print(t1)\n"
      ],
      "metadata": {
        "colab": {
          "base_uri": "https://localhost:8080/"
        },
        "id": "yEzp-qcHNcqV",
        "outputId": "67d256e7-31a0-4384-a90b-110e08f69c68"
      },
      "execution_count": 9,
      "outputs": [
        {
          "output_type": "stream",
          "name": "stdout",
          "text": [
            "tensor([[1., 0., 1., 1., 1., 0., 1., 1., 1., 0., 1., 1.],\n",
            "        [1., 0., 1., 1., 1., 0., 1., 1., 1., 0., 1., 1.],\n",
            "        [1., 0., 1., 1., 1., 0., 1., 1., 1., 0., 1., 1.],\n",
            "        [1., 0., 1., 1., 1., 0., 1., 1., 1., 0., 1., 1.]])\n"
          ]
        }
      ]
    },
    {
      "cell_type": "markdown",
      "source": [
        "**Arithmetic operations**"
      ],
      "metadata": {
        "id": "_3eLYmBkR8eQ"
      }
    },
    {
      "cell_type": "code",
      "source": [
        "# This computes the matrix multiplication between two tensors. y1, y2, y3 will have the same value\n",
        "y1 = tensor @ tensor.T\n",
        "y2 = tensor.matmul(tensor.T)\n",
        "\n",
        "y3 = torch.rand_like(tensor)\n",
        "torch.matmul(tensor, tensor.T, out=y3)"
      ],
      "metadata": {
        "colab": {
          "base_uri": "https://localhost:8080/"
        },
        "id": "CgG3xYuRNclg",
        "outputId": "65876b85-4752-44b7-b9e4-6ae147e7fa97"
      },
      "execution_count": 10,
      "outputs": [
        {
          "output_type": "execute_result",
          "data": {
            "text/plain": [
              "tensor([[3., 3., 3., 3.],\n",
              "        [3., 3., 3., 3.],\n",
              "        [3., 3., 3., 3.],\n",
              "        [3., 3., 3., 3.]])"
            ]
          },
          "metadata": {},
          "execution_count": 10
        }
      ]
    },
    {
      "cell_type": "code",
      "source": [
        "# This computes the element-wise product. z1, z2, z3 will have the same value\n",
        "z1 = tensor * tensor\n",
        "z2 = tensor.mul(tensor)\n",
        "\n",
        "z3 = torch.rand_like(tensor)\n",
        "torch.mul(tensor, tensor, out=z3)"
      ],
      "metadata": {
        "colab": {
          "base_uri": "https://localhost:8080/"
        },
        "id": "1i2XLt84NchB",
        "outputId": "2624d6fb-b855-4a90-f958-dcb3361b3071"
      },
      "execution_count": 11,
      "outputs": [
        {
          "output_type": "execute_result",
          "data": {
            "text/plain": [
              "tensor([[1., 0., 1., 1.],\n",
              "        [1., 0., 1., 1.],\n",
              "        [1., 0., 1., 1.],\n",
              "        [1., 0., 1., 1.]])"
            ]
          },
          "metadata": {},
          "execution_count": 11
        }
      ]
    },
    {
      "cell_type": "markdown",
      "source": [
        "**Single-element tensors** \n",
        "\n",
        "If you have a one-element tensor, for example by aggregating all values of a tensor into one value, you can convert it to a Python numerical value using item():"
      ],
      "metadata": {
        "id": "XhhgJr__SpIJ"
      }
    },
    {
      "cell_type": "code",
      "source": [
        "agg = tensor.sum()\n",
        "agg_item = agg.item()\n",
        "print(agg_item, type(agg_item))"
      ],
      "metadata": {
        "colab": {
          "base_uri": "https://localhost:8080/"
        },
        "id": "GYxjedDZNcd1",
        "outputId": "8f50c88e-3503-4c4b-d9a9-75d814cc8cfe"
      },
      "execution_count": 12,
      "outputs": [
        {
          "output_type": "stream",
          "name": "stdout",
          "text": [
            "12.0 <class 'float'>\n"
          ]
        }
      ]
    },
    {
      "cell_type": "markdown",
      "source": [
        "**In-place operations** \n",
        "\n",
        "Operations that store the result into the operand are called in-place. They are denoted by a _ suffix. For example: x.copy_(y), x.t_(), will change x."
      ],
      "metadata": {
        "id": "x3pNwLD3TGBi"
      }
    },
    {
      "cell_type": "code",
      "source": [
        "print(f\"{tensor} \\n\")\n",
        "tensor.add_(5)\n",
        "print(tensor)"
      ],
      "metadata": {
        "colab": {
          "base_uri": "https://localhost:8080/"
        },
        "id": "75ADgFjsNcZj",
        "outputId": "bc472127-b4dc-480e-a8a9-c33af414d310"
      },
      "execution_count": 13,
      "outputs": [
        {
          "output_type": "stream",
          "name": "stdout",
          "text": [
            "tensor([[1., 0., 1., 1.],\n",
            "        [1., 0., 1., 1.],\n",
            "        [1., 0., 1., 1.],\n",
            "        [1., 0., 1., 1.]]) \n",
            "\n",
            "tensor([[6., 5., 6., 6.],\n",
            "        [6., 5., 6., 6.],\n",
            "        [6., 5., 6., 6.],\n",
            "        [6., 5., 6., 6.]])\n"
          ]
        }
      ]
    },
    {
      "cell_type": "markdown",
      "source": [
        "**TORCH.COLUMN_STACK**\n",
        "\n",
        "Creates a new tensor by horizontally stacking the tensors in tensors."
      ],
      "metadata": {
        "id": "ycDwqPKtVHII"
      }
    },
    {
      "cell_type": "code",
      "source": [
        "a = torch.tensor([1, 2, 3])\n",
        "b = torch.tensor([4, 5, 6])\n",
        "\n",
        "torch.column_stack((a, b))"
      ],
      "metadata": {
        "colab": {
          "base_uri": "https://localhost:8080/"
        },
        "id": "w7V3k4acVGPY",
        "outputId": "e1232506-7fb8-424b-b8b4-70c5d53a7ea6"
      },
      "execution_count": 14,
      "outputs": [
        {
          "output_type": "execute_result",
          "data": {
            "text/plain": [
              "tensor([[1, 4],\n",
              "        [2, 5],\n",
              "        [3, 6]])"
            ]
          },
          "metadata": {},
          "execution_count": 14
        }
      ]
    },
    {
      "cell_type": "code",
      "source": [
        "a = torch.arange(5)\n",
        "print(f\"a: {a} \\n\")\n",
        "b = torch.arange(10).reshape(5, 2)\n",
        "print(f\"b: {b} \\n\")\n",
        "\n",
        "torch.column_stack((a, b, b))"
      ],
      "metadata": {
        "colab": {
          "base_uri": "https://localhost:8080/"
        },
        "id": "y6hgV1GIVd8w",
        "outputId": "218345fe-91f4-4d71-b745-26d7128c8b51"
      },
      "execution_count": 15,
      "outputs": [
        {
          "output_type": "stream",
          "name": "stdout",
          "text": [
            "a: tensor([0, 1, 2, 3, 4]) \n",
            "\n",
            "b: tensor([[0, 1],\n",
            "        [2, 3],\n",
            "        [4, 5],\n",
            "        [6, 7],\n",
            "        [8, 9]]) \n",
            "\n"
          ]
        },
        {
          "output_type": "execute_result",
          "data": {
            "text/plain": [
              "tensor([[0, 0, 1, 0, 1],\n",
              "        [1, 2, 3, 2, 3],\n",
              "        [2, 4, 5, 4, 5],\n",
              "        [3, 6, 7, 6, 7],\n",
              "        [4, 8, 9, 8, 9]])"
            ]
          },
          "metadata": {},
          "execution_count": 15
        }
      ]
    },
    {
      "cell_type": "markdown",
      "source": [
        "**TORCH.DSTACK**\n",
        "\n",
        "Stack tensors in sequence depthwise (along third axis)."
      ],
      "metadata": {
        "id": "aZV88uH9WJv-"
      }
    },
    {
      "cell_type": "code",
      "source": [
        "a = torch.tensor([1, 2, 3])\n",
        "\n",
        "b = torch.tensor([4, 5, 6])\n",
        "\n",
        "torch.dstack((a,b))"
      ],
      "metadata": {
        "colab": {
          "base_uri": "https://localhost:8080/"
        },
        "id": "zDNjm2BeWPlf",
        "outputId": "8af54be5-2ccb-480c-80d8-bbd469878a6d"
      },
      "execution_count": 16,
      "outputs": [
        {
          "output_type": "execute_result",
          "data": {
            "text/plain": [
              "tensor([[[1, 4],\n",
              "         [2, 5],\n",
              "         [3, 6]]])"
            ]
          },
          "metadata": {},
          "execution_count": 16
        }
      ]
    },
    {
      "cell_type": "code",
      "source": [
        "a = torch.tensor([[1],[2],[3]])\n",
        "b = torch.tensor([[4],[5],[6]])\n",
        "torch.dstack((a,b))"
      ],
      "metadata": {
        "colab": {
          "base_uri": "https://localhost:8080/"
        },
        "id": "qoubyLcxWddt",
        "outputId": "b623c967-f254-4aa4-ea9d-0c583952d818"
      },
      "execution_count": 17,
      "outputs": [
        {
          "output_type": "execute_result",
          "data": {
            "text/plain": [
              "tensor([[[1, 4]],\n",
              "\n",
              "        [[2, 5]],\n",
              "\n",
              "        [[3, 6]]])"
            ]
          },
          "metadata": {},
          "execution_count": 17
        }
      ]
    },
    {
      "cell_type": "markdown",
      "source": [
        "**TORCH.HSTACK**\n",
        "\n",
        "Stack tensors in sequence horizontally (column wise).\n",
        "\n",
        "This is equivalent to concatenation along the first axis for 1-D tensors, and along the second axis for all other tensors."
      ],
      "metadata": {
        "id": "fZ-eJyGHWx6b"
      }
    },
    {
      "cell_type": "code",
      "source": [
        "a = torch.tensor([1, 2, 3])\n",
        "b = torch.tensor([4, 5, 6])\n",
        "torch.hstack((a,b))\n"
      ],
      "metadata": {
        "colab": {
          "base_uri": "https://localhost:8080/"
        },
        "id": "uzCC9xI1W3w4",
        "outputId": "39949414-22e8-4f86-be86-e3c70a2ac6c7"
      },
      "execution_count": 18,
      "outputs": [
        {
          "output_type": "execute_result",
          "data": {
            "text/plain": [
              "tensor([1, 2, 3, 4, 5, 6])"
            ]
          },
          "metadata": {},
          "execution_count": 18
        }
      ]
    },
    {
      "cell_type": "code",
      "source": [
        "a = torch.tensor([[1],[2],[3]])\n",
        "b = torch.tensor([[4],[5],[6]])\n",
        "torch.hstack((a,b))"
      ],
      "metadata": {
        "colab": {
          "base_uri": "https://localhost:8080/"
        },
        "id": "TNfyw8hgXBAg",
        "outputId": "f5630a6b-d4fd-44b7-e113-3b0641f271af"
      },
      "execution_count": 19,
      "outputs": [
        {
          "output_type": "execute_result",
          "data": {
            "text/plain": [
              "tensor([[1, 4],\n",
              "        [2, 5],\n",
              "        [3, 6]])"
            ]
          },
          "metadata": {},
          "execution_count": 19
        }
      ]
    },
    {
      "cell_type": "markdown",
      "source": [
        "**TORCH.VSTACK**\n",
        "\n",
        "Stack tensors in sequence vertically (row wise).\n",
        "\n",
        "This is equivalent to concatenation along the first axis after all 1-D tensors have been reshaped by torch.atleast_2d()"
      ],
      "metadata": {
        "id": "dxshMwCJXfCT"
      }
    },
    {
      "cell_type": "code",
      "source": [
        "a = torch.tensor([1, 2, 3])\n",
        "b = torch.tensor([4, 5, 6])\n",
        "torch.vstack((a,b))\n"
      ],
      "metadata": {
        "colab": {
          "base_uri": "https://localhost:8080/"
        },
        "id": "-FVEux1gXY6s",
        "outputId": "8348b349-1ca8-472d-d28d-46e2deefb167"
      },
      "execution_count": 20,
      "outputs": [
        {
          "output_type": "execute_result",
          "data": {
            "text/plain": [
              "tensor([[1, 2, 3],\n",
              "        [4, 5, 6]])"
            ]
          },
          "metadata": {},
          "execution_count": 20
        }
      ]
    },
    {
      "cell_type": "code",
      "source": [
        "a = torch.tensor([[1],[2],[3]])\n",
        "b = torch.tensor([[4],[5],[6]])\n",
        "torch.vstack((a,b))"
      ],
      "metadata": {
        "colab": {
          "base_uri": "https://localhost:8080/"
        },
        "id": "4qfR0gEtXkj_",
        "outputId": "9fdf3517-3dd1-4dec-844b-906e6dffaf03"
      },
      "execution_count": 21,
      "outputs": [
        {
          "output_type": "execute_result",
          "data": {
            "text/plain": [
              "tensor([[1],\n",
              "        [2],\n",
              "        [3],\n",
              "        [4],\n",
              "        [5],\n",
              "        [6]])"
            ]
          },
          "metadata": {},
          "execution_count": 21
        }
      ]
    },
    {
      "cell_type": "markdown",
      "source": [
        "**Random sampling**\n",
        "\n",
        "Sets the seed for generating random numbers to a non-deterministic random number. Returns a 64 bit number used to seed the RNG."
      ],
      "metadata": {
        "id": "Vg0SHcyaXseY"
      }
    },
    {
      "cell_type": "code",
      "source": [
        "torch.seed()"
      ],
      "metadata": {
        "colab": {
          "base_uri": "https://localhost:8080/"
        },
        "id": "FuHOaFH7XyXO",
        "outputId": "6f8352a4-019a-4254-8d48-8d0a036de59c"
      },
      "execution_count": 22,
      "outputs": [
        {
          "output_type": "execute_result",
          "data": {
            "text/plain": [
              "13533127216589544896"
            ]
          },
          "metadata": {},
          "execution_count": 22
        }
      ]
    },
    {
      "cell_type": "markdown",
      "source": [
        "**In-place random sampling**\n",
        "There are a few more in-place random sampling functions defined on Tensors as well. \n",
        "\n",
        "torch.Tensor.bernoulli_() - in-place version of torch.bernoulli()\n",
        "\n",
        "torch.Tensor.cauchy_() - numbers drawn from the Cauchy distribution\n",
        "\n",
        "torch.Tensor.exponential_() - numbers drawn from the exponential distribution\n",
        "\n",
        "torch.Tensor.geometric_() - elements drawn from the geometric distribution\n",
        "\n",
        "torch.Tensor.log_normal_() - samples from the log-normal distribution\n",
        "\n",
        "torch.Tensor.normal_() - in-place version of torch.normal()\n",
        "\n",
        "torch.Tensor.random_() - numbers sampled from the discrete uniform distribution\n",
        "\n",
        "torch.Tensor.uniform_() - numbers sampled from the continuous uniform distribution"
      ],
      "metadata": {
        "id": "1W1Fyf8rX9lB"
      }
    },
    {
      "cell_type": "markdown",
      "source": [
        "# Bridge with NumPy\n",
        "\n",
        "Tensors on the CPU and NumPy arrays can share their underlying memory locations, and changing one will change the other."
      ],
      "metadata": {
        "id": "XAuCDAwNTUgU"
      }
    },
    {
      "cell_type": "markdown",
      "source": [
        "# Tensor to NumPy array"
      ],
      "metadata": {
        "id": "ixRsiKXbTbOF"
      }
    },
    {
      "cell_type": "code",
      "source": [
        "t = torch.ones(5)\n",
        "print(f\"t: {t}\")\n",
        "\n",
        "n = t.numpy()\n",
        "print(f\"n: {n}\")"
      ],
      "metadata": {
        "colab": {
          "base_uri": "https://localhost:8080/"
        },
        "id": "iivbBaVXTKXL",
        "outputId": "c797a661-370a-4c84-f679-e58c1c6c7deb"
      },
      "execution_count": 23,
      "outputs": [
        {
          "output_type": "stream",
          "name": "stdout",
          "text": [
            "t: tensor([1., 1., 1., 1., 1.])\n",
            "n: [1. 1. 1. 1. 1.]\n"
          ]
        }
      ]
    },
    {
      "cell_type": "markdown",
      "source": [
        "A change in the tensor reflects in the NumPy array."
      ],
      "metadata": {
        "id": "Ah7rhbz1UDps"
      }
    },
    {
      "cell_type": "code",
      "source": [
        "t.add_(1)\n",
        "print(f\"t: {t}\")\n",
        "print(f\"n: {n}\")"
      ],
      "metadata": {
        "colab": {
          "base_uri": "https://localhost:8080/"
        },
        "id": "-k6eqhuXTKTr",
        "outputId": "3f47762f-fabb-490d-d793-5296754feb25"
      },
      "execution_count": 24,
      "outputs": [
        {
          "output_type": "stream",
          "name": "stdout",
          "text": [
            "t: tensor([2., 2., 2., 2., 2.])\n",
            "n: [2. 2. 2. 2. 2.]\n"
          ]
        }
      ]
    },
    {
      "cell_type": "markdown",
      "source": [
        "# NumPy array to Tensor"
      ],
      "metadata": {
        "id": "09bd2tHDUPap"
      }
    },
    {
      "cell_type": "code",
      "source": [
        "n = np.ones(5)\n",
        "t = torch.from_numpy(n)\n",
        "\n",
        "np.add(n, 1, out=n)\n",
        "print(f\"t: {t}\")\n",
        "print(f\"n: {n}\")"
      ],
      "metadata": {
        "colab": {
          "base_uri": "https://localhost:8080/"
        },
        "id": "NLdKcjsTTKPx",
        "outputId": "b83e2a3c-182d-47a9-f24f-fb43d589fc7d"
      },
      "execution_count": 25,
      "outputs": [
        {
          "output_type": "stream",
          "name": "stdout",
          "text": [
            "t: tensor([2., 2., 2., 2., 2.], dtype=torch.float64)\n",
            "n: [2. 2. 2. 2. 2.]\n"
          ]
        }
      ]
    },
    {
      "cell_type": "markdown",
      "source": [
        "# **Practice from [Pytorch Doc](https://pytorch.org/docs/stable/torch.html)**"
      ],
      "metadata": {
        "id": "qxPuQN_85SiZ"
      }
    },
    {
      "cell_type": "code",
      "source": [
        "x=torch.tensor([1,2,3])  # Returns True if obj is a PyTorch tensor.\n",
        "torch.is_tensor(x)"
      ],
      "metadata": {
        "colab": {
          "base_uri": "https://localhost:8080/"
        },
        "id": "M8luEo0I5G9s",
        "outputId": "7a319799-dccb-4956-c615-fd41cfebc63f"
      },
      "execution_count": 26,
      "outputs": [
        {
          "output_type": "execute_result",
          "data": {
            "text/plain": [
              "True"
            ]
          },
          "metadata": {},
          "execution_count": 26
        }
      ]
    },
    {
      "cell_type": "markdown",
      "source": [
        "**Returns True if the input is a single element tensor which is not equal to zero after type conversions. i.e. not equal to torch.tensor([0.]) or torch.tensor([0]) or torch.tensor([False]). **"
      ],
      "metadata": {
        "id": "d5JC24b15nIS"
      }
    },
    {
      "cell_type": "code",
      "source": [
        "torch.is_nonzero(torch.tensor([0.]))"
      ],
      "metadata": {
        "colab": {
          "base_uri": "https://localhost:8080/"
        },
        "id": "xPOXBzg85G6l",
        "outputId": "78a8e501-846e-4409-8821-4c87c86e95d0"
      },
      "execution_count": 27,
      "outputs": [
        {
          "output_type": "execute_result",
          "data": {
            "text/plain": [
              "False"
            ]
          },
          "metadata": {},
          "execution_count": 27
        }
      ]
    },
    {
      "cell_type": "code",
      "source": [
        "torch.is_nonzero(torch.tensor([1.5]))\n"
      ],
      "metadata": {
        "colab": {
          "base_uri": "https://localhost:8080/"
        },
        "id": "4fVKgt-g5G3K",
        "outputId": "9f47ffd7-4b1f-46f1-c626-0303b1ff3cd8"
      },
      "execution_count": 28,
      "outputs": [
        {
          "output_type": "execute_result",
          "data": {
            "text/plain": [
              "True"
            ]
          },
          "metadata": {},
          "execution_count": 28
        }
      ]
    },
    {
      "cell_type": "markdown",
      "source": [
        "**Initial default for floating point is torch.float32**\n",
        "Python floats are interpreted as float32"
      ],
      "metadata": {
        "id": "3ZFiR-yk5078"
      }
    },
    {
      "cell_type": "code",
      "source": [
        "torch.tensor([1.2, 3]).dtype"
      ],
      "metadata": {
        "colab": {
          "base_uri": "https://localhost:8080/"
        },
        "id": "UPpvIwYo5Gzu",
        "outputId": "0ce7bfe8-3eeb-43ba-a58b-921ded913c9c"
      },
      "execution_count": 29,
      "outputs": [
        {
          "output_type": "execute_result",
          "data": {
            "text/plain": [
              "torch.float32"
            ]
          },
          "metadata": {},
          "execution_count": 29
        }
      ]
    },
    {
      "cell_type": "code",
      "source": [
        "torch.tensor([1.2, 3j]).dtype"
      ],
      "metadata": {
        "colab": {
          "base_uri": "https://localhost:8080/"
        },
        "id": "LOj5QkRo5Gsq",
        "outputId": "fa8e0051-1ed2-478a-f162-e1712e59e477"
      },
      "execution_count": 30,
      "outputs": [
        {
          "output_type": "execute_result",
          "data": {
            "text/plain": [
              "torch.complex64"
            ]
          },
          "metadata": {},
          "execution_count": 30
        }
      ]
    },
    {
      "cell_type": "code",
      "source": [
        "torch.set_default_dtype(torch.float64)"
      ],
      "metadata": {
        "id": "Q9i697Ow5_5p"
      },
      "execution_count": 31,
      "outputs": []
    },
    {
      "cell_type": "markdown",
      "source": [
        "**Get the current default floating point torch.dtype.**"
      ],
      "metadata": {
        "id": "kTSMw4vT6Cnq"
      }
    },
    {
      "cell_type": "code",
      "source": [
        "torch.get_default_dtype()  #torch.set_default_tensor_type(torch.FloatTensor)"
      ],
      "metadata": {
        "colab": {
          "base_uri": "https://localhost:8080/"
        },
        "id": "2sjJ2V_16GM5",
        "outputId": "e309c70b-09a7-4713-8ded-38768ed5d762"
      },
      "execution_count": 32,
      "outputs": [
        {
          "output_type": "execute_result",
          "data": {
            "text/plain": [
              "torch.float64"
            ]
          },
          "metadata": {},
          "execution_count": 32
        }
      ]
    },
    {
      "cell_type": "code",
      "source": [
        "torch.set_default_dtype(torch.float64)"
      ],
      "metadata": {
        "id": "MIEOifzz6J4g"
      },
      "execution_count": 33,
      "outputs": []
    },
    {
      "cell_type": "code",
      "source": [
        "torch.get_default_dtype()   # default is now changed to torch.float64"
      ],
      "metadata": {
        "colab": {
          "base_uri": "https://localhost:8080/"
        },
        "id": "y3hAxAv76L2c",
        "outputId": "0388daae-0480-40c9-dc9f-595c4bd1b125"
      },
      "execution_count": 34,
      "outputs": [
        {
          "output_type": "execute_result",
          "data": {
            "text/plain": [
              "torch.float64"
            ]
          },
          "metadata": {},
          "execution_count": 34
        }
      ]
    },
    {
      "cell_type": "code",
      "source": [
        "# setting tensor type also affects this\n",
        "\n",
        "torch.set_default_tensor_type(torch.FloatTensor)  "
      ],
      "metadata": {
        "id": "PA-XRhV86Y_o"
      },
      "execution_count": 35,
      "outputs": []
    },
    {
      "cell_type": "code",
      "source": [
        "torch.get_default_dtype()  # changed to torch.float32, the dtype for torch.FloatTensor"
      ],
      "metadata": {
        "colab": {
          "base_uri": "https://localhost:8080/"
        },
        "id": "QZ5BmmxB6emy",
        "outputId": "8fa5e059-a219-4a18-edfa-fbf9bddeb1f6"
      },
      "execution_count": 36,
      "outputs": [
        {
          "output_type": "execute_result",
          "data": {
            "text/plain": [
              "torch.float32"
            ]
          },
          "metadata": {},
          "execution_count": 36
        }
      ]
    },
    {
      "cell_type": "code",
      "source": [
        "torch.tensor([1.2, 3]).dtype    # initial default for floating point is torch.float32\n",
        "torch.set_default_tensor_type(torch.DoubleTensor)\n",
        "torch.tensor([1.2, 3]).dtype    # a new floating point tensor"
      ],
      "metadata": {
        "colab": {
          "base_uri": "https://localhost:8080/"
        },
        "id": "35EcR6_26xH4",
        "outputId": "6ac5cf3e-343d-4c25-fa7d-9cf8ee04d300"
      },
      "execution_count": 37,
      "outputs": [
        {
          "output_type": "execute_result",
          "data": {
            "text/plain": [
              "torch.float64"
            ]
          },
          "metadata": {},
          "execution_count": 37
        }
      ]
    },
    {
      "cell_type": "markdown",
      "source": [
        "**Returns the total number of elements in the input tensor.**"
      ],
      "metadata": {
        "id": "O2JUnL8r651F"
      }
    },
    {
      "cell_type": "code",
      "source": [
        "a = torch.randn(1, 2, 3, 4, 5)\n",
        "torch.numel(a)\n"
      ],
      "metadata": {
        "colab": {
          "base_uri": "https://localhost:8080/"
        },
        "id": "ZsOi9ha961jI",
        "outputId": "85f9cac9-1934-4735-bdef-cd516bdc79c4"
      },
      "execution_count": 38,
      "outputs": [
        {
          "output_type": "execute_result",
          "data": {
            "text/plain": [
              "120"
            ]
          },
          "metadata": {},
          "execution_count": 38
        }
      ]
    },
    {
      "cell_type": "code",
      "source": [
        "a = torch.zeros(4,4)\n",
        "torch.numel(a)"
      ],
      "metadata": {
        "colab": {
          "base_uri": "https://localhost:8080/"
        },
        "id": "riluJwtq67np",
        "outputId": "71f3532d-5ad2-4d9c-844a-6256355b0e7a"
      },
      "execution_count": 39,
      "outputs": [
        {
          "output_type": "execute_result",
          "data": {
            "text/plain": [
              "16"
            ]
          },
          "metadata": {},
          "execution_count": 39
        }
      ]
    },
    {
      "cell_type": "markdown",
      "source": [
        "Disables denormal floating numbers on CPU."
      ],
      "metadata": {
        "id": "X014hT1M7Ouo"
      }
    },
    {
      "cell_type": "code",
      "source": [
        "torch.set_flush_denormal(True)\n",
        "torch.tensor([1e-323], dtype=torch.float64)\n"
      ],
      "metadata": {
        "colab": {
          "base_uri": "https://localhost:8080/"
        },
        "id": "0weCOnLK7EBY",
        "outputId": "474a6617-d25a-43e1-92bf-7155e2277de0"
      },
      "execution_count": 40,
      "outputs": [
        {
          "output_type": "execute_result",
          "data": {
            "text/plain": [
              "tensor([0.])"
            ]
          },
          "metadata": {},
          "execution_count": 40
        }
      ]
    },
    {
      "cell_type": "code",
      "source": [
        "torch.set_flush_denormal(False)\n",
        "torch.tensor([1e-323], dtype=torch.float64)"
      ],
      "metadata": {
        "colab": {
          "base_uri": "https://localhost:8080/"
        },
        "id": "K--rTwjU7My0",
        "outputId": "38290655-3f3c-4c24-f3d4-891825c6f148"
      },
      "execution_count": 41,
      "outputs": [
        {
          "output_type": "execute_result",
          "data": {
            "text/plain": [
              "tensor([0.])"
            ]
          },
          "metadata": {},
          "execution_count": 41
        }
      ]
    },
    {
      "cell_type": "code",
      "source": [
        "torch.tensor([[0.1, 1.2], [2.2, 3.1], [4.9, 5.2]])\n",
        "\n"
      ],
      "metadata": {
        "colab": {
          "base_uri": "https://localhost:8080/"
        },
        "id": "E4MNeRWX7eF_",
        "outputId": "ded67774-0421-4d9c-cb73-7336e11053a6"
      },
      "execution_count": 42,
      "outputs": [
        {
          "output_type": "execute_result",
          "data": {
            "text/plain": [
              "tensor([[0.1000, 1.2000],\n",
              "        [2.2000, 3.1000],\n",
              "        [4.9000, 5.2000]])"
            ]
          },
          "metadata": {},
          "execution_count": 42
        }
      ]
    },
    {
      "cell_type": "code",
      "source": [
        "torch.tensor([0, 1])  # Type inference on data\n",
        "\n"
      ],
      "metadata": {
        "colab": {
          "base_uri": "https://localhost:8080/"
        },
        "id": "Y2Mg1Bsl7gJN",
        "outputId": "a1c1f5f4-f6f9-4274-9bec-681ccc30dbef"
      },
      "execution_count": 43,
      "outputs": [
        {
          "output_type": "execute_result",
          "data": {
            "text/plain": [
              "tensor([0, 1])"
            ]
          },
          "metadata": {},
          "execution_count": 43
        }
      ]
    },
    {
      "cell_type": "code",
      "source": [
        "torch.tensor([[0.11111, 0.222222, 0.3333333]],\n",
        "             dtype=torch.float64,\n",
        "             device=torch.device('cuda:0'))  # creates a torch.cuda.DoubleTensor\n",
        "\n"
      ],
      "metadata": {
        "colab": {
          "base_uri": "https://localhost:8080/"
        },
        "id": "Xf1exm7t7h2j",
        "outputId": "5d5ac89a-1245-4ee5-f5cf-ad4a20109f2d"
      },
      "execution_count": 44,
      "outputs": [
        {
          "output_type": "execute_result",
          "data": {
            "text/plain": [
              "tensor([[0.1111, 0.2222, 0.3333]], device='cuda:0')"
            ]
          },
          "metadata": {},
          "execution_count": 44
        }
      ]
    },
    {
      "cell_type": "code",
      "source": [
        "torch.tensor(3.14159)  # Create a scalar (zero-dimensional tensor)\n"
      ],
      "metadata": {
        "colab": {
          "base_uri": "https://localhost:8080/"
        },
        "id": "wydZnNov7jQa",
        "outputId": "73480c83-f734-4c6b-e62a-b08a74d75588"
      },
      "execution_count": 45,
      "outputs": [
        {
          "output_type": "execute_result",
          "data": {
            "text/plain": [
              "tensor(3.1416)"
            ]
          },
          "metadata": {},
          "execution_count": 45
        }
      ]
    },
    {
      "cell_type": "code",
      "source": [
        "\n",
        "torch.tensor([])  # Create an empty tensor (of size (0,))"
      ],
      "metadata": {
        "colab": {
          "base_uri": "https://localhost:8080/"
        },
        "id": "76mXA6nV7k9_",
        "outputId": "51fcbcce-d416-4522-e982-688154223e58"
      },
      "execution_count": 46,
      "outputs": [
        {
          "output_type": "execute_result",
          "data": {
            "text/plain": [
              "tensor([])"
            ]
          },
          "metadata": {},
          "execution_count": 46
        }
      ]
    },
    {
      "cell_type": "markdown",
      "source": [
        "**This function returns an uncoalesced tensor.**"
      ],
      "metadata": {
        "id": "y5QfPTLq7rbI"
      }
    },
    {
      "cell_type": "code",
      "source": [
        "i = torch.tensor([[0, 1, 1],\n",
        "                  [2, 0, 2]])\n",
        "v = torch.tensor([3, 4, 5], dtype=torch.float32)\n",
        "torch.sparse_coo_tensor(i, v, [2, 4])\n"
      ],
      "metadata": {
        "colab": {
          "base_uri": "https://localhost:8080/"
        },
        "id": "OWL9S9Ag7tLn",
        "outputId": "c5713327-61c2-417e-fe5f-9684a0795c93"
      },
      "execution_count": 47,
      "outputs": [
        {
          "output_type": "execute_result",
          "data": {
            "text/plain": [
              "tensor(indices=tensor([[0, 1, 1],\n",
              "                       [2, 0, 2]]),\n",
              "       values=tensor([3., 4., 5.]),\n",
              "       size=(2, 4), nnz=3, dtype=torch.float32, layout=torch.sparse_coo)"
            ]
          },
          "metadata": {},
          "execution_count": 47
        }
      ]
    },
    {
      "cell_type": "code",
      "source": [
        "\n",
        "torch.sparse_coo_tensor(i, v)  # Shape inference\n",
        "\n"
      ],
      "metadata": {
        "colab": {
          "base_uri": "https://localhost:8080/"
        },
        "id": "W1K87gjv70QI",
        "outputId": "7c6cecbe-0aa9-421c-91b4-15444f0a4871"
      },
      "execution_count": 48,
      "outputs": [
        {
          "output_type": "execute_result",
          "data": {
            "text/plain": [
              "tensor(indices=tensor([[0, 1, 1],\n",
              "                       [2, 0, 2]]),\n",
              "       values=tensor([3., 4., 5.]),\n",
              "       size=(2, 3), nnz=3, dtype=torch.float32, layout=torch.sparse_coo)"
            ]
          },
          "metadata": {},
          "execution_count": 48
        }
      ]
    },
    {
      "cell_type": "code",
      "source": [
        "torch.sparse_coo_tensor(i, v, [2, 4],\n",
        "                        dtype=torch.float64,\n",
        "                        device=torch.device('cuda:0'))\n"
      ],
      "metadata": {
        "colab": {
          "base_uri": "https://localhost:8080/"
        },
        "id": "YSvzuFam72HY",
        "outputId": "6a478f07-c959-4111-fabd-218dfd843274"
      },
      "execution_count": 49,
      "outputs": [
        {
          "output_type": "execute_result",
          "data": {
            "text/plain": [
              "tensor(indices=tensor([[0, 1, 1],\n",
              "                       [2, 0, 2]]),\n",
              "       values=tensor([3., 4., 5.]),\n",
              "       device='cuda:0', size=(2, 4), nnz=3, layout=torch.sparse_coo)"
            ]
          },
          "metadata": {},
          "execution_count": 49
        }
      ]
    },
    {
      "cell_type": "code",
      "source": [
        "S = torch.sparse_coo_tensor(torch.empty([1, 0]), [], [1])"
      ],
      "metadata": {
        "id": "kcO9AiN0749Z"
      },
      "execution_count": 50,
      "outputs": []
    },
    {
      "cell_type": "code",
      "source": [
        "S = torch.sparse_coo_tensor(torch.empty([1, 0]), torch.empty([0, 2]), [1, 2])"
      ],
      "metadata": {
        "id": "tldL3W0W776u"
      },
      "execution_count": 51,
      "outputs": []
    },
    {
      "cell_type": "markdown",
      "source": [
        "**Create a view of an existing torch.Tensor input with specified size, stride and storage_offset.**\n",
        "\n",
        "torch.as_strided(input, size, stride, storage_offset=0) → Tensor\n",
        "\n",
        "\n",
        "input (Tensor) – the input tensor.\n",
        "\n",
        "size (tuple or ints) – the shape of the output tensor\n",
        "\n",
        "stride (tuple or ints) – the stride of the output tensor\n",
        "\n",
        "storage_offset (int, optional) – the offset in the underlying storage of the output tensor"
      ],
      "metadata": {
        "id": "TAWWRlo-8c97"
      }
    },
    {
      "cell_type": "code",
      "source": [
        "x = torch.randn(3, 3)\n",
        "x\n"
      ],
      "metadata": {
        "colab": {
          "base_uri": "https://localhost:8080/"
        },
        "id": "NMNN5SnC8fqw",
        "outputId": "855adfed-7595-4fe9-83bd-e7728a18e76f"
      },
      "execution_count": 52,
      "outputs": [
        {
          "output_type": "execute_result",
          "data": {
            "text/plain": [
              "tensor([[-0.0144, -0.7618,  0.7279],\n",
              "        [-0.2322,  0.4888,  0.7036],\n",
              "        [ 1.0563,  0.1516, -0.8000]])"
            ]
          },
          "metadata": {},
          "execution_count": 52
        }
      ]
    },
    {
      "cell_type": "code",
      "source": [
        "t = torch.as_strided(x, (2, 2), (1, 2))\n",
        "t\n"
      ],
      "metadata": {
        "colab": {
          "base_uri": "https://localhost:8080/"
        },
        "id": "SB-l1gwu8iJ4",
        "outputId": "26330007-c285-4789-c722-32ccd0758faa"
      },
      "execution_count": 53,
      "outputs": [
        {
          "output_type": "execute_result",
          "data": {
            "text/plain": [
              "tensor([[-0.0144,  0.7279],\n",
              "        [-0.7618, -0.2322]])"
            ]
          },
          "metadata": {},
          "execution_count": 53
        }
      ]
    },
    {
      "cell_type": "code",
      "source": [
        "t = torch.as_strided(x, (2, 2), (1, 2), 1)\n",
        "t"
      ],
      "metadata": {
        "colab": {
          "base_uri": "https://localhost:8080/"
        },
        "id": "XmWzNfon8kJP",
        "outputId": "3c024403-4a2b-4a53-b302-c3386030beff"
      },
      "execution_count": 54,
      "outputs": [
        {
          "output_type": "execute_result",
          "data": {
            "text/plain": [
              "tensor([[-0.7618, -0.2322],\n",
              "        [ 0.7279,  0.4888]])"
            ]
          },
          "metadata": {},
          "execution_count": 54
        }
      ]
    },
    {
      "cell_type": "markdown",
      "source": [
        "**Return Zeroes**"
      ],
      "metadata": {
        "id": "BhaRHkRA-5Qj"
      }
    },
    {
      "cell_type": "code",
      "source": [
        "torch.zeros(2, 3)\n",
        "\n"
      ],
      "metadata": {
        "colab": {
          "base_uri": "https://localhost:8080/"
        },
        "id": "NFZw27KT-3Im",
        "outputId": "05b7a896-308d-4ff8-8d92-69998dd0fa71"
      },
      "execution_count": 55,
      "outputs": [
        {
          "output_type": "execute_result",
          "data": {
            "text/plain": [
              "tensor([[0., 0., 0.],\n",
              "        [0., 0., 0.]])"
            ]
          },
          "metadata": {},
          "execution_count": 55
        }
      ]
    },
    {
      "cell_type": "code",
      "source": [
        "torch.zeros(5)"
      ],
      "metadata": {
        "colab": {
          "base_uri": "https://localhost:8080/"
        },
        "id": "tNstdRcf-28E",
        "outputId": "bce85a76-f6f0-4221-f965-969d7628d527"
      },
      "execution_count": 56,
      "outputs": [
        {
          "output_type": "execute_result",
          "data": {
            "text/plain": [
              "tensor([0., 0., 0., 0., 0.])"
            ]
          },
          "metadata": {},
          "execution_count": 56
        }
      ]
    },
    {
      "cell_type": "markdown",
      "source": [
        "**Returns a tensor filled with the scalar value 0, with the same size as input. torch.zeros_like(input) is equivalent to torch.zeros(input.size(), dtype=input.dtype, layout=input.layout, device=input.device).**"
      ],
      "metadata": {
        "id": "OFOXhwgg_B3M"
      }
    },
    {
      "cell_type": "code",
      "source": [
        "input = torch.empty(2, 3)\n",
        "torch.zeros_like(input)"
      ],
      "metadata": {
        "colab": {
          "base_uri": "https://localhost:8080/"
        },
        "id": "jvx4cDgS--eM",
        "outputId": "c09a5c0e-0ef4-4225-d728-1f08190c5d2a"
      },
      "execution_count": 57,
      "outputs": [
        {
          "output_type": "execute_result",
          "data": {
            "text/plain": [
              "tensor([[0., 0., 0.],\n",
              "        [0., 0., 0.]])"
            ]
          },
          "metadata": {},
          "execution_count": 57
        }
      ]
    },
    {
      "cell_type": "markdown",
      "source": [
        "**Returns a tensor filled with the scalar value 1, with the shape defined by the variable argument size.**"
      ],
      "metadata": {
        "id": "eQlCuiRp_Hht"
      }
    },
    {
      "cell_type": "code",
      "source": [
        "torch.ones(2, 3)\n",
        "\n",
        "torch.ones(5)"
      ],
      "metadata": {
        "colab": {
          "base_uri": "https://localhost:8080/"
        },
        "id": "lmtE3RB__I8F",
        "outputId": "db29c722-c5cd-4727-cf0d-e76680f38b27"
      },
      "execution_count": 58,
      "outputs": [
        {
          "output_type": "execute_result",
          "data": {
            "text/plain": [
              "tensor([1., 1., 1., 1., 1.])"
            ]
          },
          "metadata": {},
          "execution_count": 58
        }
      ]
    },
    {
      "cell_type": "code",
      "source": [
        "input = torch.empty(2, 3)\n",
        "torch.ones_like(input)"
      ],
      "metadata": {
        "colab": {
          "base_uri": "https://localhost:8080/"
        },
        "id": "73qkQBfD_NJv",
        "outputId": "489fdb7d-88de-481f-c800-2496b42e82f6"
      },
      "execution_count": 59,
      "outputs": [
        {
          "output_type": "execute_result",
          "data": {
            "text/plain": [
              "tensor([[1., 1., 1.],\n",
              "        [1., 1., 1.]])"
            ]
          },
          "metadata": {},
          "execution_count": 59
        }
      ]
    },
    {
      "cell_type": "markdown",
      "source": [
        "Returns a 1-D tensor of size $\\frac{\\text{end} - \\text{start}}{\\text{step}}$\n",
        "​with values from the interval [start, end) taken with common difference step beginning from start. \n",
        "\n",
        "``` python\n",
        "Parameters\n",
        "\n",
        "start (Number) – the starting value for the set of points. Default: 0.\n",
        "\n",
        "end (Number) – the ending value for the set of points\n",
        "\n",
        "step (Number) – the gap between each pair of adjacent points. Default: 1.\n",
        "```"
      ],
      "metadata": {
        "id": "whrRTlm9_XRB"
      }
    },
    {
      "cell_type": "code",
      "source": [
        "torch.arange(5)\n",
        "torch.arange(1, 4)\n",
        "torch.arange(1, 2.5, 0.5)"
      ],
      "metadata": {
        "colab": {
          "base_uri": "https://localhost:8080/"
        },
        "id": "UEWAAqrz_QIu",
        "outputId": "8ba996bb-a724-447c-b801-83df51bdd0e9"
      },
      "execution_count": 60,
      "outputs": [
        {
          "output_type": "execute_result",
          "data": {
            "text/plain": [
              "tensor([1.0000, 1.5000, 2.0000])"
            ]
          },
          "metadata": {},
          "execution_count": 60
        }
      ]
    },
    {
      "cell_type": "markdown",
      "source": [
        "**Creates a one-dimensional tensor of size steps whose values are evenly spaced from start to end, inclusive.** That is, the value are:"
      ],
      "metadata": {
        "id": "tmPSao_MAOe7"
      }
    },
    {
      "cell_type": "code",
      "source": [
        "torch.linspace(3, 10, steps=5)\n"
      ],
      "metadata": {
        "colab": {
          "base_uri": "https://localhost:8080/"
        },
        "id": "3P9aMuTDARcb",
        "outputId": "0ee14f2d-3303-4bb1-d915-5ee4aafebd2b"
      },
      "execution_count": 61,
      "outputs": [
        {
          "output_type": "execute_result",
          "data": {
            "text/plain": [
              "tensor([ 3.0000,  4.7500,  6.5000,  8.2500, 10.0000])"
            ]
          },
          "metadata": {},
          "execution_count": 61
        }
      ]
    },
    {
      "cell_type": "code",
      "source": [
        "torch.linspace(-10, 10, steps=5)\n"
      ],
      "metadata": {
        "colab": {
          "base_uri": "https://localhost:8080/"
        },
        "id": "IDNQJKf3AS9G",
        "outputId": "555c1e40-ed66-4581-be4e-3bd0a9a63452"
      },
      "execution_count": 62,
      "outputs": [
        {
          "output_type": "execute_result",
          "data": {
            "text/plain": [
              "tensor([-10.,  -5.,   0.,   5.,  10.])"
            ]
          },
          "metadata": {},
          "execution_count": 62
        }
      ]
    },
    {
      "cell_type": "code",
      "source": [
        "torch.linspace(start=-10, end=10, steps=5)\n"
      ],
      "metadata": {
        "colab": {
          "base_uri": "https://localhost:8080/"
        },
        "id": "aXac9FwHAUvw",
        "outputId": "7c89596b-ab66-444d-fe88-f4d92d64354b"
      },
      "execution_count": 63,
      "outputs": [
        {
          "output_type": "execute_result",
          "data": {
            "text/plain": [
              "tensor([-10.,  -5.,   0.,   5.,  10.])"
            ]
          },
          "metadata": {},
          "execution_count": 63
        }
      ]
    },
    {
      "cell_type": "code",
      "source": [
        "torch.linspace(start=-10, end=10, steps=1)"
      ],
      "metadata": {
        "colab": {
          "base_uri": "https://localhost:8080/"
        },
        "id": "Crne5SIdAW3M",
        "outputId": "d2868abd-25ea-4c6e-b68f-5b5ba0c2a137"
      },
      "execution_count": 64,
      "outputs": [
        {
          "output_type": "execute_result",
          "data": {
            "text/plain": [
              "tensor([-10.])"
            ]
          },
          "metadata": {},
          "execution_count": 64
        }
      ]
    },
    {
      "cell_type": "markdown",
      "source": [
        "Creates a one-dimensional tensor of size steps whose values are evenly spaced from ${{\\text{{base}}}}^{{\\text{{start}}}}$\n",
        "  to ${{\\text{{base}}}}^{{\\text{{end}}}}$\n",
        " , inclusive, on a logarithmic scale with base base. That is, the values are:\n",
        "\n",
        "$(\\text{base}^{\\text{start}}, \\text{base}^{(\\text{start} + \\frac{\\text{end} - \\text{start}}{ \\text{steps} - 1})}, \\ldots, \\text{base}^{(\\text{start} + (\\text{steps} - 2) * \\frac{\\text{end} - \\text{start}}{ \\text{steps} - 1})}, \\text{base}^{\\text{end}}$)\n"
      ],
      "metadata": {
        "id": "jFwMsYqWAvTX"
      }
    },
    {
      "cell_type": "code",
      "source": [
        "print(torch.logspace(start=-10, end=10, steps=5))\n",
        "print(torch.logspace(start=0.1, end=1.0, steps=5))\n",
        "print(torch.logspace(start=0.1, end=1.0, steps=1))\n",
        "print(torch.logspace(start=2, end=2, steps=1, base=2))"
      ],
      "metadata": {
        "colab": {
          "base_uri": "https://localhost:8080/"
        },
        "id": "8E4DZ3FzAgum",
        "outputId": "b7e84970-a857-4475-8466-037c23d79e41"
      },
      "execution_count": 65,
      "outputs": [
        {
          "output_type": "stream",
          "name": "stdout",
          "text": [
            "tensor([1.0000e-10, 1.0000e-05, 1.0000e+00, 1.0000e+05, 1.0000e+10])\n",
            "tensor([ 1.2589,  2.1135,  3.5481,  5.9566, 10.0000])\n",
            "tensor([1.2589])\n",
            "tensor([4.])\n"
          ]
        }
      ]
    },
    {
      "cell_type": "markdown",
      "source": [
        "**Returns A 2-D tensor with ones on the diagonal and zeros elsewhere**"
      ],
      "metadata": {
        "id": "aoGSV4A2BFhs"
      }
    },
    {
      "cell_type": "code",
      "source": [
        "torch.eye(3)"
      ],
      "metadata": {
        "colab": {
          "base_uri": "https://localhost:8080/"
        },
        "id": "1771mr-jBKOj",
        "outputId": "445939cb-293e-4aec-aebb-de6bbef411ff"
      },
      "execution_count": 66,
      "outputs": [
        {
          "output_type": "execute_result",
          "data": {
            "text/plain": [
              "tensor([[1., 0., 0.],\n",
              "        [0., 1., 0.],\n",
              "        [0., 0., 1.]])"
            ]
          },
          "metadata": {},
          "execution_count": 66
        }
      ]
    },
    {
      "cell_type": "markdown",
      "source": [
        "**Returns a tensor filled with uninitialized data.**\n",
        "\n",
        "The shape of the tensor is defined by the variable argument size."
      ],
      "metadata": {
        "id": "JYU_gAVtBO17"
      }
    },
    {
      "cell_type": "code",
      "source": [
        "a=torch.empty((2,3), dtype=torch.int32, device = 'cuda')\n",
        "torch.empty_like(a)"
      ],
      "metadata": {
        "colab": {
          "base_uri": "https://localhost:8080/"
        },
        "id": "KKdB9rl4BM-q",
        "outputId": "03810289-c4ef-452a-a06c-556852ceae92"
      },
      "execution_count": 67,
      "outputs": [
        {
          "output_type": "execute_result",
          "data": {
            "text/plain": [
              "tensor([[         0, 1074266112,          0],\n",
              "        [1074790400,          0, 1075052544]], device='cuda:0',\n",
              "       dtype=torch.int32)"
            ]
          },
          "metadata": {},
          "execution_count": 67
        }
      ]
    },
    {
      "cell_type": "code",
      "source": [
        "torch.empty((2,3), dtype=torch.int64)"
      ],
      "metadata": {
        "colab": {
          "base_uri": "https://localhost:8080/"
        },
        "id": "ZvIjQu9KBTFs",
        "outputId": "be7f0e51-8638-4efc-dc01-73ffe895cb84"
      },
      "execution_count": 68,
      "outputs": [
        {
          "output_type": "execute_result",
          "data": {
            "text/plain": [
              "tensor([[     94220741948480,          1075052544, 4615172110237564927],\n",
              "        [8171062582517395298, 8243662592152856949, 7310305785198503009]])"
            ]
          },
          "metadata": {},
          "execution_count": 68
        }
      ]
    },
    {
      "cell_type": "code",
      "source": [
        "a = torch.empty_strided((2, 3), (1, 2))\n",
        "print(a)\n",
        "print(a.stride())\n",
        "print(a.size())"
      ],
      "metadata": {
        "colab": {
          "base_uri": "https://localhost:8080/"
        },
        "id": "G0EzZvhCBbY8",
        "outputId": "ec686aa0-ae8a-4c6d-bd37-2ccaa510d911"
      },
      "execution_count": 69,
      "outputs": [
        {
          "output_type": "stream",
          "name": "stdout",
          "text": [
            "tensor([[4.6551e-310, 2.1220e-314, 1.2468e+243],\n",
            "        [1.1858e-322, 1.7456e+238, 5.0373e+180]])\n",
            "(1, 2)\n",
            "torch.Size([2, 3])\n"
          ]
        }
      ]
    },
    {
      "cell_type": "markdown",
      "source": [
        "**Creates a tensor of size size filled with fill_value.** The tensor’s dtype is inferred from fill_value."
      ],
      "metadata": {
        "id": "KOGRqMCqBonP"
      }
    },
    {
      "cell_type": "code",
      "source": [
        "torch.full((2, 3), 3.141592)"
      ],
      "metadata": {
        "colab": {
          "base_uri": "https://localhost:8080/"
        },
        "id": "bNsH9i7lBlnG",
        "outputId": "23e9a209-227b-4fd7-bd4c-84284ff7355d"
      },
      "execution_count": 70,
      "outputs": [
        {
          "output_type": "execute_result",
          "data": {
            "text/plain": [
              "tensor([[3.1416, 3.1416, 3.1416],\n",
              "        [3.1416, 3.1416, 3.1416]])"
            ]
          },
          "metadata": {},
          "execution_count": 70
        }
      ]
    },
    {
      "cell_type": "markdown",
      "source": [
        "**Constructs a complex tensor with its real part equal to real and its imaginary part equal to imag.**"
      ],
      "metadata": {
        "id": "Ydg5pb5dBvax"
      }
    },
    {
      "cell_type": "code",
      "source": [
        "real = torch.tensor([1, 2], dtype=torch.float32)\n",
        "imag = torch.tensor([3, 4], dtype=torch.float32)\n",
        "z = torch.complex(real, imag)\n",
        "z\n",
        "z.dtype"
      ],
      "metadata": {
        "colab": {
          "base_uri": "https://localhost:8080/"
        },
        "id": "QzcyUMP6CX3h",
        "outputId": "f6b497bb-52a6-4ba3-e8c1-6b0886c901ba"
      },
      "execution_count": 71,
      "outputs": [
        {
          "output_type": "execute_result",
          "data": {
            "text/plain": [
              "torch.complex64"
            ]
          },
          "metadata": {},
          "execution_count": 71
        }
      ]
    },
    {
      "cell_type": "markdown",
      "source": [
        "**Constructs a complex tensor whose elements are Cartesian coordinates corresponding to the polar coordinates with absolute value abs and angle angle.**"
      ],
      "metadata": {
        "id": "5i_oHns1Cni0"
      }
    },
    {
      "cell_type": "code",
      "source": [
        "import numpy as np\n",
        "abs = torch.tensor([1, 2], dtype=torch.float64)\n",
        "angle = torch.tensor([np.pi / 2, 5 * np.pi / 4], dtype=torch.float64)\n",
        "z = torch.polar(abs, angle)\n",
        "z"
      ],
      "metadata": {
        "colab": {
          "base_uri": "https://localhost:8080/"
        },
        "id": "NS1RzCFLCpNj",
        "outputId": "dd51b52f-bff2-4da4-92d3-3af2f829449b"
      },
      "execution_count": 72,
      "outputs": [
        {
          "output_type": "execute_result",
          "data": {
            "text/plain": [
              "tensor([ 6.1232e-17+1.0000j, -1.4142e+00-1.4142j])"
            ]
          },
          "metadata": {},
          "execution_count": 72
        }
      ]
    },
    {
      "cell_type": "markdown",
      "source": [
        "**Computes the Heaviside step function for each element in input.** The Heaviside step function is defined as:\n",
        "\n",
        "$\\text{{heaviside}}(input, values) = \\begin{cases} 0, & \\text{if input < 0}\\\\ values, & \\text{if input == 0}\\\\ 1, & \\text{if input > 0} \\end{cases}$\n",
        "\n",
        "​\n"
      ],
      "metadata": {
        "id": "qkAYddfxCsuz"
      }
    },
    {
      "cell_type": "code",
      "source": [
        "input = torch.tensor([-1.5, 0, 2.0])\n",
        "values = torch.tensor([0.5])\n",
        "torch.heaviside(input, values)\n"
      ],
      "metadata": {
        "colab": {
          "base_uri": "https://localhost:8080/"
        },
        "id": "OLKjS0juC2Lr",
        "outputId": "49be1587-5400-41a6-c65f-9917c9840a9e"
      },
      "execution_count": 73,
      "outputs": [
        {
          "output_type": "execute_result",
          "data": {
            "text/plain": [
              "tensor([0.0000, 0.5000, 1.0000])"
            ]
          },
          "metadata": {},
          "execution_count": 73
        }
      ]
    },
    {
      "cell_type": "code",
      "source": [
        "values = torch.tensor([1.2, -2.0, 3.5])\n",
        "torch.heaviside(input, values)"
      ],
      "metadata": {
        "colab": {
          "base_uri": "https://localhost:8080/"
        },
        "id": "uGqwAu26C5g4",
        "outputId": "1b9e927b-94a9-49b9-a4b4-1b8a6c96a565"
      },
      "execution_count": 74,
      "outputs": [
        {
          "output_type": "execute_result",
          "data": {
            "text/plain": [
              "tensor([ 0., -2.,  1.])"
            ]
          },
          "metadata": {},
          "execution_count": 74
        }
      ]
    },
    {
      "cell_type": "markdown",
      "source": [
        "**Concatenates the given sequence of seq tensors in the given dimension.** All tensors must either have the same shape (except in the concatenating dimension) or be empty."
      ],
      "metadata": {
        "id": "e69B8Z_-DOfi"
      }
    },
    {
      "cell_type": "code",
      "source": [
        "x = torch.randn(2, 3)\n",
        "x\n"
      ],
      "metadata": {
        "colab": {
          "base_uri": "https://localhost:8080/"
        },
        "id": "69HPAd3FDPSu",
        "outputId": "a5540b90-aaf1-43cd-fb55-fe57a82045bb"
      },
      "execution_count": 75,
      "outputs": [
        {
          "output_type": "execute_result",
          "data": {
            "text/plain": [
              "tensor([[-0.9443,  1.8602, -0.9060],\n",
              "        [ 0.0717,  0.6948, -1.1758]])"
            ]
          },
          "metadata": {},
          "execution_count": 75
        }
      ]
    },
    {
      "cell_type": "code",
      "source": [
        "torch.cat((x, x, x), 0)\n"
      ],
      "metadata": {
        "colab": {
          "base_uri": "https://localhost:8080/"
        },
        "id": "AI2prv6aDSOa",
        "outputId": "ddc91426-086e-49a0-d1d4-970006c46869"
      },
      "execution_count": 76,
      "outputs": [
        {
          "output_type": "execute_result",
          "data": {
            "text/plain": [
              "tensor([[-0.9443,  1.8602, -0.9060],\n",
              "        [ 0.0717,  0.6948, -1.1758],\n",
              "        [-0.9443,  1.8602, -0.9060],\n",
              "        [ 0.0717,  0.6948, -1.1758],\n",
              "        [-0.9443,  1.8602, -0.9060],\n",
              "        [ 0.0717,  0.6948, -1.1758]])"
            ]
          },
          "metadata": {},
          "execution_count": 76
        }
      ]
    },
    {
      "cell_type": "code",
      "source": [
        "torch.cat((x, x, x), 1)"
      ],
      "metadata": {
        "colab": {
          "base_uri": "https://localhost:8080/"
        },
        "id": "yHz4lzdRDTgy",
        "outputId": "383aec3e-82e6-4fb2-e35b-bf1f52fa2946"
      },
      "execution_count": 77,
      "outputs": [
        {
          "output_type": "execute_result",
          "data": {
            "text/plain": [
              "tensor([[-0.9443,  1.8602, -0.9060, -0.9443,  1.8602, -0.9060, -0.9443,  1.8602,\n",
              "         -0.9060],\n",
              "        [ 0.0717,  0.6948, -1.1758,  0.0717,  0.6948, -1.1758,  0.0717,  0.6948,\n",
              "         -1.1758]])"
            ]
          },
          "metadata": {},
          "execution_count": 77
        }
      ]
    },
    {
      "cell_type": "markdown",
      "source": [
        "**Returns a view of input with a flipped conjugate bit.** If input has a non-complex dtype, this function just returns input.\n"
      ],
      "metadata": {
        "id": "sm-52C-dDaHU"
      }
    },
    {
      "cell_type": "code",
      "source": [
        "x = torch.tensor([-1 + 1j, -2 + 2j, 3 - 3j])\n",
        "x.is_conj()\n"
      ],
      "metadata": {
        "colab": {
          "base_uri": "https://localhost:8080/"
        },
        "id": "YF92RidjDbip",
        "outputId": "6b1c4c77-714a-460b-8b5c-b4f4e08b1a3e"
      },
      "execution_count": 78,
      "outputs": [
        {
          "output_type": "execute_result",
          "data": {
            "text/plain": [
              "False"
            ]
          },
          "metadata": {},
          "execution_count": 78
        }
      ]
    },
    {
      "cell_type": "code",
      "source": [
        "y = torch.conj(x)\n",
        "y.is_conj()"
      ],
      "metadata": {
        "colab": {
          "base_uri": "https://localhost:8080/"
        },
        "id": "cdsZtJJqEenH",
        "outputId": "28592bfc-534f-4ad0-9081-0d374f86268f"
      },
      "execution_count": 79,
      "outputs": [
        {
          "output_type": "execute_result",
          "data": {
            "text/plain": [
              "True"
            ]
          },
          "metadata": {},
          "execution_count": 79
        }
      ]
    },
    {
      "cell_type": "markdown",
      "source": [
        "**Splits input, a tensor with three or more dimensions, into multiple tensors depthwise according to indices_or_sections.** Each split is a view of input."
      ],
      "metadata": {
        "id": "2hleVS-KEtQ7"
      }
    },
    {
      "cell_type": "code",
      "source": [
        "t = torch.arange(16.0).reshape(2, 2, 4)\n",
        "t\n"
      ],
      "metadata": {
        "colab": {
          "base_uri": "https://localhost:8080/"
        },
        "id": "1onNHlwNEt13",
        "outputId": "b76e5426-3e45-4a0d-f825-c21ba52c62bb"
      },
      "execution_count": 80,
      "outputs": [
        {
          "output_type": "execute_result",
          "data": {
            "text/plain": [
              "tensor([[[ 0.,  1.,  2.,  3.],\n",
              "         [ 4.,  5.,  6.,  7.]],\n",
              "\n",
              "        [[ 8.,  9., 10., 11.],\n",
              "         [12., 13., 14., 15.]]])"
            ]
          },
          "metadata": {},
          "execution_count": 80
        }
      ]
    },
    {
      "cell_type": "code",
      "source": [
        "torch.dsplit(t, 2)"
      ],
      "metadata": {
        "colab": {
          "base_uri": "https://localhost:8080/"
        },
        "id": "0zR-FfcmEz8h",
        "outputId": "6056f1a2-586b-4fa0-b0a5-dee3bc1058ef"
      },
      "execution_count": 81,
      "outputs": [
        {
          "output_type": "execute_result",
          "data": {
            "text/plain": [
              "(tensor([[[ 0.,  1.],\n",
              "          [ 4.,  5.]],\n",
              " \n",
              "         [[ 8.,  9.],\n",
              "          [12., 13.]]]), tensor([[[ 2.,  3.],\n",
              "          [ 6.,  7.]],\n",
              " \n",
              "         [[10., 11.],\n",
              "          [14., 15.]]]))"
            ]
          },
          "metadata": {},
          "execution_count": 81
        }
      ]
    },
    {
      "cell_type": "code",
      "source": [
        "torch.dsplit(t, [3, 6])"
      ],
      "metadata": {
        "colab": {
          "base_uri": "https://localhost:8080/"
        },
        "id": "sYcMn0V_FKZa",
        "outputId": "6173abcc-4247-480f-ce01-6c57a819c7d2"
      },
      "execution_count": 82,
      "outputs": [
        {
          "output_type": "execute_result",
          "data": {
            "text/plain": [
              "(tensor([[[ 0.,  1.,  2.],\n",
              "          [ 4.,  5.,  6.]],\n",
              " \n",
              "         [[ 8.,  9., 10.],\n",
              "          [12., 13., 14.]]]), tensor([[[ 3.],\n",
              "          [ 7.]],\n",
              " \n",
              "         [[11.],\n",
              "          [15.]]]), tensor([], size=(2, 2, 0)))"
            ]
          },
          "metadata": {},
          "execution_count": 82
        }
      ]
    },
    {
      "cell_type": "markdown",
      "source": [
        "**Splits input, a tensor with one or more dimensions, into multiple tensors horizontally according to indices_or_sections.** Each split is a view of input."
      ],
      "metadata": {
        "id": "Bxz_Evq6OK6U"
      }
    },
    {
      "cell_type": "code",
      "source": [
        "t = torch.arange(16.0).reshape(4,4)\n",
        "t\n"
      ],
      "metadata": {
        "colab": {
          "base_uri": "https://localhost:8080/"
        },
        "id": "aTh9RiLnOAwJ",
        "outputId": "d90b2c10-6db1-4437-f349-407df0e2b785"
      },
      "execution_count": 83,
      "outputs": [
        {
          "output_type": "execute_result",
          "data": {
            "text/plain": [
              "tensor([[ 0.,  1.,  2.,  3.],\n",
              "        [ 4.,  5.,  6.,  7.],\n",
              "        [ 8.,  9., 10., 11.],\n",
              "        [12., 13., 14., 15.]])"
            ]
          },
          "metadata": {},
          "execution_count": 83
        }
      ]
    },
    {
      "cell_type": "code",
      "source": [
        "torch.hsplit(t, 2)\n"
      ],
      "metadata": {
        "colab": {
          "base_uri": "https://localhost:8080/"
        },
        "id": "IXldXW5NODI7",
        "outputId": "560c043f-d7bd-4cdc-ace4-e5f508fc9daf"
      },
      "execution_count": 84,
      "outputs": [
        {
          "output_type": "execute_result",
          "data": {
            "text/plain": [
              "(tensor([[ 0.,  1.],\n",
              "         [ 4.,  5.],\n",
              "         [ 8.,  9.],\n",
              "         [12., 13.]]), tensor([[ 2.,  3.],\n",
              "         [ 6.,  7.],\n",
              "         [10., 11.],\n",
              "         [14., 15.]]))"
            ]
          },
          "metadata": {},
          "execution_count": 84
        }
      ]
    },
    {
      "cell_type": "code",
      "source": [
        "torch.hsplit(t, [3, 6])"
      ],
      "metadata": {
        "colab": {
          "base_uri": "https://localhost:8080/"
        },
        "id": "jFAKJs5YOFYg",
        "outputId": "b9d8eb54-4b8d-47cb-8c22-8f2204348a8a"
      },
      "execution_count": 85,
      "outputs": [
        {
          "output_type": "execute_result",
          "data": {
            "text/plain": [
              "(tensor([[ 0.,  1.,  2.],\n",
              "         [ 4.,  5.,  6.],\n",
              "         [ 8.,  9., 10.],\n",
              "         [12., 13., 14.]]), tensor([[ 3.],\n",
              "         [ 7.],\n",
              "         [11.],\n",
              "         [15.]]), tensor([], size=(4, 0)))"
            ]
          },
          "metadata": {},
          "execution_count": 85
        }
      ]
    },
    {
      "cell_type": "markdown",
      "source": [
        "**Creates a new tensor by horizontally stacking the tensors in tensors.**\n"
      ],
      "metadata": {
        "id": "qo6ylXfVHlfo"
      }
    },
    {
      "cell_type": "code",
      "source": [
        "a = torch.tensor([1, 2, 3])\n",
        "b = torch.tensor([4, 5, 6])\n",
        "print(a)\n",
        "print(b)\n",
        "torch.column_stack((a, b))\n"
      ],
      "metadata": {
        "colab": {
          "base_uri": "https://localhost:8080/"
        },
        "id": "eSE-7gxFHnQ2",
        "outputId": "d38ab191-e2e5-463a-9715-d3ecb73d2c5f"
      },
      "execution_count": 86,
      "outputs": [
        {
          "output_type": "stream",
          "name": "stdout",
          "text": [
            "tensor([1, 2, 3])\n",
            "tensor([4, 5, 6])\n"
          ]
        },
        {
          "output_type": "execute_result",
          "data": {
            "text/plain": [
              "tensor([[1, 4],\n",
              "        [2, 5],\n",
              "        [3, 6]])"
            ]
          },
          "metadata": {},
          "execution_count": 86
        }
      ]
    },
    {
      "cell_type": "code",
      "source": [
        "a = torch.arange(5)\n",
        "b = torch.arange(10).reshape(5, 2)\n",
        "print(a)\n",
        "print(b)\n",
        "torch.column_stack((a, b, b))"
      ],
      "metadata": {
        "colab": {
          "base_uri": "https://localhost:8080/"
        },
        "id": "X0j9mYTqHq8t",
        "outputId": "0a5eaf86-e1bb-4c45-9632-d136fd1d9172"
      },
      "execution_count": 87,
      "outputs": [
        {
          "output_type": "stream",
          "name": "stdout",
          "text": [
            "tensor([0, 1, 2, 3, 4])\n",
            "tensor([[0, 1],\n",
            "        [2, 3],\n",
            "        [4, 5],\n",
            "        [6, 7],\n",
            "        [8, 9]])\n"
          ]
        },
        {
          "output_type": "execute_result",
          "data": {
            "text/plain": [
              "tensor([[0, 0, 1, 0, 1],\n",
              "        [1, 2, 3, 2, 3],\n",
              "        [2, 4, 5, 4, 5],\n",
              "        [3, 6, 7, 6, 7],\n",
              "        [4, 8, 9, 8, 9]])"
            ]
          },
          "metadata": {},
          "execution_count": 87
        }
      ]
    },
    {
      "cell_type": "markdown",
      "source": [
        "**Gathers values along an axis specified by dim.**\n",
        "\n",
        "For a 3-D tensor the output is specified by:\n",
        "\n",
        "```\n",
        "out[i][j][k] = input[index[i][j][k]][j][k]  # if dim == 0\n",
        "\n",
        "out[i][j][k] = input[i][index[i][j][k]][k]  # if dim == 1\n",
        "\n",
        "out[i][j][k] = input[i][j][index[i][j][k]]  # if dim == 2\n",
        "\n",
        "```"
      ],
      "metadata": {
        "id": "z48PGQk5IAsd"
      }
    },
    {
      "cell_type": "code",
      "source": [
        "t = torch.tensor([[1, 2], [3, 4]])\n",
        "torch.gather(t, 1, torch.tensor([[0, 0], [1, 0]]))"
      ],
      "metadata": {
        "colab": {
          "base_uri": "https://localhost:8080/"
        },
        "id": "ra5a9y9LIR6v",
        "outputId": "83c14ebe-ba4d-4cd0-ce31-8d005e9f87c9"
      },
      "execution_count": 88,
      "outputs": [
        {
          "output_type": "execute_result",
          "data": {
            "text/plain": [
              "tensor([[1, 1],\n",
              "        [4, 3]])"
            ]
          },
          "metadata": {},
          "execution_count": 88
        }
      ]
    },
    {
      "cell_type": "markdown",
      "source": [
        "**Returns a new tensor which indexes the input tensor along dimension dim using the entries in index which is a LongTensor.**"
      ],
      "metadata": {
        "id": "A-Xysr5EUcpi"
      }
    },
    {
      "cell_type": "code",
      "source": [
        "x = torch.randn(3, 4)\n",
        "x\n"
      ],
      "metadata": {
        "colab": {
          "base_uri": "https://localhost:8080/"
        },
        "id": "rs76vWXgUZsJ",
        "outputId": "45ff6cca-5b3f-4447-e685-845df06714ed"
      },
      "execution_count": 89,
      "outputs": [
        {
          "output_type": "execute_result",
          "data": {
            "text/plain": [
              "tensor([[ 1.8213, -0.7366, -0.6668,  0.0336],\n",
              "        [-0.4198, -1.2445,  0.2976,  1.6637],\n",
              "        [-1.0774, -0.8936,  0.0140, -0.4355]])"
            ]
          },
          "metadata": {},
          "execution_count": 89
        }
      ]
    },
    {
      "cell_type": "code",
      "source": [
        "indices = torch.tensor([0, 2])\n",
        "print(indices)\n",
        "torch.index_select(x, 0, indices)\n"
      ],
      "metadata": {
        "colab": {
          "base_uri": "https://localhost:8080/"
        },
        "id": "sKeyrJyTUh_8",
        "outputId": "9008a2a8-f63b-4cec-a7a1-947c2ec15bfc"
      },
      "execution_count": 90,
      "outputs": [
        {
          "output_type": "stream",
          "name": "stdout",
          "text": [
            "tensor([0, 2])\n"
          ]
        },
        {
          "output_type": "execute_result",
          "data": {
            "text/plain": [
              "tensor([[ 1.8213, -0.7366, -0.6668,  0.0336],\n",
              "        [-1.0774, -0.8936,  0.0140, -0.4355]])"
            ]
          },
          "metadata": {},
          "execution_count": 90
        }
      ]
    },
    {
      "cell_type": "code",
      "source": [
        "torch.index_select(x, 1, indices)"
      ],
      "metadata": {
        "colab": {
          "base_uri": "https://localhost:8080/"
        },
        "id": "YDc_xv1tUlgO",
        "outputId": "4c73582d-3b5d-47ea-fed5-cdb8e6af6a5d"
      },
      "execution_count": 91,
      "outputs": [
        {
          "output_type": "execute_result",
          "data": {
            "text/plain": [
              "tensor([[ 1.8213, -0.6668],\n",
              "        [-0.4198,  0.2976],\n",
              "        [-1.0774,  0.0140]])"
            ]
          },
          "metadata": {},
          "execution_count": 91
        }
      ]
    },
    {
      "cell_type": "markdown",
      "source": [
        "Returns a new 1-D tensor which indexes the input tensor according to the boolean mask mask which is a BoolTensor."
      ],
      "metadata": {
        "id": "Xk0yb-7QVlwe"
      }
    },
    {
      "cell_type": "code",
      "source": [
        "x = torch.randn(3, 4)\n",
        "print(x)\n",
        "mask = x.ge(0.5)\n",
        "print(mask)\n",
        "torch.masked_select(x, mask)"
      ],
      "metadata": {
        "colab": {
          "base_uri": "https://localhost:8080/"
        },
        "id": "gEEBq5IdVmX7",
        "outputId": "dd84858a-b312-4dec-aca7-d1fe265f0e19"
      },
      "execution_count": 92,
      "outputs": [
        {
          "output_type": "stream",
          "name": "stdout",
          "text": [
            "tensor([[ 0.6805, -0.4622, -0.4959, -0.9603],\n",
            "        [ 0.9381,  1.4435, -0.1419, -0.3470],\n",
            "        [-1.0073,  0.7753,  1.6832,  0.2863]])\n",
            "tensor([[ True, False, False, False],\n",
            "        [ True,  True, False, False],\n",
            "        [False,  True,  True, False]])\n"
          ]
        },
        {
          "output_type": "execute_result",
          "data": {
            "text/plain": [
              "tensor([0.6805, 0.9381, 1.4435, 0.7753, 1.6832])"
            ]
          },
          "metadata": {},
          "execution_count": 92
        }
      ]
    },
    {
      "cell_type": "markdown",
      "source": [
        "**Moves the dimension(s) of input at the position(s) in source to the position(s) in destination.**\n",
        "\n"
      ],
      "metadata": {
        "id": "iBB9BxvNWA5a"
      }
    },
    {
      "cell_type": "code",
      "source": [
        "t = torch.randn(3,2,1)\n",
        "print(t)\n",
        "\n",
        "\n",
        "print(torch.movedim(t, 1, 0).shape)\n",
        "print(torch.movedim(t, 1, 0))\n",
        "\n",
        "print(torch.movedim(t, (1, 2), (0, 1)).shape)\n",
        "print(torch.movedim(t, (1, 2), (0, 1)))\n"
      ],
      "metadata": {
        "colab": {
          "base_uri": "https://localhost:8080/"
        },
        "id": "E2slCLBCWBhm",
        "outputId": "9d735b41-c135-4d0f-d599-4edc5074976d"
      },
      "execution_count": 93,
      "outputs": [
        {
          "output_type": "stream",
          "name": "stdout",
          "text": [
            "tensor([[[-1.3872],\n",
            "         [ 0.7440]],\n",
            "\n",
            "        [[-0.4880],\n",
            "         [-0.3524]],\n",
            "\n",
            "        [[ 1.1575],\n",
            "         [ 2.5344]]])\n",
            "torch.Size([2, 3, 1])\n",
            "tensor([[[-1.3872],\n",
            "         [-0.4880],\n",
            "         [ 1.1575]],\n",
            "\n",
            "        [[ 0.7440],\n",
            "         [-0.3524],\n",
            "         [ 2.5344]]])\n",
            "torch.Size([2, 1, 3])\n",
            "tensor([[[-1.3872, -0.4880,  1.1575]],\n",
            "\n",
            "        [[ 0.7440, -0.3524,  2.5344]]])\n"
          ]
        }
      ]
    },
    {
      "cell_type": "markdown",
      "source": [
        "**Returns a new tensor that is a narrowed version of input tensor.** The dimension dim is input from start to start + length. The returned tensor and input tensor share the same underlying storage."
      ],
      "metadata": {
        "id": "snzA86MZZuOO"
      }
    },
    {
      "cell_type": "code",
      "source": [
        "x = torch.tensor([[1, 2, 3], [4, 5, 6], [7, 8, 9]])\n",
        "\n",
        "print(x)\n",
        "\n",
        "print(torch.narrow(x, 0, 0, 2))\n",
        "torch.narrow(x, 1, 1, 2)"
      ],
      "metadata": {
        "colab": {
          "base_uri": "https://localhost:8080/"
        },
        "id": "AXdwcRtTZoW5",
        "outputId": "d4227179-a6ca-42df-c21f-9ef25308478b"
      },
      "execution_count": 94,
      "outputs": [
        {
          "output_type": "stream",
          "name": "stdout",
          "text": [
            "tensor([[1, 2, 3],\n",
            "        [4, 5, 6],\n",
            "        [7, 8, 9]])\n",
            "tensor([[1, 2, 3],\n",
            "        [4, 5, 6]])\n"
          ]
        },
        {
          "output_type": "execute_result",
          "data": {
            "text/plain": [
              "tensor([[2, 3],\n",
              "        [5, 6],\n",
              "        [8, 9]])"
            ]
          },
          "metadata": {},
          "execution_count": 94
        }
      ]
    },
    {
      "cell_type": "markdown",
      "source": [
        "**Returns a view of the original tensor input with its dimensions permuted.**"
      ],
      "metadata": {
        "id": "aTJ6rSj-Z_XD"
      }
    },
    {
      "cell_type": "code",
      "source": [
        "x = torch.randn(2, 3, 5)\n",
        "x.size()\n",
        "torch.permute(x, (2, 0, 1)).size()"
      ],
      "metadata": {
        "colab": {
          "base_uri": "https://localhost:8080/"
        },
        "id": "ZfL3Q8eiZ6WT",
        "outputId": "bf50d748-e3df-4591-981a-8a2aa54a4650"
      },
      "execution_count": 95,
      "outputs": [
        {
          "output_type": "execute_result",
          "data": {
            "text/plain": [
              "torch.Size([5, 2, 3])"
            ]
          },
          "metadata": {},
          "execution_count": 95
        }
      ]
    },
    {
      "cell_type": "markdown",
      "source": [
        "**Splits a tensor into multiple sub-tensors, all of which are views of input, along dimension dim according to the indices or number of sections specified by indices_or_sections.** This function is based on NumPy’s numpy.array_split()."
      ],
      "metadata": {
        "id": "bLrvYknbaNa9"
      }
    },
    {
      "cell_type": "code",
      "source": [
        "x = torch.arange(8)\n",
        "torch.tensor_split(x, 3)\n",
        "\n"
      ],
      "metadata": {
        "colab": {
          "base_uri": "https://localhost:8080/"
        },
        "id": "1RK24WqDaKiJ",
        "outputId": "4838463e-a37b-462a-dbc4-2f0f42805cad"
      },
      "execution_count": 96,
      "outputs": [
        {
          "output_type": "execute_result",
          "data": {
            "text/plain": [
              "(tensor([0, 1, 2]), tensor([3, 4, 5]), tensor([6, 7]))"
            ]
          },
          "metadata": {},
          "execution_count": 96
        }
      ]
    },
    {
      "cell_type": "code",
      "source": [
        "x = torch.arange(7)\n",
        "torch.tensor_split(x, 3)\n"
      ],
      "metadata": {
        "colab": {
          "base_uri": "https://localhost:8080/"
        },
        "id": "a2X76RAoaSMY",
        "outputId": "f8315bf0-cf0b-4f8f-c62d-f0b951e3ffad"
      },
      "execution_count": 97,
      "outputs": [
        {
          "output_type": "execute_result",
          "data": {
            "text/plain": [
              "(tensor([0, 1, 2]), tensor([3, 4]), tensor([5, 6]))"
            ]
          },
          "metadata": {},
          "execution_count": 97
        }
      ]
    },
    {
      "cell_type": "code",
      "source": [
        "torch.tensor_split(x, (1, 6))"
      ],
      "metadata": {
        "colab": {
          "base_uri": "https://localhost:8080/"
        },
        "id": "FqGS-XaFawW-",
        "outputId": "9be6c0c6-5227-48df-fcda-2365f323d94c"
      },
      "execution_count": 98,
      "outputs": [
        {
          "output_type": "execute_result",
          "data": {
            "text/plain": [
              "(tensor([0]), tensor([1, 2, 3, 4, 5]), tensor([6]))"
            ]
          },
          "metadata": {},
          "execution_count": 98
        }
      ]
    },
    {
      "cell_type": "code",
      "source": [
        "x = torch.arange(14).reshape(2, 7)\n",
        "x\n"
      ],
      "metadata": {
        "colab": {
          "base_uri": "https://localhost:8080/"
        },
        "id": "49F0EafOaTkQ",
        "outputId": "d006732f-e484-4589-e49f-0513356c9113"
      },
      "execution_count": 99,
      "outputs": [
        {
          "output_type": "execute_result",
          "data": {
            "text/plain": [
              "tensor([[ 0,  1,  2,  3,  4,  5,  6],\n",
              "        [ 7,  8,  9, 10, 11, 12, 13]])"
            ]
          },
          "metadata": {},
          "execution_count": 99
        }
      ]
    },
    {
      "cell_type": "code",
      "source": [
        "torch.tensor_split(x, 3, dim=1)\n"
      ],
      "metadata": {
        "colab": {
          "base_uri": "https://localhost:8080/"
        },
        "id": "ti4gmfInazPi",
        "outputId": "b2172e2c-ac8f-484d-acf2-98beba146dbd"
      },
      "execution_count": 100,
      "outputs": [
        {
          "output_type": "execute_result",
          "data": {
            "text/plain": [
              "(tensor([[0, 1, 2],\n",
              "         [7, 8, 9]]), tensor([[ 3,  4],\n",
              "         [10, 11]]), tensor([[ 5,  6],\n",
              "         [12, 13]]))"
            ]
          },
          "metadata": {},
          "execution_count": 100
        }
      ]
    },
    {
      "cell_type": "code",
      "source": [
        "torch.tensor_split(x, (1, 6), dim=1)"
      ],
      "metadata": {
        "colab": {
          "base_uri": "https://localhost:8080/"
        },
        "id": "xKcopoLea0O1",
        "outputId": "0f0d22e2-1325-4644-d976-b2796d9ffeb0"
      },
      "execution_count": 101,
      "outputs": [
        {
          "output_type": "execute_result",
          "data": {
            "text/plain": [
              "(tensor([[0],\n",
              "         [7]]), tensor([[ 1,  2,  3,  4,  5],\n",
              "         [ 8,  9, 10, 11, 12]]), tensor([[ 6],\n",
              "         [13]]))"
            ]
          },
          "metadata": {},
          "execution_count": 101
        }
      ]
    },
    {
      "cell_type": "markdown",
      "source": [
        "# DATASETS & DATALOADERS\n",
        "\n",
        "PyTorch domain libraries provide a number of pre-loaded datasets (such as FashionMNIST) that subclass torch.utils.data.Dataset and implement functions specific to the particular data."
      ],
      "metadata": {
        "id": "sGKsRxAxYqCt"
      }
    },
    {
      "cell_type": "markdown",
      "source": [
        "**Loading a Dataset**\n",
        "\n",
        "\n",
        "We load the FashionMNIST Dataset with the following parameters:\n",
        "\n",
        "**root** is the path where the train/test data is stored,\n",
        "\n",
        "**train** specifies training or test dataset,\n",
        "\n",
        "**download=True** downloads the data from the internet if it’s not available at root.\n",
        "\n",
        "**transform and target_transform** specify the feature and label transformations"
      ],
      "metadata": {
        "id": "apDh-EHpYye9"
      }
    },
    {
      "cell_type": "code",
      "source": [
        "import torch\n",
        "from torch.utils.data import Dataset\n",
        "from torchvision import datasets\n",
        "from torchvision.transforms import ToTensor\n",
        "import matplotlib.pyplot as plt\n",
        "\n",
        "training_data = datasets.FashionMNIST(\n",
        "    root=\"data\",\n",
        "    train=True,\n",
        "    download=True,\n",
        "    transform=ToTensor()\n",
        ")\n",
        "\n",
        "test_data = datasets.FashionMNIST(\n",
        "    root=\"data\",\n",
        "    train=False,\n",
        "    download=True,\n",
        "    transform=ToTensor()\n",
        ")"
      ],
      "metadata": {
        "id": "5-louvSvTKMe"
      },
      "execution_count": 102,
      "outputs": []
    },
    {
      "cell_type": "markdown",
      "source": [
        "**Iterating and Visualizing the Dataset**\n",
        "\n",
        "\n",
        "We can index Datasets manually like a list: training_data[index]. We use matplotlib to visualize some samples in our training data."
      ],
      "metadata": {
        "id": "TFRl6XdUZlrn"
      }
    },
    {
      "cell_type": "code",
      "source": [
        "labels_map = {\n",
        "    0: \"T-Shirt\",\n",
        "    1: \"Trouser\",\n",
        "    2: \"Pullover\",\n",
        "    3: \"Dress\",\n",
        "    4: \"Coat\",\n",
        "    5: \"Sandal\",\n",
        "    6: \"Shirt\",\n",
        "    7: \"Sneaker\",\n",
        "    8: \"Bag\",\n",
        "    9: \"Ankle Boot\",\n",
        "}\n",
        "\n",
        "figure = plt.figure(figsize=(8, 8))\n",
        "cols, rows = 3, 3\n",
        "\n",
        "for i in range(1, cols * rows + 1):\n",
        "    sample_idx = torch.randint(len(training_data), size=(1,)).item()\n",
        "    img, label = training_data[sample_idx]\n",
        "    figure.add_subplot(rows, cols, i)\n",
        "    plt.title(labels_map[label])\n",
        "    plt.axis(\"off\")\n",
        "    plt.imshow(img.squeeze(), cmap=\"gray\")\n",
        "plt.show()"
      ],
      "metadata": {
        "colab": {
          "base_uri": "https://localhost:8080/",
          "height": 482
        },
        "id": "M9F-3_rOTKI-",
        "outputId": "5918dd57-2e99-402a-d837-7b784e372f6d"
      },
      "execution_count": 103,
      "outputs": [
        {
          "output_type": "display_data",
          "data": {
            "image/png": "[encoded data removed]",
            "text/plain": [
              "<Figure size 576x576 with 9 Axes>"
            ]
          },
          "metadata": {
            "needs_background": "light"
          }
        }
      ]
    },
    {
      "cell_type": "markdown",
      "source": [
        "# Preparing your data for training with DataLoaders"
      ],
      "metadata": {
        "id": "DVdJW8iZMTT_"
      }
    },
    {
      "cell_type": "code",
      "source": [
        "from torch.utils.data import DataLoader\n",
        "\n",
        "train_dataloader = DataLoader(training_data, batch_size=64, shuffle=True)\n",
        "test_dataloader = DataLoader(test_data, batch_size=64, shuffle=True)"
      ],
      "metadata": {
        "id": "P579ePDeTKFj"
      },
      "execution_count": 104,
      "outputs": []
    },
    {
      "cell_type": "markdown",
      "source": [
        "# Iterate through the DataLoader\n",
        "\n",
        "We have loaded that dataset into the DataLoader and can iterate through the dataset as needed. Each iteration below returns a batch of train_features and train_labels (containing batch_size=64 features and labels respectively). Because we specified shuffle=True, after we iterate over all batches the data is shuffled (for finer-grained control over the data loading order, take a look at Samplers)."
      ],
      "metadata": {
        "id": "JPJbo1FJMlox"
      }
    },
    {
      "cell_type": "code",
      "source": [
        "# Display image and label.\n",
        "train_features, train_labels = next(iter(train_dataloader))\n",
        "print(f\"Feature batch shape: {train_features.size()}\")\n",
        "print(f\"Labels batch shape: {train_labels.size()}\")\n",
        "img = train_features[0].squeeze()\n",
        "label = train_labels[0]\n",
        "plt.imshow(img, cmap=\"gray\")\n",
        "plt.show()\n",
        "print(f\"Label: {label}\")"
      ],
      "metadata": {
        "colab": {
          "base_uri": "https://localhost:8080/",
          "height": 316
        },
        "id": "aGlZmBOtTKB5",
        "outputId": "2bc25865-a110-4b56-ffb3-248431e49065"
      },
      "execution_count": 105,
      "outputs": [
        {
          "output_type": "stream",
          "name": "stdout",
          "text": [
            "Feature batch shape: torch.Size([64, 1, 28, 28])\n",
            "Labels batch shape: torch.Size([64])\n"
          ]
        },
        {
          "output_type": "display_data",
          "data": {
            "image/png": "[encoded data removed]",
            "text/plain": [
              "<Figure size 432x288 with 1 Axes>"
            ]
          },
          "metadata": {
            "needs_background": "light"
          }
        },
        {
          "output_type": "stream",
          "name": "stdout",
          "text": [
            "Label: 3\n"
          ]
        }
      ]
    },
    {
      "cell_type": "markdown",
      "source": [
        "# TRANSFORMS\n",
        "\n",
        "Data does not always come in its final processed form that is required for training machine learning algorithms. We use transforms to perform some manipulation of the data and make it suitable for training.\n",
        "\n",
        "All TorchVision datasets have two parameters -transform to modify the features and target_transform to modify the labels - that accept callables containing the transformation logic. The torchvision.transforms module offers several commonly-used transforms out of the box.\n",
        "\n",
        "The FashionMNIST features are in PIL Image format, and the labels are integers. For training, we need the features as normalized tensors, and the labels as one-hot encoded tensors. To make these transformations, we use ToTensor and Lambda."
      ],
      "metadata": {
        "id": "POp7MnA1M2Vl"
      }
    },
    {
      "cell_type": "code",
      "source": [
        "import torch\n",
        "from torchvision import datasets\n",
        "from torchvision.transforms import ToTensor, Lambda\n",
        "\n",
        "ds = datasets.FashionMNIST(\n",
        "    root=\"data\",\n",
        "    train=True,\n",
        "    download=True,\n",
        "    transform=ToTensor(),\n",
        "    target_transform=Lambda(lambda y: torch.zeros(10, dtype=torch.float).scatter_(0, torch.tensor(y), value=1))\n",
        ")"
      ],
      "metadata": {
        "id": "kvFUpMhyNBrB"
      },
      "execution_count": 106,
      "outputs": []
    },
    {
      "cell_type": "markdown",
      "source": [
        "In the above code snippet, \n",
        "\n",
        "# ToTensor() \n",
        "\n",
        "ToTensor converts a PIL image or NumPy ndarray into a FloatTensor. and scales the image’s pixel intensity values in the range [0., 1.]\n",
        "\n",
        "\n",
        "# Lambda Transforms\n",
        "Lambda transforms apply any user-defined lambda function. Here, we define a function to turn the integer into a one-hot encoded tensor. It first creates a zero tensor of size 10 (the number of labels in our dataset) and calls scatter_ which assigns a value=1 on the index as given by the label y."
      ],
      "metadata": {
        "id": "a63P5m9MNAw_"
      }
    },
    {
      "cell_type": "markdown",
      "source": [
        "# BUILD THE NEURAL NETWORK"
      ],
      "metadata": {
        "id": "u9VhyfovOJk_"
      }
    },
    {
      "cell_type": "markdown",
      "source": [
        "Neural networks comprise of layers/modules that perform operations on data. The torch.nn namespace provides all the building blocks you need to build your own neural network. Every module in PyTorch subclasses the nn.Module. A neural network is a module itself that consists of other modules (layers). This nested structure allows for building and managing complex architectures easily.\n",
        "\n",
        "In the following sections, we’ll build a neural network to classify images in the FashionMNIST dataset."
      ],
      "metadata": {
        "id": "zILL2hNqOPDy"
      }
    },
    {
      "cell_type": "code",
      "source": [
        "import os\n",
        "import torch\n",
        "from torch import nn\n",
        "from torch.utils.data import DataLoader\n",
        "from torchvision import datasets, transforms\n",
        "\n",
        "device = 'cuda' if torch.cuda.is_available() else 'cpu'\n",
        "print(f'Using {device} device')"
      ],
      "metadata": {
        "colab": {
          "base_uri": "https://localhost:8080/"
        },
        "id": "CXMBGZOtTJ9r",
        "outputId": "c5bc73f9-1e61-46ba-cf37-f899abe7285e"
      },
      "execution_count": 107,
      "outputs": [
        {
          "output_type": "stream",
          "name": "stdout",
          "text": [
            "Using cuda device\n"
          ]
        }
      ]
    },
    {
      "cell_type": "markdown",
      "source": [
        "# Define the Class"
      ],
      "metadata": {
        "id": "DUfod0WjOY_h"
      }
    },
    {
      "cell_type": "code",
      "source": [
        "class NeuralNetwork(nn.Module):\n",
        "    def __init__(self):\n",
        "        super(NeuralNetwork, self).__init__()\n",
        "        self.flatten = nn.Flatten()\n",
        "        self.linear_relu_stack = nn.Sequential(\n",
        "            nn.Linear(28*28, 512),\n",
        "            nn.ReLU(),\n",
        "            nn.Linear(512, 512),\n",
        "            nn.ReLU(),\n",
        "            nn.Linear(512, 10),\n",
        "        )\n",
        "\n",
        "    def forward(self, x):\n",
        "        x = self.flatten(x)\n",
        "        logits = self.linear_relu_stack(x)\n",
        "        return logits"
      ],
      "metadata": {
        "id": "1LASHHFXOfh7"
      },
      "execution_count": 108,
      "outputs": []
    },
    {
      "cell_type": "markdown",
      "source": [
        "We create an instance of NeuralNetwork, and move it to the device, and print its structure."
      ],
      "metadata": {
        "id": "fn9IqTgQO7pw"
      }
    },
    {
      "cell_type": "code",
      "source": [
        "model = NeuralNetwork().to(device)\n",
        "print(model)"
      ],
      "metadata": {
        "colab": {
          "base_uri": "https://localhost:8080/"
        },
        "id": "NPa4KioxO99n",
        "outputId": "34d08b4c-82f3-4191-d908-6ea8537fa5e7"
      },
      "execution_count": 109,
      "outputs": [
        {
          "output_type": "stream",
          "name": "stdout",
          "text": [
            "NeuralNetwork(\n",
            "  (flatten): Flatten(start_dim=1, end_dim=-1)\n",
            "  (linear_relu_stack): Sequential(\n",
            "    (0): Linear(in_features=784, out_features=512, bias=True)\n",
            "    (1): ReLU()\n",
            "    (2): Linear(in_features=512, out_features=512, bias=True)\n",
            "    (3): ReLU()\n",
            "    (4): Linear(in_features=512, out_features=10, bias=True)\n",
            "  )\n",
            ")\n"
          ]
        }
      ]
    },
    {
      "cell_type": "markdown",
      "source": [
        "To use the model, we pass it the input data. This executes the model’s forward, along with some background operations. Do not call model.forward() directly!\n",
        "\n",
        "Calling the model on the input returns a 10-dimensional tensor with raw predicted values for each class. We get the prediction probabilities by passing it through an instance of the nn.Softmax module."
      ],
      "metadata": {
        "id": "YiVqA_QdPW_b"
      }
    },
    {
      "cell_type": "code",
      "source": [
        "X = torch.rand(1, 28, 28, device=device)\n",
        "logits = model(X)\n",
        "pred_probab = nn.Softmax(dim=1)(logits)\n",
        "y_pred = pred_probab.argmax(1)\n",
        "print(f\"Predicted class: {y_pred}\")"
      ],
      "metadata": {
        "colab": {
          "base_uri": "https://localhost:8080/"
        },
        "id": "evgpenrLTJ6X",
        "outputId": "bca81e0b-ca7b-40e6-a5a7-64de64a01cb2"
      },
      "execution_count": 110,
      "outputs": [
        {
          "output_type": "stream",
          "name": "stdout",
          "text": [
            "Predicted class: tensor([1], device='cuda:0')\n"
          ]
        }
      ]
    },
    {
      "cell_type": "markdown",
      "source": [
        "# Model Layers\n",
        "\n",
        "Let’s break down the layers in the FashionMNIST model. To illustrate it, we will take a sample minibatch of 3 images of size 28x28 and see what happens to it as we pass it through the network."
      ],
      "metadata": {
        "id": "KVOx2VGOP4MS"
      }
    },
    {
      "cell_type": "code",
      "source": [
        "input_image = torch.rand(3,28,28)\n",
        "print(input_image.size())"
      ],
      "metadata": {
        "colab": {
          "base_uri": "https://localhost:8080/"
        },
        "id": "Pp9Nch1oP9sH",
        "outputId": "2eeec23e-cdc7-46d1-dc20-b8a50d239397"
      },
      "execution_count": 111,
      "outputs": [
        {
          "output_type": "stream",
          "name": "stdout",
          "text": [
            "torch.Size([3, 28, 28])\n"
          ]
        }
      ]
    },
    {
      "cell_type": "markdown",
      "source": [
        "**nn.Flatten**\n",
        "\n",
        "We initialize the nn.Flatten layer to convert each 2D 28x28 image into a contiguous array of 784 pixel values ( the minibatch dimension (at dim=0) is maintained)."
      ],
      "metadata": {
        "id": "_DM9hQc7QBgq"
      }
    },
    {
      "cell_type": "code",
      "source": [
        "flatten = nn.Flatten()\n",
        "flat_image = flatten(input_image)\n",
        "print(flat_image.size())"
      ],
      "metadata": {
        "colab": {
          "base_uri": "https://localhost:8080/"
        },
        "id": "8LCRoYswSJYA",
        "outputId": "d6219c7a-ccf0-4da4-bbc7-604c223f6cf2"
      },
      "execution_count": 112,
      "outputs": [
        {
          "output_type": "stream",
          "name": "stdout",
          "text": [
            "torch.Size([3, 784])\n"
          ]
        }
      ]
    },
    {
      "cell_type": "markdown",
      "source": [
        "**nn.Linear**\n",
        "\n",
        "The linear layer is a module that applies a linear transformation on the input using its stored weights and biases."
      ],
      "metadata": {
        "id": "zS-XYAUhSjfF"
      }
    },
    {
      "cell_type": "code",
      "source": [
        "layer1 = nn.Linear(in_features=28*28, out_features=20)\n",
        "hidden1 = layer1(flat_image)\n",
        "print(hidden1.size())"
      ],
      "metadata": {
        "colab": {
          "base_uri": "https://localhost:8080/"
        },
        "id": "SZf7qEihSoPp",
        "outputId": "7aa9e882-bd77-424b-f6bb-2b00abda55cd"
      },
      "execution_count": 113,
      "outputs": [
        {
          "output_type": "stream",
          "name": "stdout",
          "text": [
            "torch.Size([3, 20])\n"
          ]
        }
      ]
    },
    {
      "cell_type": "markdown",
      "source": [
        "**nn.ReLU**\n",
        "\n",
        "Non-linear activations are what create the complex mappings between the model’s inputs and outputs. They are applied after linear transformations to introduce nonlinearity, helping neural networks learn a wide variety of phenomena.\n",
        "\n",
        "In this model, we use nn.ReLU between our linear layers, but there’s other activations to introduce non-linearity in your model."
      ],
      "metadata": {
        "id": "QCQampJ7S9uc"
      }
    },
    {
      "cell_type": "code",
      "source": [
        "print(f\"Before ReLU: {hidden1}\\n\\n\")\n",
        "hidden1 = nn.ReLU()(hidden1)\n",
        "print(f\"After ReLU: {hidden1}\")"
      ],
      "metadata": {
        "colab": {
          "base_uri": "https://localhost:8080/"
        },
        "id": "8nDWnSLdTJ1N",
        "outputId": "59f987f8-6409-477e-8d91-ccd35085f8fa"
      },
      "execution_count": 114,
      "outputs": [
        {
          "output_type": "stream",
          "name": "stdout",
          "text": [
            "Before ReLU: tensor([[-0.3887,  0.4230,  0.1792, -0.2481, -0.1089, -0.0030, -0.2677,  0.0391,\n",
            "          0.2143, -0.4431, -0.0249, -0.3904, -0.7609, -0.0577, -0.1215, -0.0171,\n",
            "         -0.1825,  0.0876, -0.2504, -0.5587],\n",
            "        [-0.4935,  0.2806, -0.1377, -0.6552, -0.0926, -0.5043, -0.5841, -0.2061,\n",
            "          0.1922, -0.4638, -0.2151, -0.1676, -0.2290,  0.0106, -0.3418, -0.2719,\n",
            "          0.2227, -0.0966, -0.4514, -0.2504],\n",
            "        [-0.1467, -0.2235, -0.0733, -0.0480, -0.2717, -0.1720, -0.9468,  0.1879,\n",
            "          0.1975, -0.4476, -0.2334, -0.6219, -0.4704, -0.0245, -0.2522, -0.0343,\n",
            "         -0.3850, -0.1423, -0.0127, -0.4060]], grad_fn=<AddmmBackward0>)\n",
            "\n",
            "\n",
            "After ReLU: tensor([[0.0000, 0.4230, 0.1792, 0.0000, 0.0000, 0.0000, 0.0000, 0.0391, 0.2143,\n",
            "         0.0000, 0.0000, 0.0000, 0.0000, 0.0000, 0.0000, 0.0000, 0.0000, 0.0876,\n",
            "         0.0000, 0.0000],\n",
            "        [0.0000, 0.2806, 0.0000, 0.0000, 0.0000, 0.0000, 0.0000, 0.0000, 0.1922,\n",
            "         0.0000, 0.0000, 0.0000, 0.0000, 0.0106, 0.0000, 0.0000, 0.2227, 0.0000,\n",
            "         0.0000, 0.0000],\n",
            "        [0.0000, 0.0000, 0.0000, 0.0000, 0.0000, 0.0000, 0.0000, 0.1879, 0.1975,\n",
            "         0.0000, 0.0000, 0.0000, 0.0000, 0.0000, 0.0000, 0.0000, 0.0000, 0.0000,\n",
            "         0.0000, 0.0000]], grad_fn=<ReluBackward0>)\n"
          ]
        }
      ]
    },
    {
      "cell_type": "markdown",
      "source": [
        "**nn.Sequential**\n",
        "\n",
        "nn.Sequential is an ordered container of modules. The data is passed through all the modules in the same order as defined. You can use sequential containers to put together a quick network like seq_modules."
      ],
      "metadata": {
        "id": "1xp2-IbbTWit"
      }
    },
    {
      "cell_type": "code",
      "source": [
        "seq_modules = nn.Sequential(\n",
        "    flatten,\n",
        "    layer1,\n",
        "    nn.ReLU(),\n",
        "    nn.Linear(20, 10)\n",
        ")\n",
        "input_image = torch.rand(3,28,28)\n",
        "logits = seq_modules(input_image)"
      ],
      "metadata": {
        "id": "n2Qq0PIyT09A"
      },
      "execution_count": 115,
      "outputs": []
    },
    {
      "cell_type": "markdown",
      "source": [
        "**nn.Softmax**\n",
        "\n",
        "The last linear layer of the neural network returns logits - raw values in [-infty, infty] - which are passed to the nn.Softmax module. The logits are scaled to values [0, 1] representing the model’s predicted probabilities for each class. dim parameter indicates the dimension along which the values must sum to 1."
      ],
      "metadata": {
        "id": "ZhSTRS1YUvgZ"
      }
    },
    {
      "cell_type": "code",
      "source": [
        "softmax = nn.Softmax(dim=1)\n",
        "pred_probab = softmax(logits)"
      ],
      "metadata": {
        "id": "eDGvHCGXTJxu"
      },
      "execution_count": 116,
      "outputs": []
    },
    {
      "cell_type": "markdown",
      "source": [
        "**Model Parameters**\n",
        "\n",
        "Many layers inside a neural network are parameterized, i.e. have associated weights and biases that are optimized during training. Subclassing nn.Module automatically tracks all fields defined inside your model object, and makes all parameters accessible using your model’s parameters() or named_parameters() methods.\n",
        "\n",
        "In this example, we iterate over each parameter, and print its size and a preview of its values."
      ],
      "metadata": {
        "id": "TEkFXuoZU39n"
      }
    },
    {
      "cell_type": "code",
      "source": [
        "print(\"Model structure: \", model, \"\\n\\n\")\n",
        "\n",
        "for name, param in model.named_parameters():\n",
        "    print(f\"Layer: {name} | Size: {param.size()} | Values : {param[:2]} \\n\")"
      ],
      "metadata": {
        "colab": {
          "base_uri": "https://localhost:8080/"
        },
        "id": "9CjM9q4aU5D4",
        "outputId": "8c529ffd-a57d-4935-da2e-459ad9ee4d71"
      },
      "execution_count": 117,
      "outputs": [
        {
          "output_type": "stream",
          "name": "stdout",
          "text": [
            "Model structure:  NeuralNetwork(\n",
            "  (flatten): Flatten(start_dim=1, end_dim=-1)\n",
            "  (linear_relu_stack): Sequential(\n",
            "    (0): Linear(in_features=784, out_features=512, bias=True)\n",
            "    (1): ReLU()\n",
            "    (2): Linear(in_features=512, out_features=512, bias=True)\n",
            "    (3): ReLU()\n",
            "    (4): Linear(in_features=512, out_features=10, bias=True)\n",
            "  )\n",
            ") \n",
            "\n",
            "\n",
            "Layer: linear_relu_stack.0.weight | Size: torch.Size([512, 784]) | Values : tensor([[-0.0310,  0.0047, -0.0031,  ...,  0.0243, -0.0065,  0.0223],\n",
            "        [ 0.0286, -0.0351, -0.0187,  ...,  0.0232,  0.0065,  0.0330]],\n",
            "       device='cuda:0', grad_fn=<SliceBackward0>) \n",
            "\n",
            "Layer: linear_relu_stack.0.bias | Size: torch.Size([512]) | Values : tensor([0.0353, 0.0299], device='cuda:0', grad_fn=<SliceBackward0>) \n",
            "\n",
            "Layer: linear_relu_stack.2.weight | Size: torch.Size([512, 512]) | Values : tensor([[-0.0428, -0.0222,  0.0003,  ..., -0.0360, -0.0151, -0.0046],\n",
            "        [-0.0434,  0.0161,  0.0394,  ..., -0.0358, -0.0277, -0.0054]],\n",
            "       device='cuda:0', grad_fn=<SliceBackward0>) \n",
            "\n",
            "Layer: linear_relu_stack.2.bias | Size: torch.Size([512]) | Values : tensor([ 0.0030, -0.0403], device='cuda:0', grad_fn=<SliceBackward0>) \n",
            "\n",
            "Layer: linear_relu_stack.4.weight | Size: torch.Size([10, 512]) | Values : tensor([[ 0.0066,  0.0377, -0.0218,  ..., -0.0302, -0.0244, -0.0305],\n",
            "        [-0.0436, -0.0334,  0.0186,  ...,  0.0321,  0.0326,  0.0100]],\n",
            "       device='cuda:0', grad_fn=<SliceBackward0>) \n",
            "\n",
            "Layer: linear_relu_stack.4.bias | Size: torch.Size([10]) | Values : tensor([-0.0239,  0.0092], device='cuda:0', grad_fn=<SliceBackward0>) \n",
            "\n"
          ]
        }
      ]
    },
    {
      "cell_type": "markdown",
      "source": [
        "# AUTOMATIC DIFFERENTIATION WITH TORCH.AUTOGRAD\n",
        "\n",
        "When training neural networks, the most frequently used algorithm is back propagation. In this algorithm, parameters (model weights) are adjusted according to the gradient of the loss function with respect to the given parameter.\n",
        "\n",
        "To compute those gradients, PyTorch has a built-in differentiation engine called torch.autograd. It supports automatic computation of gradient for any computational graph.\n",
        "\n",
        "Consider the simplest one-layer neural network, with input x, parameters w and b, and some loss function. It can be defined in PyTorch in the following manner:"
      ],
      "metadata": {
        "id": "QmweFt5zVt1K"
      }
    },
    {
      "cell_type": "code",
      "source": [
        "import torch\n",
        "\n",
        "x = torch.ones(5)  # input tensor\n",
        "y = torch.zeros(3)  # expected output\n",
        "w = torch.randn(5, 3, requires_grad=True)\n",
        "b = torch.randn(3, requires_grad=True)\n",
        "z = torch.matmul(x, w)+b\n",
        "loss = torch.nn.functional.binary_cross_entropy_with_logits(z, y)"
      ],
      "metadata": {
        "id": "QnLj6VgwU6Gr"
      },
      "execution_count": 118,
      "outputs": []
    },
    {
      "cell_type": "markdown",
      "source": [
        "![image.png](data:image/png;base64,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)"
      ],
      "metadata": {
        "id": "KUAtLDizWWAT"
      }
    },
    {
      "cell_type": "markdown",
      "source": [
        "In this network, w and b are parameters, which we need to optimize. Thus, we need to be able to compute the gradients of loss function with respect to those variables. In order to do that, we set the requires_grad property of those tensors."
      ],
      "metadata": {
        "id": "al8AyMMnWchw"
      }
    },
    {
      "cell_type": "code",
      "source": [
        "print('Gradient function for z =', z.grad_fn)\n",
        "print('Gradient function for loss =', loss.grad_fn)"
      ],
      "metadata": {
        "colab": {
          "base_uri": "https://localhost:8080/"
        },
        "id": "rA96JSBSWlbq",
        "outputId": "c9a1a672-1738-4370-ec43-fee1879247f8"
      },
      "execution_count": 119,
      "outputs": [
        {
          "output_type": "stream",
          "name": "stdout",
          "text": [
            "Gradient function for z = <AddBackward0 object at 0x7f0434da0450>\n",
            "Gradient function for loss = <BinaryCrossEntropyWithLogitsBackward0 object at 0x7f0434d96210>\n"
          ]
        }
      ]
    },
    {
      "cell_type": "markdown",
      "source": [
        "# Computing Gradients\n",
        "\n",
        "Computing Gradients\n",
        "To optimize weights of parameters in the neural network, we need to compute the derivatives of our loss function with respect to parameters, namely, we need $\\frac{\\partial loss}{\\partial w}$ and $\\frac{\\partial loss}{\\partial b} $\n",
        "under some fixed values of x and y. To compute those derivatives, we call loss.backward(), and then retrieve the values from w.grad and b.grad:"
      ],
      "metadata": {
        "id": "PSupPKdVWpWQ"
      }
    },
    {
      "cell_type": "code",
      "source": [
        "loss.backward()\n",
        "print(w.grad)\n",
        "print(b.grad)"
      ],
      "metadata": {
        "colab": {
          "base_uri": "https://localhost:8080/"
        },
        "id": "tRKEuMQvU535",
        "outputId": "54953740-787f-4aa0-c7b8-77ebf8e548dd"
      },
      "execution_count": 120,
      "outputs": [
        {
          "output_type": "stream",
          "name": "stdout",
          "text": [
            "tensor([[0.1841, 0.0185, 0.3105],\n",
            "        [0.1841, 0.0185, 0.3105],\n",
            "        [0.1841, 0.0185, 0.3105],\n",
            "        [0.1841, 0.0185, 0.3105],\n",
            "        [0.1841, 0.0185, 0.3105]])\n",
            "tensor([0.1841, 0.0185, 0.3105])\n"
          ]
        }
      ]
    },
    {
      "cell_type": "markdown",
      "source": [
        "# Disabling Gradient Tracking\n",
        "\n",
        "By default, all tensors with requires_grad=True are tracking their computational history and support gradient computation. However, there are some cases when we do not need to do that, for example, when we have trained the model and just want to apply it to some input data, i.e. we only want to do forward computations through the network. We can stop tracking computations by surrounding our computation code with torch.no_grad() block:"
      ],
      "metadata": {
        "id": "NMW6Qc7hZa7-"
      }
    },
    {
      "cell_type": "code",
      "source": [
        "z = torch.matmul(x, w)+b\n",
        "print(z.requires_grad)\n",
        "\n",
        "with torch.no_grad():\n",
        "    z = torch.matmul(x, w)+b\n",
        "print(z.requires_grad)"
      ],
      "metadata": {
        "colab": {
          "base_uri": "https://localhost:8080/"
        },
        "id": "S3rLJmyBU5kM",
        "outputId": "fcf5de30-1dd8-4e64-85aa-4ce023fb661d"
      },
      "execution_count": 121,
      "outputs": [
        {
          "output_type": "stream",
          "name": "stdout",
          "text": [
            "True\n",
            "False\n"
          ]
        }
      ]
    },
    {
      "cell_type": "markdown",
      "source": [
        "Another way to achieve the same result is to use the detach() method on the tensor:"
      ],
      "metadata": {
        "id": "LoavlL59Zj0N"
      }
    },
    {
      "cell_type": "code",
      "source": [
        "z = torch.matmul(x, w)+b\n",
        "z_det = z.detach()\n",
        "print(z_det.requires_grad)"
      ],
      "metadata": {
        "colab": {
          "base_uri": "https://localhost:8080/"
        },
        "id": "ZlJtWOcaZkT3",
        "outputId": "18de089b-c5e1-4f03-cae3-001587a072ff"
      },
      "execution_count": 122,
      "outputs": [
        {
          "output_type": "stream",
          "name": "stdout",
          "text": [
            "False\n"
          ]
        }
      ]
    },
    {
      "cell_type": "markdown",
      "source": [
        "There are reasons you might want to disable gradient tracking:\n",
        "To mark some parameters in your neural network as frozen parameters. This is a very common scenario for finetuning a pretrained network\n",
        "To speed up computations when you are only doing forward pass, because computations on tensors that do not track gradients would be more efficient."
      ],
      "metadata": {
        "id": "4P6lO__xZxfo"
      }
    },
    {
      "cell_type": "markdown",
      "source": [
        "# OPTIMIZING MODEL PARAMETERS\n",
        "\n",
        "\n",
        "**Hyperparameters**\n",
        "\n",
        "Hyperparameters are adjustable parameters that let you control the model optimization process. Different hyperparameter values can impact model training and convergence rates (read more about hyperparameter tuning)\n",
        "\n",
        "We define the following hyperparameters for training:\n",
        "1.   Number of Epochs - the number times to iterate over the dataset\n",
        "2.   Batch Size - the number of data samples propagated through the network before the parameters are updated\n",
        "3.   Learning Rate - how much to update models parameters at each batch/epoch. \n",
        "\n",
        "Smaller values yield slow learning speed, while large values may result in unpredictable behavior during training."
      ],
      "metadata": {
        "id": "u8mAj8P8ZxYE"
      }
    },
    {
      "cell_type": "code",
      "source": [
        "learning_rate = 1e-3\n",
        "batch_size = 64\n",
        "epochs = 5"
      ],
      "metadata": {
        "id": "Enk4yNsETJuc"
      },
      "execution_count": 123,
      "outputs": []
    },
    {
      "cell_type": "markdown",
      "source": [
        "# Optimization Loop\n",
        "Once we set our hyperparameters, we can then train and optimize our model with an optimization loop. Each iteration of the optimization loop is called an epoch.\n",
        "\n",
        "Each epoch consists of two main parts:\n",
        "\n",
        "1.   **The Train Loop** - iterate over the training dataset and try to converge to optimal parameters. \n",
        "2.   **The Validation/Test Loop** - iterate over the test dataset to check if model performance is improving.\n",
        "\n",
        "Let’s briefly familiarize ourselves with some of the concepts used in the training loop. Jump ahead to see the Full Implementation of the optimization loop.\n",
        "\n",
        "\n",
        "# Loss Function\n",
        "When presented with some training data, our untrained network is likely not to give the correct answer. **Loss function** measures the degree of dissimilarity of obtained result to the target value, and it is the loss function that we want to minimize during training. To calculate the loss we make a prediction using the inputs of our given data sample and compare it against the true data label value.\n",
        "\n",
        "Common loss functions include **nn.MSELoss**(Mean Square Error) for regression tasks, and **nn.NLLLoss** (Negative Log Likelihood) for classification. \n",
        "\n",
        "**nn.CrossEntropyLoss** combines nn.LogSoftmax and nn.NLLLoss.\n",
        "\n",
        "We pass our model’s output logits to nn.CrossEntropyLoss, which will normalize the logits and compute the prediction error."
      ],
      "metadata": {
        "id": "avh4yafVaxqv"
      }
    },
    {
      "cell_type": "code",
      "source": [
        "# Initialize the loss function\n",
        "loss_fn = nn.CrossEntropyLoss()"
      ],
      "metadata": {
        "id": "2wL743-FTJq6"
      },
      "execution_count": 124,
      "outputs": []
    },
    {
      "cell_type": "markdown",
      "source": [
        "# Optimizer\n",
        "\n",
        "Optimization is the process of adjusting model parameters to reduce model error in each training step. Optimization algorithms define how this process is performed (in this example we use Stochastic Gradient Descent). All optimization logic is encapsulated in the optimizer object. Here, we use the SGD optimizer; additionally, there are many different optimizers available in PyTorch such as ADAM and RMSProp, that work better for different kinds of models and data.\n",
        "\n",
        "We initialize the optimizer by registering the model’s parameters that need to be trained, and passing in the learning rate hyperparameter."
      ],
      "metadata": {
        "id": "LVZad0dMbkqV"
      }
    },
    {
      "cell_type": "code",
      "source": [
        "optimizer = torch.optim.SGD(model.parameters(), lr=learning_rate)"
      ],
      "metadata": {
        "id": "ZhsBUxqRTJnh"
      },
      "execution_count": 125,
      "outputs": []
    },
    {
      "cell_type": "markdown",
      "source": [
        "Inside the training loop, optimization happens in three steps:\n",
        "\n",
        "*   Call optimizer.zero_grad() to reset the gradients of model parameters. Gradients by default add up; to prevent double-counting, we explicitly zero them at each iteration.\n",
        "\n",
        "*   Backpropagate the prediction loss with a call to loss.backward(). PyTorch deposits the gradients of the loss w.r.t. each parameter.\n",
        "\n",
        "*   Once we have our gradients, we call optimizer.step() to adjust the parameters by the gradients collected in the backward pass.\n"
      ],
      "metadata": {
        "id": "kCKzfU-WbrgH"
      }
    },
    {
      "cell_type": "markdown",
      "source": [
        "# Prerequisite Code\n",
        "\n",
        "We load the code from the previous sections on Datasets & DataLoaders and Build Model."
      ],
      "metadata": {
        "id": "yhrWRkc5dyTt"
      }
    },
    {
      "cell_type": "code",
      "source": [
        "import torch\n",
        "from torch import nn\n",
        "from torch.utils.data import DataLoader\n",
        "from torchvision import datasets\n",
        "from torchvision.transforms import ToTensor, Lambda\n",
        "\n",
        "training_data = datasets.FashionMNIST(\n",
        "    root=\"data\",\n",
        "    train=True,\n",
        "    download=True,\n",
        "    transform=ToTensor()\n",
        ")\n",
        "\n",
        "test_data = datasets.FashionMNIST(\n",
        "    root=\"data\",\n",
        "    train=False,\n",
        "    download=True,\n",
        "    transform=ToTensor()\n",
        ")\n",
        "\n",
        "train_dataloader = DataLoader(training_data, batch_size=64)\n",
        "test_dataloader = DataLoader(test_data, batch_size=64)\n",
        "\n",
        "class NeuralNetwork(nn.Module):\n",
        "    def __init__(self):\n",
        "        super(NeuralNetwork, self).__init__()\n",
        "        self.flatten = nn.Flatten()\n",
        "        self.linear_relu_stack = nn.Sequential(\n",
        "            nn.Linear(28*28, 512),\n",
        "            nn.ReLU(),\n",
        "            nn.Linear(512, 512),\n",
        "            nn.ReLU(),\n",
        "            nn.Linear(512, 10),\n",
        "        )\n",
        "\n",
        "    def forward(self, x):\n",
        "        x = self.flatten(x)\n",
        "        logits = self.linear_relu_stack(x)\n",
        "        return logits\n",
        "\n",
        "model = NeuralNetwork()"
      ],
      "metadata": {
        "id": "1XyUdaLZd5Fy"
      },
      "execution_count": 126,
      "outputs": []
    },
    {
      "cell_type": "markdown",
      "source": [
        "# Full Implementation\n",
        "\n",
        "We define train_loop that loops over our optimization code, and test_loop that evaluates the model’s performance against our test data."
      ],
      "metadata": {
        "id": "D5RSxlclb9TA"
      }
    },
    {
      "cell_type": "code",
      "source": [
        "def train_loop(dataloader, model, loss_fn, optimizer):\n",
        "    size = len(dataloader.dataset)\n",
        "    for batch, (X, y) in enumerate(dataloader):\n",
        "        # Compute prediction and loss\n",
        "        pred = model(X)\n",
        "        loss = loss_fn(pred, y)\n",
        "\n",
        "        # Backpropagation\n",
        "        optimizer.zero_grad()\n",
        "        loss.backward()\n",
        "        optimizer.step()\n",
        "\n",
        "        if batch % 100 == 0:\n",
        "            loss, current = loss.item(), batch * len(X)\n",
        "            print(f\"loss: {loss:>7f}  [{current:>5d}/{size:>5d}]\")\n",
        "\n",
        "\n",
        "def test_loop(dataloader, model, loss_fn):\n",
        "    size = len(dataloader.dataset)\n",
        "    num_batches = len(dataloader)\n",
        "    test_loss, correct = 0, 0\n",
        "\n",
        "    with torch.no_grad():\n",
        "        for X, y in dataloader:\n",
        "            pred = model(X)\n",
        "            test_loss += loss_fn(pred, y).item()\n",
        "            correct += (pred.argmax(1) == y).type(torch.float).sum().item()\n",
        "\n",
        "    test_loss /= num_batches\n",
        "    correct /= size\n",
        "    print(f\"Test Error: \\n Accuracy: {(100*correct):>0.1f}%, Avg loss: {test_loss:>8f} \\n\")"
      ],
      "metadata": {
        "id": "a4mBWHeIb6Th"
      },
      "execution_count": 127,
      "outputs": []
    },
    {
      "cell_type": "markdown",
      "source": [
        "We initialize the loss function and optimizer, and pass it to train_loop and test_loop. Feel free to increase the number of epochs to track the model’s improving performance."
      ],
      "metadata": {
        "id": "3Je-rbFQcFO-"
      }
    },
    {
      "cell_type": "code",
      "source": [
        "loss_fn = nn.CrossEntropyLoss()\n",
        "optimizer = torch.optim.SGD(model.parameters(), lr=learning_rate)\n",
        "\n",
        "epochs = 10\n",
        "for t in range(epochs):\n",
        "    print(f\"Epoch {t+1}\\n-------------------------------\")\n",
        "    train_loop(train_dataloader, model, loss_fn, optimizer)\n",
        "    test_loop(test_dataloader, model, loss_fn)\n",
        "print(\"Done!\")"
      ],
      "metadata": {
        "colab": {
          "base_uri": "https://localhost:8080/"
        },
        "id": "5IO-6T1McHQw",
        "outputId": "0e86988c-e792-4d1e-8a87-1266ed104a0e"
      },
      "execution_count": 128,
      "outputs": [
        {
          "output_type": "stream",
          "name": "stdout",
          "text": [
            "Epoch 1\n",
            "-------------------------------\n",
            "loss: 2.308574  [    0/60000]\n",
            "loss: 2.294995  [ 6400/60000]\n",
            "loss: 2.275623  [12800/60000]\n",
            "loss: 2.266422  [19200/60000]\n",
            "loss: 2.252425  [25600/60000]\n",
            "loss: 2.218618  [32000/60000]\n",
            "loss: 2.229095  [38400/60000]\n",
            "loss: 2.193177  [44800/60000]\n",
            "loss: 2.195484  [51200/60000]\n",
            "loss: 2.164889  [57600/60000]\n",
            "Test Error: \n",
            " Accuracy: 47.1%, Avg loss: 2.156276 \n",
            "\n",
            "Epoch 2\n",
            "-------------------------------\n",
            "loss: 2.174740  [    0/60000]\n",
            "loss: 2.161697  [ 6400/60000]\n",
            "loss: 2.100906  [12800/60000]\n",
            "loss: 2.110583  [19200/60000]\n",
            "loss: 2.069905  [25600/60000]\n",
            "loss: 2.003368  [32000/60000]\n",
            "loss: 2.038958  [38400/60000]\n",
            "loss: 1.959244  [44800/60000]\n",
            "loss: 1.970924  [51200/60000]\n",
            "loss: 1.902657  [57600/60000]\n",
            "Test Error: \n",
            " Accuracy: 53.8%, Avg loss: 1.893633 \n",
            "\n",
            "Epoch 3\n",
            "-------------------------------\n",
            "loss: 1.936060  [    0/60000]\n",
            "loss: 1.902843  [ 6400/60000]\n",
            "loss: 1.782731  [12800/60000]\n",
            "loss: 1.816279  [19200/60000]\n",
            "loss: 1.720310  [25600/60000]\n",
            "loss: 1.663735  [32000/60000]\n",
            "loss: 1.697773  [38400/60000]\n",
            "loss: 1.596881  [44800/60000]\n",
            "loss: 1.628789  [51200/60000]\n",
            "loss: 1.524635  [57600/60000]\n",
            "Test Error: \n",
            " Accuracy: 58.6%, Avg loss: 1.535406 \n",
            "\n",
            "Epoch 4\n",
            "-------------------------------\n",
            "loss: 1.609536  [    0/60000]\n",
            "loss: 1.572548  [ 6400/60000]\n",
            "loss: 1.418870  [12800/60000]\n",
            "loss: 1.480936  [19200/60000]\n",
            "loss: 1.370093  [25600/60000]\n",
            "loss: 1.359830  [32000/60000]\n",
            "loss: 1.381179  [38400/60000]\n",
            "loss: 1.307239  [44800/60000]\n",
            "loss: 1.344271  [51200/60000]\n",
            "loss: 1.242849  [57600/60000]\n",
            "Test Error: \n",
            " Accuracy: 62.1%, Avg loss: 1.268045 \n",
            "\n",
            "Epoch 5\n",
            "-------------------------------\n",
            "loss: 1.351426  [    0/60000]\n",
            "loss: 1.333163  [ 6400/60000]\n",
            "loss: 1.165832  [12800/60000]\n",
            "loss: 1.256031  [19200/60000]\n",
            "loss: 1.136893  [25600/60000]\n",
            "loss: 1.159996  [32000/60000]\n",
            "loss: 1.183961  [38400/60000]\n",
            "loss: 1.126347  [44800/60000]\n",
            "loss: 1.164161  [51200/60000]\n",
            "loss: 1.078680  [57600/60000]\n",
            "Test Error: \n",
            " Accuracy: 64.0%, Avg loss: 1.101521 \n",
            "\n",
            "Epoch 6\n",
            "-------------------------------\n",
            "loss: 1.178668  [    0/60000]\n",
            "loss: 1.181616  [ 6400/60000]\n",
            "loss: 0.999289  [12800/60000]\n",
            "loss: 1.115992  [19200/60000]\n",
            "loss: 0.994714  [25600/60000]\n",
            "loss: 1.025456  [32000/60000]\n",
            "loss: 1.063119  [38400/60000]\n",
            "loss: 1.010739  [44800/60000]\n",
            "loss: 1.047054  [51200/60000]\n",
            "loss: 0.976911  [57600/60000]\n",
            "Test Error: \n",
            " Accuracy: 65.6%, Avg loss: 0.994170 \n",
            "\n",
            "Epoch 7\n",
            "-------------------------------\n",
            "loss: 1.058467  [    0/60000]\n",
            "loss: 1.083337  [ 6400/60000]\n",
            "loss: 0.884644  [12800/60000]\n",
            "loss: 1.023096  [19200/60000]\n",
            "loss: 0.905911  [25600/60000]\n",
            "loss: 0.929677  [32000/60000]\n",
            "loss: 0.984483  [38400/60000]\n",
            "loss: 0.934562  [44800/60000]\n",
            "loss: 0.965384  [51200/60000]\n",
            "loss: 0.908728  [57600/60000]\n",
            "Test Error: \n",
            " Accuracy: 66.7%, Avg loss: 0.920636 \n",
            "\n",
            "Epoch 8\n",
            "-------------------------------\n",
            "loss: 0.970010  [    0/60000]\n",
            "loss: 1.015115  [ 6400/60000]\n",
            "loss: 0.801422  [12800/60000]\n",
            "loss: 0.957109  [19200/60000]\n",
            "loss: 0.846884  [25600/60000]\n",
            "loss: 0.858718  [32000/60000]\n",
            "loss: 0.929386  [38400/60000]\n",
            "loss: 0.882743  [44800/60000]\n",
            "loss: 0.905994  [51200/60000]\n",
            "loss: 0.859233  [57600/60000]\n",
            "Test Error: \n",
            " Accuracy: 68.1%, Avg loss: 0.867398 \n",
            "\n",
            "Epoch 9\n",
            "-------------------------------\n",
            "loss: 0.901953  [    0/60000]\n",
            "loss: 0.963988  [ 6400/60000]\n",
            "loss: 0.738748  [12800/60000]\n",
            "loss: 0.907578  [19200/60000]\n",
            "loss: 0.804817  [25600/60000]\n",
            "loss: 0.805001  [32000/60000]\n",
            "loss: 0.888114  [38400/60000]\n",
            "loss: 0.846241  [44800/60000]\n",
            "loss: 0.861556  [51200/60000]\n",
            "loss: 0.821198  [57600/60000]\n",
            "Test Error: \n",
            " Accuracy: 69.1%, Avg loss: 0.826999 \n",
            "\n",
            "Epoch 10\n",
            "-------------------------------\n",
            "loss: 0.847798  [    0/60000]\n",
            "loss: 0.923216  [ 6400/60000]\n",
            "loss: 0.689823  [12800/60000]\n",
            "loss: 0.868979  [19200/60000]\n",
            "loss: 0.772981  [25600/60000]\n",
            "loss: 0.763908  [32000/60000]\n",
            "loss: 0.855407  [38400/60000]\n",
            "loss: 0.819376  [44800/60000]\n",
            "loss: 0.827285  [51200/60000]\n",
            "loss: 0.790826  [57600/60000]\n",
            "Test Error: \n",
            " Accuracy: 70.2%, Avg loss: 0.795013 \n",
            "\n",
            "Done!\n"
          ]
        }
      ]
    },
    {
      "cell_type": "markdown",
      "source": [
        "# SAVE AND LOAD THE MODEL\n",
        "\n",
        "we will look at how to persist model state with saving, loading and running model predictions."
      ],
      "metadata": {
        "id": "sd9d9a46eb9s"
      }
    },
    {
      "cell_type": "code",
      "source": [
        "import torch\n",
        "import torchvision.models as models"
      ],
      "metadata": {
        "id": "Qb64vZCleiDe"
      },
      "execution_count": 129,
      "outputs": []
    },
    {
      "cell_type": "markdown",
      "source": [
        "**Saving and Loading Model Weights**\n",
        "\n",
        "PyTorch models store the learned parameters in an internal state dictionary, called state_dict. These can be persisted via the torch.save method:"
      ],
      "metadata": {
        "id": "3TyTZR8yenhI"
      }
    },
    {
      "cell_type": "code",
      "source": [
        "model = models.vgg16(pretrained=True)\n",
        "torch.save(model.state_dict(), 'model_weights.pth')"
      ],
      "metadata": {
        "id": "ag6TvHhseubx"
      },
      "execution_count": 130,
      "outputs": []
    },
    {
      "cell_type": "markdown",
      "source": [
        "To load model weights, you need to create an instance of the same model first, and then load the parameters using load_state_dict() method."
      ],
      "metadata": {
        "id": "FHyE4rAhezaJ"
      }
    },
    {
      "cell_type": "code",
      "source": [
        "model = models.vgg16() # we do not specify pretrained=True, i.e. do not load default weights\n",
        "model.load_state_dict(torch.load('model_weights.pth'))\n",
        "model.eval()"
      ],
      "metadata": {
        "colab": {
          "base_uri": "https://localhost:8080/"
        },
        "id": "Nbohkr4ie0_p",
        "outputId": "32f0e052-5c77-47cd-db18-e63541b1a998"
      },
      "execution_count": 131,
      "outputs": [
        {
          "output_type": "execute_result",
          "data": {
            "text/plain": [
              "VGG(\n",
              "  (features): Sequential(\n",
              "    (0): Conv2d(3, 64, kernel_size=(3, 3), stride=(1, 1), padding=(1, 1))\n",
              "    (1): ReLU(inplace=True)\n",
              "    (2): Conv2d(64, 64, kernel_size=(3, 3), stride=(1, 1), padding=(1, 1))\n",
              "    (3): ReLU(inplace=True)\n",
              "    (4): MaxPool2d(kernel_size=2, stride=2, padding=0, dilation=1, ceil_mode=False)\n",
              "    (5): Conv2d(64, 128, kernel_size=(3, 3), stride=(1, 1), padding=(1, 1))\n",
              "    (6): ReLU(inplace=True)\n",
              "    (7): Conv2d(128, 128, kernel_size=(3, 3), stride=(1, 1), padding=(1, 1))\n",
              "    (8): ReLU(inplace=True)\n",
              "    (9): MaxPool2d(kernel_size=2, stride=2, padding=0, dilation=1, ceil_mode=False)\n",
              "    (10): Conv2d(128, 256, kernel_size=(3, 3), stride=(1, 1), padding=(1, 1))\n",
              "    (11): ReLU(inplace=True)\n",
              "    (12): Conv2d(256, 256, kernel_size=(3, 3), stride=(1, 1), padding=(1, 1))\n",
              "    (13): ReLU(inplace=True)\n",
              "    (14): Conv2d(256, 256, kernel_size=(3, 3), stride=(1, 1), padding=(1, 1))\n",
              "    (15): ReLU(inplace=True)\n",
              "    (16): MaxPool2d(kernel_size=2, stride=2, padding=0, dilation=1, ceil_mode=False)\n",
              "    (17): Conv2d(256, 512, kernel_size=(3, 3), stride=(1, 1), padding=(1, 1))\n",
              "    (18): ReLU(inplace=True)\n",
              "    (19): Conv2d(512, 512, kernel_size=(3, 3), stride=(1, 1), padding=(1, 1))\n",
              "    (20): ReLU(inplace=True)\n",
              "    (21): Conv2d(512, 512, kernel_size=(3, 3), stride=(1, 1), padding=(1, 1))\n",
              "    (22): ReLU(inplace=True)\n",
              "    (23): MaxPool2d(kernel_size=2, stride=2, padding=0, dilation=1, ceil_mode=False)\n",
              "    (24): Conv2d(512, 512, kernel_size=(3, 3), stride=(1, 1), padding=(1, 1))\n",
              "    (25): ReLU(inplace=True)\n",
              "    (26): Conv2d(512, 512, kernel_size=(3, 3), stride=(1, 1), padding=(1, 1))\n",
              "    (27): ReLU(inplace=True)\n",
              "    (28): Conv2d(512, 512, kernel_size=(3, 3), stride=(1, 1), padding=(1, 1))\n",
              "    (29): ReLU(inplace=True)\n",
              "    (30): MaxPool2d(kernel_size=2, stride=2, padding=0, dilation=1, ceil_mode=False)\n",
              "  )\n",
              "  (avgpool): AdaptiveAvgPool2d(output_size=(7, 7))\n",
              "  (classifier): Sequential(\n",
              "    (0): Linear(in_features=25088, out_features=4096, bias=True)\n",
              "    (1): ReLU(inplace=True)\n",
              "    (2): Dropout(p=0.5, inplace=False)\n",
              "    (3): Linear(in_features=4096, out_features=4096, bias=True)\n",
              "    (4): ReLU(inplace=True)\n",
              "    (5): Dropout(p=0.5, inplace=False)\n",
              "    (6): Linear(in_features=4096, out_features=1000, bias=True)\n",
              "  )\n",
              ")"
            ]
          },
          "metadata": {},
          "execution_count": 131
        }
      ]
    },
    {
      "cell_type": "markdown",
      "source": [
        "**Saving and Loading Models with Shapes**\n",
        "\n",
        "When loading model weights, we needed to instantiate the model class first, because the class defines the structure of a network. We might want to save the structure of this class together with the model, in which case we can pass model (and not model.state_dict()) to the saving function:"
      ],
      "metadata": {
        "id": "v4ofSEXZe7Eu"
      }
    },
    {
      "cell_type": "code",
      "source": [
        "torch.save(model, 'model.pth')"
      ],
      "metadata": {
        "id": "92aL8wE3fGEu"
      },
      "execution_count": 132,
      "outputs": []
    },
    {
      "cell_type": "markdown",
      "source": [
        "We can then load the model like this:"
      ],
      "metadata": {
        "id": "Dx3ChnNdfIPz"
      }
    },
    {
      "cell_type": "code",
      "source": [
        "model = torch.load('model.pth')"
      ],
      "metadata": {
        "id": "KDnBXIBwb6PG"
      },
      "execution_count": 133,
      "outputs": []
    },
    {
      "cell_type": "markdown",
      "source": [
        "# **TensorFlow Coder (TF-Coder): A program synthesis tool for TensorFlow expressions**"
      ],
      "metadata": {
        "id": "4dmIZrMDrqH5"
      }
    },
    {
      "cell_type": "code",
      "source": [
        "#@title Run this cell after making your choices.\n",
        "\n",
        "allow_data_collection = True  #@param {type: \"boolean\"}\n",
        "include_in_dataset = True  #@param {type: \"boolean\"}\n",
        "\n",
        "if allow_data_collection:\n",
        "  if include_in_dataset:\n",
        "    print('Usage data may be collected and released in a public dataset.')\n",
        "  else:\n",
        "    print('Usage data may be collected but will not be publicly released.')\n",
        "else:\n",
        "  print('Usage data will not be collected.')"
      ],
      "metadata": {
        "colab": {
          "base_uri": "https://localhost:8080/"
        },
        "id": "-zQGnvmfrnZ6",
        "outputId": "d6292e0d-bd3d-4a40-e365-e98095a712a7"
      },
      "execution_count": 134,
      "outputs": [
        {
          "output_type": "stream",
          "name": "stdout",
          "text": [
            "Usage data may be collected and released in a public dataset.\n"
          ]
        }
      ]
    },
    {
      "cell_type": "markdown",
      "source": [
        "Step 1: Installs and imports"
      ],
      "metadata": {
        "id": "I37QHuAirs9Q"
      }
    },
    {
      "cell_type": "code",
      "source": [
        "#@title Run this cell to install and import TF-Coder.\n",
        "\n",
        "ready = True\n",
        "try:\n",
        "  _ = (allow_data_collection, include_in_dataset)\n",
        "except NameError as e:\n",
        "  print('Please run the cell in Step 0 first.')\n",
        "  ready = False\n",
        "\n",
        "if ready:\n",
        "  # Import TensorFlow and NumPy in case the user wants to create the example\n",
        "  # programmatically.\n",
        "  import tensorflow as tf\n",
        "  import numpy as np\n",
        "  \n",
        "  !pip install tensorflow-coder\n",
        "  from tf_coder.value_search import colab_interface\n",
        "  from tf_coder.value_search import value_search_settings as settings_module\n",
        "\n",
        "  if allow_data_collection:\n",
        "    !pip install tensorflow-coder-colab-logging\n",
        "    from tf_coder_colab_logging import colab_logging\n",
        "\n",
        "  from google.colab import output\n",
        "  output.clear()\n",
        "\n",
        "  print('Imports successful. Loading models...')\n",
        "  colab_interface.warm_up()\n",
        "  print('Done. TF-Coder is now ready to use!')"
      ],
      "metadata": {
        "colab": {
          "base_uri": "https://localhost:8080/"
        },
        "id": "EsfWuQ6Fru9T",
        "outputId": "2aac2eac-ab72-4159-e1d7-f639e3a0463a"
      },
      "execution_count": 135,
      "outputs": [
        {
          "output_type": "stream",
          "name": "stdout",
          "text": [
            "Imports successful. Loading models...\n",
            "Done. TF-Coder is now ready to use!\n"
          ]
        }
      ]
    },
    {
      "cell_type": "markdown",
      "source": [
        "Step 2: Describe the problem with an example"
      ],
      "metadata": {
        "id": "-FXTtkXfrzqD"
      }
    },
    {
      "cell_type": "markdown",
      "source": [
        "Provide an input-output example:\n",
        "\n",
        "inputs is a dictionary containing one or more input tensors with variable names.\n",
        "output is the corresponding output tensor.\n",
        "Tensors can be provided as lists (possibly multidimensional) or tf.Tensor objects.\n",
        "\n",
        "You may also specify relevant scalar constants. TF-Coder also uses heuristics to guess a few useful constants.\n",
        "\n",
        "Finally, it often helps to provide an English description of the desired tensor manipulation. This description can help the tool decide which TensorFlow operations to prioritize.\n",
        "\n",
        "Note: Please do not include confidential or personal information."
      ],
      "metadata": {
        "id": "cyvRaHM9r2Vy"
      }
    },
    {
      "cell_type": "code",
      "source": [
        "# Edit this cell! Follow the format of the example below.\n",
        "\n",
        "# A dict mapping input variable names to input tensors.\n",
        "inputs = {\n",
        "    'rows': [10, 20, 30],\n",
        "    'cols': [1, 2, 3, 4],\n",
        "}\n",
        "\n",
        "# The corresponding output tensor.\n",
        "output = [[11, 12, 13, 14],\n",
        "          [21, 22, 23, 24],\n",
        "          [31, 32, 33, 34]]\n",
        "\n",
        "# A list of relevant scalar constants, if any.\n",
        "constants = []\n",
        "\n",
        "# An English description of the tensor manipulation.\n",
        "description = 'add two vectors with broadcasting to get a matrix'"
      ],
      "metadata": {
        "id": "z_i-9i0trzOb"
      },
      "execution_count": 136,
      "outputs": []
    },
    {
      "cell_type": "markdown",
      "source": [
        "Step 3: Run the TF-Coder tool"
      ],
      "metadata": {
        "id": "8Y06rrT1r8fF"
      }
    },
    {
      "cell_type": "code",
      "source": [
        "ready = True\n",
        "try:\n",
        "  _ = colab_interface\n",
        "except NameError:\n",
        "  print('Run the cell in Step 1 first.')\n",
        "  ready = False\n",
        "try:\n",
        "  _ = (inputs, output, constants, description)\n",
        "except NameError:\n",
        "  print('Define the problem by running the cell in Step 2 first.')\n",
        "  ready = False\n",
        "\n",
        "#@markdown &nbsp;\n",
        "#@markdown #### **Settings for TF-Coder**\n",
        "#@markdown How long to search for a solution, in seconds.\n",
        "time_limit = 60  #@param {type: \"integer\"}\n",
        "#@markdown How many solutions to find before stopping. If more than 1, the entire search will slow down.\n",
        "number_of_solutions = 1  #@param{type: \"integer\"}\n",
        "#@markdown Whether solutions must use all inputs, at least one input, or no such requirement.\n",
        "solution_requirement = \"all inputs\" #@param [\"all inputs\", \"one input\", \"no restriction\"]\n",
        "\n",
        "settings = settings_module.from_dict({\n",
        "    'timeout': time_limit,\n",
        "    'only_minimal_solutions': False,\n",
        "    'max_solutions': number_of_solutions,\n",
        "    'require_all_inputs_used': solution_requirement == 'all inputs',\n",
        "    'require_one_input_used': solution_requirement == 'one input',\n",
        "})\n",
        "\n",
        "if ready:\n",
        "  if allow_data_collection:\n",
        "    problem_id = colab_logging.get_uuid()\n",
        "    colab_logging.log_problem(inputs, output, constants, description, settings,\n",
        "                              include_in_dataset=include_in_dataset,\n",
        "                              problem_id=problem_id)\n",
        "\n",
        "  # Results will be printed to the cell's output.\n",
        "  results = colab_interface.run_value_search_from_colab(\n",
        "      inputs, output, constants, description, settings)\n",
        "\n",
        "  if allow_data_collection:\n",
        "    colab_logging.log_result(results,\n",
        "                             include_in_dataset=include_in_dataset,\n",
        "                             problem_id=problem_id)"
      ],
      "metadata": {
        "colab": {
          "base_uri": "https://localhost:8080/",
          "height": 398
        },
        "id": "fCtFfi5ZsEUR",
        "outputId": "2c1bce4a-695c-4cd1-c395-e9883c0e83e1"
      },
      "execution_count": 137,
      "outputs": [
        {
          "output_type": "display_data",
          "data": {
            "text/html": [
              "\n",
              "<!-- Global site tag (gtag.js) - Google Analytics -->\n",
              "<script async src=\"https://www.googletagmanager.com/gtag/js?id=UA-141920863-2\"></script>\n",
              "<script>\n",
              "  window.dataLayer = window.dataLayer || [];\n",
              "  function gtag(){dataLayer.push(arguments);}\n",
              "  gtag('js', new Date());\n",
              "\n",
              "  gtag('config', 'UA-141920863-2',\n",
              "       {'referrer': document.referrer.split('?')[0],\n",
              "        'anonymize_ip': true,\n",
              "        'page_title': '',\n",
              "        'page_referrer': '',\n",
              "        'cookie_prefix': 'tf_coder',\n",
              "        'cookie_domain': 'auto',\n",
              "        'cookie_expires': 0,\n",
              "        'cookie_flags': 'SameSite=None;Secure'});\n",
              "</script>\n"
            ],
            "text/plain": [
              "<IPython.core.display.HTML object>"
            ]
          },
          "metadata": {}
        },
        {
          "output_type": "display_data",
          "data": {
            "application/javascript": [
              "gtag('event', 'problem', {'event_category': 'tf_coder_problem', 'dimension1': \"{'kind': 'Dict', 'dict': {'inputs': {'kind': 'Dict', 'dict': {'rows': [10, 20, 30], 'cols': [1, 2, 3, 4]}}, 'output': [[11, 12, 13, 14], [21, 22, 23, \", 'dimension2': \"24], [31, 32, 33, 34]], 'constants': [], 'description': 'add two vectors with broadcasting to get a matrix', 'settings': {'kind': 'Dict', 'dict': {'al\", 'dimension3': \"gorithm_version': 'Value search, TF-IDF (k=5, min_score=0.15), tensor features model with F_1 loss and max weighting, 2020/08/26', 'timeout': 60, 'max\", 'dimension4': \"_solutions': 1, 'only_minimal_solutions': False, 'max_extra_solutions_time': 10, 'max_weight': 300, 'require_all_inputs_used': True, 'require_one_inpu\", 'dimension5': \"t_used': False, 'description_handler_name': 'tfidf_5_0.15', 'operations.limit_sparse_operations': True, 'tensor_model.checkpoint_path': '/usr/local/li\", 'dimension6': \"b/python3.7/dist-packages/tf_coder/models/trained_model/ckpt-1172', 'tensor_model.config_path': '/usr/local/lib/python3.7/dist-packages/tf_coder/model\", 'dimension7': \"s/trained_model/config.json', 'tensor_model.prioritize_threshold': 0.5, 'tensor_model.prioritize_multiplier': 0.75, 'tensor_model.deprioritize_thresho\", 'dimension8': \"ld': -1, 'tensor_model.deprioritize_multiplier': 1.25, 'tensor_model.max_deprioritized': 100, 'printing.verbose': False, 'printing.all_apply': False, \", 'dimension9': \"'printing.tensor_size_warnings': False, 'printing.progress': False, 'printing.bad_solutions': False, 'printing.statistics': False, 'printing.statistic\", 'dimension10': \"s_sort_by_time': True, 'printing.prioritized_operations': False, 'printing.deprioritized_operations': False, 'paper_experiments.skip_filtering': False\", 'dimension11': \", 'paper_experiments.uniform_weights': False}}, 'include_in_dataset': True, 'problem_id': 10057114216200307289, 'session_id': 10374534851873976870, 't\", 'dimension12': \"f_coder_version': '0.0.5', 'logging_version': '0.0.4', 'tensorflow_version': '2.8.0', 'python_version': '3.7.12 (default, Jan 15 2022, 18:48:18) \\\\n[GC\", 'dimension13': \"C 7.5.0]'}}\", })"
            ],
            "text/plain": [
              "<IPython.core.display.Javascript object>"
            ]
          },
          "metadata": {}
        },
        {
          "output_type": "stream",
          "name": "stdout",
          "text": [
            "Input 'rows':\n",
            "tf.Tensor([10 20 30], shape=(3,), dtype=int32)\n",
            "\n",
            "Input 'cols':\n",
            "tf.Tensor([1 2 3 4], shape=(4,), dtype=int32)\n",
            "\n",
            "Output:\n",
            "tf.Tensor(\n",
            "[[11 12 13 14]\n",
            " [21 22 23 24]\n",
            " [31 32 33 34]], shape=(3, 4), dtype=int32)\n",
            "\n",
            "Constants: [0, 1, -1, True, False, 3, 4]\n",
            "\n",
            "Description: add two vectors with broadcasting to get a matrix\n",
            "\n",
            "Searching...\n",
            "\n",
            "Found solution: tf.add(cols, tf.expand_dims(rows, 1))\n",
            "\n",
            "Solution was found in 0.6 seconds:\n",
            "tf.add(cols, tf.expand_dims(rows, 1))\n"
          ]
        },
        {
          "output_type": "display_data",
          "data": {
            "application/javascript": [
              "gtag('event', 'result', {'event_category': 'tf_coder_result', 'dimension1': \"{'kind': 'Dict', 'dict': {'inputs': {'kind': 'Dict', 'dict': {'rows': [10, 20, 30], 'cols': [1, 2, 3, 4]}}, 'output': [[11, 12, 13, 14], [21, 22, 23, \", 'dimension2': \"24], [31, 32, 33, 34]], 'constants': [], 'description': 'add two vectors with broadcasting to get a matrix', 'settings': {'kind': 'Dict', 'dict': {'al\", 'dimension3': \"gorithm_version': 'Value search, TF-IDF (k=5, min_score=0.15), tensor features model with F_1 loss and max weighting, 2020/08/26', 'timeout': 60, 'max\", 'dimension4': \"_solutions': 1, 'only_minimal_solutions': False, 'max_extra_solutions_time': 10, 'max_weight': 300, 'require_all_inputs_used': True, 'require_one_inpu\", 'dimension5': \"t_used': False, 'description_handler_name': 'tfidf_5_0.15', 'operations.limit_sparse_operations': True, 'tensor_model.checkpoint_path': '/usr/local/li\", 'dimension6': \"b/python3.7/dist-packages/tf_coder/models/trained_model/ckpt-1172', 'tensor_model.config_path': '/usr/local/lib/python3.7/dist-packages/tf_coder/model\", 'dimension7': \"s/trained_model/config.json', 'tensor_model.prioritize_threshold': 0.5, 'tensor_model.prioritize_multiplier': 0.75, 'tensor_model.deprioritize_thresho\", 'dimension8': \"ld': -1, 'tensor_model.deprioritize_multiplier': 1.25, 'tensor_model.max_deprioritized': 100, 'printing.verbose': False, 'printing.all_apply': False, \", 'dimension9': \"'printing.tensor_size_warnings': False, 'printing.progress': False, 'printing.bad_solutions': False, 'printing.statistics': False, 'printing.statistic\", 'dimension10': \"s_sort_by_time': True, 'printing.prioritized_operations': False, 'printing.deprioritized_operations': False, 'paper_experiments.skip_filtering': False\", 'dimension11': \", 'paper_experiments.uniform_weights': False}}, 'include_in_dataset': True, 'problem_id': 10057114216200307289, 'session_id': 10374534851873976870, 't\", 'dimension12': \"f_coder_version': '0.0.5', 'logging_version': '0.0.4', 'tensorflow_version': '2.8.0', 'python_version': '3.7.12 (default, Jan 15 2022, 18:48:18) \\\\n[GC\", 'dimension13': \"C 7.5.0]', 'success': True, 'solution_expressions': ['tf.add(cols, tf.expand_dims(rows, 1))'], 'solution_weights': [54], 'solution_times': [0.58771116\", 'dimension14': \"99992383], 'total_time': 0.5957708329988236, 'value_set_size': 142}}\", })"
            ],
            "text/plain": [
              "<IPython.core.display.Javascript object>"
            ]
          },
          "metadata": {}
        }
      ]
    },
    {
      "cell_type": "markdown",
      "source": [
        "Example problems that TF-Coder can solve"
      ],
      "metadata": {
        "id": "Jpt1tvpksSWr"
      }
    },
    {
      "cell_type": "code",
      "source": [
        "# Real task encountered by a Googler.\n",
        "inputs = {\n",
        "    'tensor': [[0, 1, 0, 0],\n",
        "               [0, 1, 1, 0],\n",
        "               [1, 1, 1, 1]],\n",
        "}\n",
        "output = [[0.0, 1.0, 0.0, 0.0],\n",
        "          [0.0, 0.5, 0.5, 0.0],\n",
        "          [0.25, 0.25, 0.25, 0.25]]\n",
        "constants = []\n",
        "description = 'normalize the rows of a tensor'"
      ],
      "metadata": {
        "id": "1qwNbD7vwsXw"
      },
      "execution_count": 138,
      "outputs": []
    },
    {
      "cell_type": "code",
      "source": [
        "ready = True\n",
        "try:\n",
        "  _ = colab_interface\n",
        "except NameError:\n",
        "  print('Run the cell in Step 1 first.')\n",
        "  ready = False\n",
        "try:\n",
        "  _ = (inputs, output, constants, description)\n",
        "except NameError:\n",
        "  print('Define the problem by running the cell in Step 2 first.')\n",
        "  ready = False\n",
        "\n",
        "#@markdown &nbsp;\n",
        "#@markdown #### **Settings for TF-Coder**\n",
        "#@markdown How long to search for a solution, in seconds.\n",
        "time_limit = 60  #@param {type: \"integer\"}\n",
        "#@markdown How many solutions to find before stopping. If more than 1, the entire search will slow down.\n",
        "number_of_solutions = 1  #@param{type: \"integer\"}\n",
        "#@markdown Whether solutions must use all inputs, at least one input, or no such requirement.\n",
        "solution_requirement = \"all inputs\" #@param [\"all inputs\", \"one input\", \"no restriction\"]\n",
        "\n",
        "settings = settings_module.from_dict({\n",
        "    'timeout': time_limit,\n",
        "    'only_minimal_solutions': False,\n",
        "    'max_solutions': number_of_solutions,\n",
        "    'require_all_inputs_used': solution_requirement == 'all inputs',\n",
        "    'require_one_input_used': solution_requirement == 'one input',\n",
        "})\n",
        "\n",
        "if ready:\n",
        "  if allow_data_collection:\n",
        "    problem_id = colab_logging.get_uuid()\n",
        "    colab_logging.log_problem(inputs, output, constants, description, settings,\n",
        "                              include_in_dataset=include_in_dataset,\n",
        "                              problem_id=problem_id)\n",
        "\n",
        "  # Results will be printed to the cell's output.\n",
        "  results = colab_interface.run_value_search_from_colab(\n",
        "      inputs, output, constants, description, settings)\n",
        "\n",
        "  if allow_data_collection:\n",
        "    colab_logging.log_result(results,\n",
        "                             include_in_dataset=include_in_dataset,\n",
        "                             problem_id=problem_id)"
      ],
      "metadata": {
        "colab": {
          "base_uri": "https://localhost:8080/",
          "height": 398
        },
        "id": "oWUA1QSlwyn9",
        "outputId": "ac19b5a5-f7b4-4b14-e266-644d8005089b"
      },
      "execution_count": 139,
      "outputs": [
        {
          "output_type": "display_data",
          "data": {
            "text/html": [
              "\n",
              "<!-- Global site tag (gtag.js) - Google Analytics -->\n",
              "<script async src=\"https://www.googletagmanager.com/gtag/js?id=UA-141920863-2\"></script>\n",
              "<script>\n",
              "  window.dataLayer = window.dataLayer || [];\n",
              "  function gtag(){dataLayer.push(arguments);}\n",
              "  gtag('js', new Date());\n",
              "\n",
              "  gtag('config', 'UA-141920863-2',\n",
              "       {'referrer': document.referrer.split('?')[0],\n",
              "        'anonymize_ip': true,\n",
              "        'page_title': '',\n",
              "        'page_referrer': '',\n",
              "        'cookie_prefix': 'tf_coder',\n",
              "        'cookie_domain': 'auto',\n",
              "        'cookie_expires': 0,\n",
              "        'cookie_flags': 'SameSite=None;Secure'});\n",
              "</script>\n"
            ],
            "text/plain": [
              "<IPython.core.display.HTML object>"
            ]
          },
          "metadata": {}
        },
        {
          "output_type": "display_data",
          "data": {
            "application/javascript": [
              "gtag('event', 'problem', {'event_category': 'tf_coder_problem', 'dimension1': \"{'kind': 'Dict', 'dict': {'inputs': {'kind': 'Dict', 'dict': {'tensor': [[0, 1, 0, 0], [0, 1, 1, 0], [1, 1, 1, 1]]}}, 'output': [[0.0, 1.0, 0.0, 0.0],\", 'dimension2': \" [0.0, 0.5, 0.5, 0.0], [0.25, 0.25, 0.25, 0.25]], 'constants': [], 'description': 'normalize the rows of a tensor', 'settings': {'kind': 'Dict', 'dict\", 'dimension3': \"': {'algorithm_version': 'Value search, TF-IDF (k=5, min_score=0.15), tensor features model with F_1 loss and max weighting, 2020/08/26', 'timeout': 6\", 'dimension4': \"0, 'max_solutions': 1, 'only_minimal_solutions': False, 'max_extra_solutions_time': 10, 'max_weight': 300, 'require_all_inputs_used': True, 'require_o\", 'dimension5': \"ne_input_used': False, 'description_handler_name': 'tfidf_5_0.15', 'operations.limit_sparse_operations': True, 'tensor_model.checkpoint_path': '/usr/l\", 'dimension6': \"ocal/lib/python3.7/dist-packages/tf_coder/models/trained_model/ckpt-1172', 'tensor_model.config_path': '/usr/local/lib/python3.7/dist-packages/tf_code\", 'dimension7': \"r/models/trained_model/config.json', 'tensor_model.prioritize_threshold': 0.5, 'tensor_model.prioritize_multiplier': 0.75, 'tensor_model.deprioritize_\", 'dimension8': \"threshold': -1, 'tensor_model.deprioritize_multiplier': 1.25, 'tensor_model.max_deprioritized': 100, 'printing.verbose': False, 'printing.all_apply': \", 'dimension9': \"False, 'printing.tensor_size_warnings': False, 'printing.progress': False, 'printing.bad_solutions': False, 'printing.statistics': False, 'printing.st\", 'dimension10': \"atistics_sort_by_time': True, 'printing.prioritized_operations': False, 'printing.deprioritized_operations': False, 'paper_experiments.skip_filtering'\", 'dimension11': \": False, 'paper_experiments.uniform_weights': False}}, 'include_in_dataset': True, 'problem_id': 12612340468404089728, 'session_id': 10374534851873976\", 'dimension12': \"870, 'tf_coder_version': '0.0.5', 'logging_version': '0.0.4', 'tensorflow_version': '2.8.0', 'python_version': '3.7.12 (default, Jan 15 2022, 18:48:18\", 'dimension13': \") \\\\n[GCC 7.5.0]'}}\", })"
            ],
            "text/plain": [
              "<IPython.core.display.Javascript object>"
            ]
          },
          "metadata": {}
        },
        {
          "output_type": "stream",
          "name": "stdout",
          "text": [
            "Input 'tensor':\n",
            "tf.Tensor(\n",
            "[[0 1 0 0]\n",
            " [0 1 1 0]\n",
            " [1 1 1 1]], shape=(3, 4), dtype=int32)\n",
            "\n",
            "Output:\n",
            "tf.Tensor(\n",
            "[[0.   1.   0.   0.  ]\n",
            " [0.   0.5  0.5  0.  ]\n",
            " [0.25 0.25 0.25 0.25]], shape=(3, 4), dtype=float32)\n",
            "\n",
            "Constants: [0, 1, -1, True, False, 3, 4]\n",
            "\n",
            "Description: normalize the rows of a tensor\n",
            "\n",
            "Searching...\n",
            "\n",
            "Found solution: tf.cast(tf.divide(tensor, tf.expand_dims(tf.reduce_sum(tensor, axis=1), 1)), tf.float32)\n",
            "\n",
            "Solution was found in 25.3 seconds:\n",
            "tf.cast(tf.divide(tensor, tf.expand_dims(tf.reduce_sum(tensor, axis=1), 1)), tf.float32)\n"
          ]
        },
        {
          "output_type": "display_data",
          "data": {
            "application/javascript": [
              "gtag('event', 'result', {'event_category': 'tf_coder_result', 'dimension1': \"{'kind': 'Dict', 'dict': {'inputs': {'kind': 'Dict', 'dict': {'tensor': [[0, 1, 0, 0], [0, 1, 1, 0], [1, 1, 1, 1]]}}, 'output': [[0.0, 1.0, 0.0, 0.0],\", 'dimension2': \" [0.0, 0.5, 0.5, 0.0], [0.25, 0.25, 0.25, 0.25]], 'constants': [], 'description': 'normalize the rows of a tensor', 'settings': {'kind': 'Dict', 'dict\", 'dimension3': \"': {'algorithm_version': 'Value search, TF-IDF (k=5, min_score=0.15), tensor features model with F_1 loss and max weighting, 2020/08/26', 'timeout': 6\", 'dimension4': \"0, 'max_solutions': 1, 'only_minimal_solutions': False, 'max_extra_solutions_time': 10, 'max_weight': 300, 'require_all_inputs_used': True, 'require_o\", 'dimension5': \"ne_input_used': False, 'description_handler_name': 'tfidf_5_0.15', 'operations.limit_sparse_operations': True, 'tensor_model.checkpoint_path': '/usr/l\", 'dimension6': \"ocal/lib/python3.7/dist-packages/tf_coder/models/trained_model/ckpt-1172', 'tensor_model.config_path': '/usr/local/lib/python3.7/dist-packages/tf_code\", 'dimension7': \"r/models/trained_model/config.json', 'tensor_model.prioritize_threshold': 0.5, 'tensor_model.prioritize_multiplier': 0.75, 'tensor_model.deprioritize_\", 'dimension8': \"threshold': -1, 'tensor_model.deprioritize_multiplier': 1.25, 'tensor_model.max_deprioritized': 100, 'printing.verbose': False, 'printing.all_apply': \", 'dimension9': \"False, 'printing.tensor_size_warnings': False, 'printing.progress': False, 'printing.bad_solutions': False, 'printing.statistics': False, 'printing.st\", 'dimension10': \"atistics_sort_by_time': True, 'printing.prioritized_operations': False, 'printing.deprioritized_operations': False, 'paper_experiments.skip_filtering'\", 'dimension11': \": False, 'paper_experiments.uniform_weights': False}}, 'include_in_dataset': True, 'problem_id': 12612340468404089728, 'session_id': 10374534851873976\", 'dimension12': \"870, 'tf_coder_version': '0.0.5', 'logging_version': '0.0.4', 'tensorflow_version': '2.8.0', 'python_version': '3.7.12 (default, Jan 15 2022, 18:48:18\", 'dimension13': \") \\\\n[GCC 7.5.0]', 'success': True, 'solution_expressions': ['tf.cast(tf.divide(tensor, tf.expand_dims(tf.reduce_sum(tensor, axis=1), 1)), tf.float32)'\", 'dimension14': \"], 'solution_weights': [102], 'solution_times': [25.265909482001007], 'total_time': 25.26880732399877, 'value_set_size': 6584}}\", })"
            ],
            "text/plain": [
              "<IPython.core.display.Javascript object>"
            ]
          },
          "metadata": {}
        }
      ]
    },
    {
      "cell_type": "markdown",
      "source": [
        "# **EINSUM Practice**\n",
        "\n",
        "Refering an interesting [Yt link](https://www.youtube.com/watch?v=pkVwUVEHmfI) for practice"
      ],
      "metadata": {
        "id": "ckx1sQZii__C"
      }
    },
    {
      "cell_type": "code",
      "source": [
        "import torch\n",
        "\n",
        "x = torch.rand((2,3))\n",
        "x"
      ],
      "metadata": {
        "colab": {
          "base_uri": "https://localhost:8080/"
        },
        "id": "dviz2wYQjAu1",
        "outputId": "fcf11c33-53d4-4973-d9e6-afc05b352e75"
      },
      "execution_count": 140,
      "outputs": [
        {
          "output_type": "execute_result",
          "data": {
            "text/plain": [
              "tensor([[0.9660, 0.5226, 0.7053],\n",
              "        [0.3434, 0.0438, 0.2808]])"
            ]
          },
          "metadata": {},
          "execution_count": 140
        }
      ]
    },
    {
      "cell_type": "markdown",
      "source": [
        "**Permutation of tensors**"
      ],
      "metadata": {
        "id": "9zqwse-vjNP1"
      }
    },
    {
      "cell_type": "code",
      "source": [
        "torch.einsum(\"ij->ji\",x)"
      ],
      "metadata": {
        "colab": {
          "base_uri": "https://localhost:8080/"
        },
        "id": "Ch-NM2-xjTZo",
        "outputId": "eb39d438-3afe-4cd2-cffb-29aa75ab4916"
      },
      "execution_count": 141,
      "outputs": [
        {
          "output_type": "execute_result",
          "data": {
            "text/plain": [
              "tensor([[0.9660, 0.3434],\n",
              "        [0.5226, 0.0438],\n",
              "        [0.7053, 0.2808]])"
            ]
          },
          "metadata": {},
          "execution_count": 141
        }
      ]
    },
    {
      "cell_type": "markdown",
      "source": [
        "**Summation**"
      ],
      "metadata": {
        "id": "A1a1S03rjfg0"
      }
    },
    {
      "cell_type": "code",
      "source": [
        "torch.einsum(\"ij->\",x)"
      ],
      "metadata": {
        "colab": {
          "base_uri": "https://localhost:8080/"
        },
        "id": "LewHu6C-juWx",
        "outputId": "40800e3a-1276-4c9d-ce14-e6ccebfc1a23"
      },
      "execution_count": 142,
      "outputs": [
        {
          "output_type": "execute_result",
          "data": {
            "text/plain": [
              "tensor(2.8618)"
            ]
          },
          "metadata": {},
          "execution_count": 142
        }
      ]
    },
    {
      "cell_type": "markdown",
      "source": [
        "**Column summation**"
      ],
      "metadata": {
        "id": "_tKcRioEj1El"
      }
    },
    {
      "cell_type": "code",
      "source": [
        "torch.einsum(\"ij->j\",x)"
      ],
      "metadata": {
        "colab": {
          "base_uri": "https://localhost:8080/"
        },
        "id": "V2CBdAF7j5EJ",
        "outputId": "9bd31a88-fbae-4252-de51-3dbfc2f3de4a"
      },
      "execution_count": 143,
      "outputs": [
        {
          "output_type": "execute_result",
          "data": {
            "text/plain": [
              "tensor([1.3094, 0.5664, 0.9861])"
            ]
          },
          "metadata": {},
          "execution_count": 143
        }
      ]
    },
    {
      "cell_type": "markdown",
      "source": [
        "**Row summation**"
      ],
      "metadata": {
        "id": "gxbH9vn3qemm"
      }
    },
    {
      "cell_type": "code",
      "source": [
        "torch.einsum(\"ij->i\",x)"
      ],
      "metadata": {
        "colab": {
          "base_uri": "https://localhost:8080/"
        },
        "id": "TuMeiXWukAZ0",
        "outputId": "815f3f65-bafe-458f-cf7e-6ce6f05c2f03"
      },
      "execution_count": 144,
      "outputs": [
        {
          "output_type": "execute_result",
          "data": {
            "text/plain": [
              "tensor([2.1939, 0.6679])"
            ]
          },
          "metadata": {},
          "execution_count": 144
        }
      ]
    },
    {
      "cell_type": "markdown",
      "source": [
        "**Matrix Vector Multiplication**"
      ],
      "metadata": {
        "id": "HginCzc4knc_"
      }
    },
    {
      "cell_type": "code",
      "source": [
        "v = torch.rand((1,3))\n",
        "print(v)\n",
        "\n"
      ],
      "metadata": {
        "colab": {
          "base_uri": "https://localhost:8080/"
        },
        "id": "p3pk9hz-k0rB",
        "outputId": "2c86fce3-147a-438d-a639-d637680757ee"
      },
      "execution_count": 145,
      "outputs": [
        {
          "output_type": "stream",
          "name": "stdout",
          "text": [
            "tensor([[0.3154, 0.9562, 0.0356]])\n"
          ]
        }
      ]
    },
    {
      "cell_type": "code",
      "source": [
        "x"
      ],
      "metadata": {
        "colab": {
          "base_uri": "https://localhost:8080/"
        },
        "id": "Zr7SWsJ9m0qR",
        "outputId": "49ceaa57-cdd8-404f-9974-9834b4435c84"
      },
      "execution_count": 146,
      "outputs": [
        {
          "output_type": "execute_result",
          "data": {
            "text/plain": [
              "tensor([[0.9660, 0.5226, 0.7053],\n",
              "        [0.3434, 0.0438, 0.2808]])"
            ]
          },
          "metadata": {},
          "execution_count": 146
        }
      ]
    },
    {
      "cell_type": "code",
      "source": [
        "torch.einsum(\"ij,kj->ik\",x,v)"
      ],
      "metadata": {
        "colab": {
          "base_uri": "https://localhost:8080/"
        },
        "id": "UBUF_tFrmZyK",
        "outputId": "114e7f89-f929-4aea-c1eb-286bc3cb938e"
      },
      "execution_count": 147,
      "outputs": [
        {
          "output_type": "execute_result",
          "data": {
            "text/plain": [
              "tensor([[0.8295],\n",
              "        [0.1602]])"
            ]
          },
          "metadata": {},
          "execution_count": 147
        }
      ]
    },
    {
      "cell_type": "markdown",
      "source": [
        "**Matrix Matrix Multiplication**"
      ],
      "metadata": {
        "id": "Ha4FmSTnqk6G"
      }
    },
    {
      "cell_type": "code",
      "source": [
        "torch.einsum(\"ij,kj->ik\",x,x)"
      ],
      "metadata": {
        "colab": {
          "base_uri": "https://localhost:8080/"
        },
        "id": "sJh3wOeUpROi",
        "outputId": "2feecc6e-7a58-4c3a-e6de-96ef5291e560"
      },
      "execution_count": 148,
      "outputs": [
        {
          "output_type": "execute_result",
          "data": {
            "text/plain": [
              "tensor([[1.7037, 0.5526],\n",
              "        [0.5526, 0.1987]])"
            ]
          },
          "metadata": {},
          "execution_count": 148
        }
      ]
    },
    {
      "cell_type": "markdown",
      "source": [
        "**Dot Product first row with first row of matrix**"
      ],
      "metadata": {
        "id": "sYSAZVZXt_Ok"
      }
    },
    {
      "cell_type": "code",
      "source": [
        "torch.einsum(\"i,i->\",x[0],x[0])"
      ],
      "metadata": {
        "colab": {
          "base_uri": "https://localhost:8080/"
        },
        "id": "lEVJSLlHuOTs",
        "outputId": "909750b7-395b-45b3-f81c-e6101658579a"
      },
      "execution_count": 149,
      "outputs": [
        {
          "output_type": "execute_result",
          "data": {
            "text/plain": [
              "tensor(1.7037)"
            ]
          },
          "metadata": {},
          "execution_count": 149
        }
      ]
    },
    {
      "cell_type": "markdown",
      "source": [
        "**Dot Product with Matrix**\n",
        "\n",
        "\n"
      ],
      "metadata": {
        "id": "xY0ShdNbudrK"
      }
    },
    {
      "cell_type": "code",
      "source": [
        "torch.einsum(\"ij,ij->\",x,x)"
      ],
      "metadata": {
        "colab": {
          "base_uri": "https://localhost:8080/"
        },
        "id": "M1ApoISAurMC",
        "outputId": "09ac9c6a-9928-42df-a519-c9fe39f61787"
      },
      "execution_count": 150,
      "outputs": [
        {
          "output_type": "execute_result",
          "data": {
            "text/plain": [
              "tensor(1.9023)"
            ]
          },
          "metadata": {},
          "execution_count": 150
        }
      ]
    },
    {
      "cell_type": "markdown",
      "source": [
        "**Hadamard Product (Element wise Multiplication)**"
      ],
      "metadata": {
        "id": "zcNtizMGux6a"
      }
    },
    {
      "cell_type": "code",
      "source": [
        "torch.einsum(\"ij,ij->ij\",x,x)"
      ],
      "metadata": {
        "colab": {
          "base_uri": "https://localhost:8080/"
        },
        "id": "mrCmrxUdu3_T",
        "outputId": "f73e1fe4-7b90-4ee8-ccce-71ec5dc2f3ed"
      },
      "execution_count": 151,
      "outputs": [
        {
          "output_type": "execute_result",
          "data": {
            "text/plain": [
              "tensor([[0.9331, 0.2731, 0.4975],\n",
              "        [0.1179, 0.0019, 0.0788]])"
            ]
          },
          "metadata": {},
          "execution_count": 151
        }
      ]
    },
    {
      "cell_type": "markdown",
      "source": [
        "**Outer product**"
      ],
      "metadata": {
        "id": "-9KfkIZqwiP5"
      }
    },
    {
      "cell_type": "code",
      "source": [
        "a = torch.rand((3))\n",
        "b = torch.rand((5))\n",
        "print(a)\n",
        "print(b)\n",
        "torch.einsum(\"i,j->ij\",a,b)"
      ],
      "metadata": {
        "colab": {
          "base_uri": "https://localhost:8080/"
        },
        "id": "6YRk6Hvawlli",
        "outputId": "54bcafd6-9f45-4b61-d2fa-41857822a0ab"
      },
      "execution_count": 152,
      "outputs": [
        {
          "output_type": "stream",
          "name": "stdout",
          "text": [
            "tensor([0.9606, 0.7727, 0.4486])\n",
            "tensor([0.0213, 0.2193, 0.9524, 0.7093, 0.3171])\n"
          ]
        },
        {
          "output_type": "execute_result",
          "data": {
            "text/plain": [
              "tensor([[0.0205, 0.2106, 0.9149, 0.6814, 0.3046],\n",
              "        [0.0165, 0.1694, 0.7360, 0.5481, 0.2451],\n",
              "        [0.0096, 0.0984, 0.4273, 0.3182, 0.1423]])"
            ]
          },
          "metadata": {},
          "execution_count": 152
        }
      ]
    },
    {
      "cell_type": "markdown",
      "source": [
        "**Batch Matrix Multiplication**"
      ],
      "metadata": {
        "id": "MPl5PIYSzd5A"
      }
    },
    {
      "cell_type": "code",
      "source": [
        "a = torch.rand((3,2,5))\n",
        "b = torch.rand((3,5,3))\n",
        "\n",
        "print(a)\n",
        "print(b)\n",
        "\n",
        "torch.einsum(\"ijk,ikl->ijl\",a,b)"
      ],
      "metadata": {
        "colab": {
          "base_uri": "https://localhost:8080/"
        },
        "id": "wAxouyz_wuQG",
        "outputId": "88759c50-b3ef-4a00-ff7b-98bebf158e2c"
      },
      "execution_count": 153,
      "outputs": [
        {
          "output_type": "stream",
          "name": "stdout",
          "text": [
            "tensor([[[0.9129, 0.0975, 0.0187, 0.3132, 0.1065],\n",
            "         [0.8105, 0.6993, 0.4080, 0.1301, 0.2807]],\n",
            "\n",
            "        [[0.0148, 0.9457, 0.2273, 0.5263, 0.4116],\n",
            "         [0.1749, 0.0314, 0.2471, 0.9124, 0.6708]],\n",
            "\n",
            "        [[0.7017, 0.9540, 0.2020, 0.7245, 0.1214],\n",
            "         [0.7503, 0.4735, 0.6750, 0.2696, 0.8344]]])\n",
            "tensor([[[0.8059, 0.0773, 0.2180],\n",
            "         [0.5442, 0.7785, 0.4879],\n",
            "         [0.0542, 0.5711, 0.6976],\n",
            "         [0.5067, 0.6231, 0.9612],\n",
            "         [0.3918, 0.6638, 0.6542]],\n",
            "\n",
            "        [[0.2462, 0.3684, 0.6337],\n",
            "         [0.1430, 0.3872, 0.9665],\n",
            "         [0.0304, 0.2003, 0.6481],\n",
            "         [0.8389, 0.2866, 0.4387],\n",
            "         [0.2554, 0.6849, 0.2357]],\n",
            "\n",
            "        [[0.7055, 0.5123, 0.8511],\n",
            "         [0.4156, 0.1617, 0.9635],\n",
            "         [0.4162, 0.3792, 0.9958],\n",
            "         [0.3052, 0.0898, 0.7758],\n",
            "         [0.7848, 0.9121, 0.6994]]])\n"
          ]
        },
        {
          "output_type": "execute_result",
          "data": {
            "text/plain": [
              "tensor([[[0.9902, 0.4230, 0.6304],\n",
              "         [1.2318, 1.1075, 1.1112]],\n",
              "\n",
              "        [[0.6924, 0.8498, 1.3987],\n",
              "         [0.9918, 0.8470, 0.8598]],\n",
              "\n",
              "        [[1.2921, 0.7662, 2.3645],\n",
              "         [1.7443, 1.5023, 2.5597]]])"
            ]
          },
          "metadata": {},
          "execution_count": 153
        }
      ]
    },
    {
      "cell_type": "markdown",
      "source": [
        "**Matrix Diagonal**"
      ],
      "metadata": {
        "id": "dG3fx5s_1qq2"
      }
    },
    {
      "cell_type": "code",
      "source": [
        "x = torch.rand((3,3))\n",
        "torch.einsum(\"ii->i\",x)"
      ],
      "metadata": {
        "colab": {
          "base_uri": "https://localhost:8080/"
        },
        "id": "UxkhvwxM1wMH",
        "outputId": "c19f6f20-2cad-43d1-e476-876af268c8d1"
      },
      "execution_count": 154,
      "outputs": [
        {
          "output_type": "execute_result",
          "data": {
            "text/plain": [
              "tensor([0.2559, 0.8887, 0.8174])"
            ]
          },
          "metadata": {},
          "execution_count": 154
        }
      ]
    },
    {
      "cell_type": "markdown",
      "source": [
        "**Matrix Trace**"
      ],
      "metadata": {
        "id": "YmmEZmpc2NCd"
      }
    },
    {
      "cell_type": "code",
      "source": [
        "torch.einsum(\"ii->\",x)"
      ],
      "metadata": {
        "colab": {
          "base_uri": "https://localhost:8080/"
        },
        "id": "7chaiHox2IPz",
        "outputId": "568d8dd2-e713-4151-889b-f19f774cebcc"
      },
      "execution_count": 155,
      "outputs": [
        {
          "output_type": "execute_result",
          "data": {
            "text/plain": [
              "tensor(1.9620)"
            ]
          },
          "metadata": {},
          "execution_count": 155
        }
      ]
    }
  ]
}