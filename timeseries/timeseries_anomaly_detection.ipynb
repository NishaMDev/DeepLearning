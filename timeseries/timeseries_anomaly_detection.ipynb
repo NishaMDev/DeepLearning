{
  "cells": [
    {
      "cell_type": "markdown",
      "metadata": {
        "id": "kClSObN2TnRx"
      },
      "source": [
        "# Timeseries anomaly detection using an Autoencoder\n",
        "\n",
        "**Author:** [pavithrasv](https://github.com/pavithrasv)<br>\n",
        "**Date created:** 2020/05/31<br>\n",
        "**Last modified:** 2020/05/31<br>\n",
        "**Description:** Detect anomalies in a timeseries using an Autoencoder."
      ]
    },
    {
      "cell_type": "markdown",
      "metadata": {
        "id": "j2rNuNKLTnRz"
      },
      "source": [
        "## Introduction\n",
        "\n",
        "This script demonstrates how you can use a reconstruction convolutional\n",
        "autoencoder model to detect anomalies in timeseries data."
      ]
    },
    {
      "cell_type": "markdown",
      "metadata": {
        "id": "_pS2PCbuTnRz"
      },
      "source": [
        "## Setup"
      ]
    },
    {
      "cell_type": "code",
      "execution_count": 1,
      "metadata": {
        "id": "Wcf-PkZyTnRz"
      },
      "outputs": [],
      "source": [
        "import numpy as np\n",
        "import pandas as pd\n",
        "from tensorflow import keras\n",
        "from tensorflow.keras import layers\n",
        "from matplotlib import pyplot as plt"
      ]
    },
    {
      "cell_type": "markdown",
      "metadata": {
        "id": "0BBx5rLhTnR0"
      },
      "source": [
        "## Load the data\n",
        "\n",
        "We will use the [Numenta Anomaly Benchmark(NAB)](\n",
        "https://www.kaggle.com/boltzmannbrain/nab) dataset. It provides artifical\n",
        "timeseries data containing labeled anomalous periods of behavior. Data are\n",
        "ordered, timestamped, single-valued metrics.\n",
        "\n",
        "We will use the `art_daily_small_noise.csv` file for training and the\n",
        "`art_daily_jumpsup.csv` file for testing. The simplicity of this dataset\n",
        "allows us to demonstrate anomaly detection effectively."
      ]
    },
    {
      "cell_type": "code",
      "execution_count": 2,
      "metadata": {
        "id": "VMTFNGkaTnR0"
      },
      "outputs": [],
      "source": [
        "master_url_root = \"https://raw.githubusercontent.com/numenta/NAB/master/data/\"\n",
        "\n",
        "df_small_noise_url_suffix = \"artificialNoAnomaly/art_daily_small_noise.csv\"\n",
        "df_small_noise_url = master_url_root + df_small_noise_url_suffix\n",
        "df_small_noise = pd.read_csv(\n",
        "    df_small_noise_url, parse_dates=True, index_col=\"timestamp\"\n",
        ")\n",
        "\n",
        "df_daily_jumpsup_url_suffix = \"artificialWithAnomaly/art_daily_jumpsup.csv\"\n",
        "df_daily_jumpsup_url = master_url_root + df_daily_jumpsup_url_suffix\n",
        "df_daily_jumpsup = pd.read_csv(\n",
        "    df_daily_jumpsup_url, parse_dates=True, index_col=\"timestamp\"\n",
        ")"
      ]
    },
    {
      "cell_type": "markdown",
      "metadata": {
        "id": "9I_5JF-BTnR1"
      },
      "source": [
        "## Quick look at the data"
      ]
    },
    {
      "cell_type": "code",
      "execution_count": 3,
      "metadata": {
        "id": "uhzZtiEqTnR1",
        "outputId": "885bd7b0-dd77-4633-f994-d2aae82ff51d",
        "colab": {
          "base_uri": "https://localhost:8080/"
        }
      },
      "outputs": [
        {
          "output_type": "stream",
          "name": "stdout",
          "text": [
            "                         value\n",
            "timestamp                     \n",
            "2014-04-01 00:00:00  18.324919\n",
            "2014-04-01 00:05:00  21.970327\n",
            "2014-04-01 00:10:00  18.624806\n",
            "2014-04-01 00:15:00  21.953684\n",
            "2014-04-01 00:20:00  21.909120\n",
            "                         value\n",
            "timestamp                     \n",
            "2014-04-01 00:00:00  19.761252\n",
            "2014-04-01 00:05:00  20.500833\n",
            "2014-04-01 00:10:00  19.961641\n",
            "2014-04-01 00:15:00  21.490266\n",
            "2014-04-01 00:20:00  20.187739\n"
          ]
        }
      ],
      "source": [
        "print(df_small_noise.head())\n",
        "\n",
        "print(df_daily_jumpsup.head())"
      ]
    },
    {
      "cell_type": "markdown",
      "metadata": {
        "id": "EhF6nR4QTnR1"
      },
      "source": [
        "## Visualize the data\n",
        "### Timeseries data without anomalies\n",
        "\n",
        "We will use the following data for training."
      ]
    },
    {
      "cell_type": "code",
      "execution_count": 4,
      "metadata": {
        "id": "3WP2cBmcTnR2",
        "outputId": "154fda0e-7632-4f6f-de72-8cf4db29626e",
        "colab": {
          "base_uri": "https://localhost:8080/",
          "height": 303
        }
      },
      "outputs": [
        {
          "output_type": "display_data",
          "data": {
            "text/plain": [
              "<Figure size 432x288 with 1 Axes>"
            ],
            "image/png": "[encoded data removed]"
          },
          "metadata": {
            "needs_background": "light"
          }
        }
      ],
      "source": [
        "fig, ax = plt.subplots()\n",
        "df_small_noise.plot(legend=False, ax=ax)\n",
        "plt.show()"
      ]
    },
    {
      "cell_type": "markdown",
      "metadata": {
        "id": "fYgiJpalTnR2"
      },
      "source": [
        "### Timeseries data with anomalies\n",
        "\n",
        "We will use the following data for testing and see if the sudden jump up in the\n",
        "data is detected as an anomaly."
      ]
    },
    {
      "cell_type": "code",
      "execution_count": 5,
      "metadata": {
        "id": "0nBzWdDOTnR2",
        "outputId": "430b8413-e0df-4b57-92f3-4d2c9a147585",
        "colab": {
          "base_uri": "https://localhost:8080/",
          "height": 303
        }
      },
      "outputs": [
        {
          "output_type": "display_data",
          "data": {
            "text/plain": [
              "<Figure size 432x288 with 1 Axes>"
            ],
            "image/png": "[encoded data removed]"
          },
          "metadata": {
            "needs_background": "light"
          }
        }
      ],
      "source": [
        "fig, ax = plt.subplots()\n",
        "df_daily_jumpsup.plot(legend=False, ax=ax)\n",
        "plt.show()"
      ]
    },
    {
      "cell_type": "markdown",
      "metadata": {
        "id": "_t9h7UvsTnR2"
      },
      "source": [
        "## Prepare training data\n",
        "\n",
        "Get data values from the training timeseries data file and normalize the\n",
        "`value` data. We have a `value` for every 5 mins for 14 days.\n",
        "\n",
        "-   24 * 60 / 5 = **288 timesteps per day**\n",
        "-   288 * 14 = **4032 data points** in total"
      ]
    },
    {
      "cell_type": "code",
      "execution_count": 6,
      "metadata": {
        "id": "K6LhHB5dTnR2",
        "outputId": "5365ba30-7207-45ed-9ba3-68a4edd6a9ad",
        "colab": {
          "base_uri": "https://localhost:8080/"
        }
      },
      "outputs": [
        {
          "output_type": "stream",
          "name": "stdout",
          "text": [
            "Number of training samples: 4032\n"
          ]
        }
      ],
      "source": [
        "\n",
        "# Normalize and save the mean and std we get,\n",
        "# for normalizing test data.\n",
        "training_mean = df_small_noise.mean()\n",
        "training_std = df_small_noise.std()\n",
        "df_training_value = (df_small_noise - training_mean) / training_std\n",
        "print(\"Number of training samples:\", len(df_training_value))"
      ]
    },
    {
      "cell_type": "markdown",
      "metadata": {
        "id": "2YYYLlFwTnR3"
      },
      "source": [
        "### Create sequences\n",
        "Create sequences combining `TIME_STEPS` contiguous data values from the\n",
        "training data."
      ]
    },
    {
      "cell_type": "code",
      "execution_count": 7,
      "metadata": {
        "id": "dwubArNwTnR3",
        "outputId": "09b0b640-8a6c-4f35-ef01-b309651de192",
        "colab": {
          "base_uri": "https://localhost:8080/"
        }
      },
      "outputs": [
        {
          "output_type": "stream",
          "name": "stdout",
          "text": [
            "Training input shape:  (3745, 288, 1)\n"
          ]
        }
      ],
      "source": [
        "TIME_STEPS = 288\n",
        "\n",
        "# Generated training sequences for use in the model.\n",
        "def create_sequences(values, time_steps=TIME_STEPS):\n",
        "    output = []\n",
        "    for i in range(len(values) - time_steps + 1):\n",
        "        output.append(values[i : (i + time_steps)])\n",
        "    return np.stack(output)\n",
        "\n",
        "\n",
        "x_train = create_sequences(df_training_value.values)\n",
        "print(\"Training input shape: \", x_train.shape)"
      ]
    },
    {
      "cell_type": "markdown",
      "metadata": {
        "id": "EuHs25yuTnR3"
      },
      "source": [
        "## Build a model\n",
        "\n",
        "We will build a convolutional reconstruction autoencoder model. The model will\n",
        "take input of shape `(batch_size, sequence_length, num_features)` and return\n",
        "output of the same shape. In this case, `sequence_length` is 288 and\n",
        "`num_features` is 1."
      ]
    },
    {
      "cell_type": "code",
      "execution_count": 8,
      "metadata": {
        "id": "AW8s0S-gTnR3",
        "outputId": "2173893e-e86d-400c-e07d-e3972adbaad8",
        "colab": {
          "base_uri": "https://localhost:8080/"
        }
      },
      "outputs": [
        {
          "output_type": "stream",
          "name": "stdout",
          "text": [
            "Model: \"sequential\"\n",
            "_________________________________________________________________\n",
            " Layer (type)                Output Shape              Param #   \n",
            "=================================================================\n",
            " conv1d (Conv1D)             (None, 144, 32)           256       \n",
            "                                                                 \n",
            " dropout (Dropout)           (None, 144, 32)           0         \n",
            "                                                                 \n",
            " conv1d_1 (Conv1D)           (None, 72, 16)            3600      \n",
            "                                                                 \n",
            " conv1d_transpose (Conv1DTra  (None, 144, 16)          1808      \n",
            " nspose)                                                         \n",
            "                                                                 \n",
            " dropout_1 (Dropout)         (None, 144, 16)           0         \n",
            "                                                                 \n",
            " conv1d_transpose_1 (Conv1DT  (None, 288, 32)          3616      \n",
            " ranspose)                                                       \n",
            "                                                                 \n",
            " conv1d_transpose_2 (Conv1DT  (None, 288, 1)           225       \n",
            " ranspose)                                                       \n",
            "                                                                 \n",
            "=================================================================\n",
            "Total params: 9,505\n",
            "Trainable params: 9,505\n",
            "Non-trainable params: 0\n",
            "_________________________________________________________________\n"
          ]
        }
      ],
      "source": [
        "model = keras.Sequential(\n",
        "    [\n",
        "        layers.Input(shape=(x_train.shape[1], x_train.shape[2])),\n",
        "        layers.Conv1D(\n",
        "            filters=32, kernel_size=7, padding=\"same\", strides=2, activation=\"relu\"\n",
        "        ),\n",
        "        layers.Dropout(rate=0.2),\n",
        "        layers.Conv1D(\n",
        "            filters=16, kernel_size=7, padding=\"same\", strides=2, activation=\"relu\"\n",
        "        ),\n",
        "        layers.Conv1DTranspose(\n",
        "            filters=16, kernel_size=7, padding=\"same\", strides=2, activation=\"relu\"\n",
        "        ),\n",
        "        layers.Dropout(rate=0.2),\n",
        "        layers.Conv1DTranspose(\n",
        "            filters=32, kernel_size=7, padding=\"same\", strides=2, activation=\"relu\"\n",
        "        ),\n",
        "        layers.Conv1DTranspose(filters=1, kernel_size=7, padding=\"same\"),\n",
        "    ]\n",
        ")\n",
        "model.compile(optimizer=keras.optimizers.Adam(learning_rate=0.001), loss=\"mse\")\n",
        "model.summary()"
      ]
    },
    {
      "cell_type": "markdown",
      "metadata": {
        "id": "zDxQlLshTnR3"
      },
      "source": [
        "## Train the model\n",
        "\n",
        "Please note that we are using `x_train` as both the input and the target\n",
        "since this is a reconstruction model."
      ]
    },
    {
      "cell_type": "code",
      "execution_count": 9,
      "metadata": {
        "id": "DzA4-6goTnR3",
        "outputId": "aafa81dc-8f39-49f5-c21e-24e7a091a918",
        "colab": {
          "base_uri": "https://localhost:8080/"
        }
      },
      "outputs": [
        {
          "output_type": "stream",
          "name": "stdout",
          "text": [
            "Epoch 1/50\n",
            "27/27 [==============================] - 13s 18ms/step - loss: 0.5691 - val_loss: 0.0806\n",
            "Epoch 2/50\n",
            "27/27 [==============================] - 0s 7ms/step - loss: 0.0903 - val_loss: 0.0437\n",
            "Epoch 3/50\n",
            "27/27 [==============================] - 0s 6ms/step - loss: 0.0607 - val_loss: 0.0404\n",
            "Epoch 4/50\n",
            "27/27 [==============================] - 0s 7ms/step - loss: 0.0513 - val_loss: 0.0353\n",
            "Epoch 5/50\n",
            "27/27 [==============================] - 0s 7ms/step - loss: 0.0439 - val_loss: 0.0316\n",
            "Epoch 6/50\n",
            "27/27 [==============================] - 0s 6ms/step - loss: 0.0380 - val_loss: 0.0310\n",
            "Epoch 7/50\n",
            "27/27 [==============================] - 0s 6ms/step - loss: 0.0337 - val_loss: 0.0301\n",
            "Epoch 8/50\n",
            "27/27 [==============================] - 0s 6ms/step - loss: 0.0305 - val_loss: 0.0305\n",
            "Epoch 9/50\n",
            "27/27 [==============================] - 0s 7ms/step - loss: 0.0281 - val_loss: 0.0289\n",
            "Epoch 10/50\n",
            "27/27 [==============================] - 0s 7ms/step - loss: 0.0261 - val_loss: 0.0301\n",
            "Epoch 11/50\n",
            "27/27 [==============================] - 0s 7ms/step - loss: 0.0245 - val_loss: 0.0283\n",
            "Epoch 12/50\n",
            "27/27 [==============================] - 0s 6ms/step - loss: 0.0233 - val_loss: 0.0275\n",
            "Epoch 13/50\n",
            "27/27 [==============================] - 0s 7ms/step - loss: 0.0222 - val_loss: 0.0281\n",
            "Epoch 14/50\n",
            "27/27 [==============================] - 0s 6ms/step - loss: 0.0212 - val_loss: 0.0271\n",
            "Epoch 15/50\n",
            "27/27 [==============================] - 0s 7ms/step - loss: 0.0203 - val_loss: 0.0254\n",
            "Epoch 16/50\n",
            "27/27 [==============================] - 0s 7ms/step - loss: 0.0194 - val_loss: 0.0248\n",
            "Epoch 17/50\n",
            "27/27 [==============================] - 0s 6ms/step - loss: 0.0185 - val_loss: 0.0243\n",
            "Epoch 18/50\n",
            "27/27 [==============================] - 0s 7ms/step - loss: 0.0178 - val_loss: 0.0273\n",
            "Epoch 19/50\n",
            "27/27 [==============================] - 0s 6ms/step - loss: 0.0171 - val_loss: 0.0254\n",
            "Epoch 20/50\n",
            "27/27 [==============================] - 0s 6ms/step - loss: 0.0163 - val_loss: 0.0231\n",
            "Epoch 21/50\n",
            "27/27 [==============================] - 0s 6ms/step - loss: 0.0156 - val_loss: 0.0214\n",
            "Epoch 22/50\n",
            "27/27 [==============================] - 0s 7ms/step - loss: 0.0150 - val_loss: 0.0212\n",
            "Epoch 23/50\n",
            "27/27 [==============================] - 0s 6ms/step - loss: 0.0144 - val_loss: 0.0199\n",
            "Epoch 24/50\n",
            "27/27 [==============================] - 0s 6ms/step - loss: 0.0138 - val_loss: 0.0208\n",
            "Epoch 25/50\n",
            "27/27 [==============================] - 0s 6ms/step - loss: 0.0133 - val_loss: 0.0203\n",
            "Epoch 26/50\n",
            "27/27 [==============================] - 0s 7ms/step - loss: 0.0128 - val_loss: 0.0184\n",
            "Epoch 27/50\n",
            "27/27 [==============================] - 0s 7ms/step - loss: 0.0124 - val_loss: 0.0186\n",
            "Epoch 28/50\n",
            "27/27 [==============================] - 0s 6ms/step - loss: 0.0120 - val_loss: 0.0157\n",
            "Epoch 29/50\n",
            "27/27 [==============================] - 0s 6ms/step - loss: 0.0116 - val_loss: 0.0165\n",
            "Epoch 30/50\n",
            "27/27 [==============================] - 0s 6ms/step - loss: 0.0112 - val_loss: 0.0166\n",
            "Epoch 31/50\n",
            "27/27 [==============================] - 0s 7ms/step - loss: 0.0108 - val_loss: 0.0169\n",
            "Epoch 32/50\n",
            "27/27 [==============================] - 0s 7ms/step - loss: 0.0105 - val_loss: 0.0142\n",
            "Epoch 33/50\n",
            "27/27 [==============================] - 0s 8ms/step - loss: 0.0102 - val_loss: 0.0146\n",
            "Epoch 34/50\n",
            "27/27 [==============================] - 0s 7ms/step - loss: 0.0098 - val_loss: 0.0146\n",
            "Epoch 35/50\n",
            "27/27 [==============================] - 0s 7ms/step - loss: 0.0096 - val_loss: 0.0153\n",
            "Epoch 36/50\n",
            "27/27 [==============================] - 0s 8ms/step - loss: 0.0093 - val_loss: 0.0128\n",
            "Epoch 37/50\n",
            "27/27 [==============================] - 0s 7ms/step - loss: 0.0091 - val_loss: 0.0124\n",
            "Epoch 38/50\n",
            "27/27 [==============================] - 0s 7ms/step - loss: 0.0089 - val_loss: 0.0132\n",
            "Epoch 39/50\n",
            "27/27 [==============================] - 0s 6ms/step - loss: 0.0086 - val_loss: 0.0124\n",
            "Epoch 40/50\n",
            "27/27 [==============================] - 0s 6ms/step - loss: 0.0085 - val_loss: 0.0113\n",
            "Epoch 41/50\n",
            "27/27 [==============================] - 0s 6ms/step - loss: 0.0083 - val_loss: 0.0125\n",
            "Epoch 42/50\n",
            "27/27 [==============================] - 0s 6ms/step - loss: 0.0081 - val_loss: 0.0123\n",
            "Epoch 43/50\n",
            "27/27 [==============================] - 0s 6ms/step - loss: 0.0079 - val_loss: 0.0107\n",
            "Epoch 44/50\n",
            "27/27 [==============================] - 0s 6ms/step - loss: 0.0078 - val_loss: 0.0104\n",
            "Epoch 45/50\n",
            "27/27 [==============================] - 0s 7ms/step - loss: 0.0077 - val_loss: 0.0123\n",
            "Epoch 46/50\n",
            "27/27 [==============================] - 0s 6ms/step - loss: 0.0075 - val_loss: 0.0119\n",
            "Epoch 47/50\n",
            "27/27 [==============================] - 0s 6ms/step - loss: 0.0073 - val_loss: 0.0109\n",
            "Epoch 48/50\n",
            "27/27 [==============================] - 0s 7ms/step - loss: 0.0072 - val_loss: 0.0114\n",
            "Epoch 49/50\n",
            "27/27 [==============================] - 0s 7ms/step - loss: 0.0070 - val_loss: 0.0117\n"
          ]
        }
      ],
      "source": [
        "history = model.fit(\n",
        "    x_train,\n",
        "    x_train,\n",
        "    epochs=50,\n",
        "    batch_size=128,\n",
        "    validation_split=0.1,\n",
        "    callbacks=[\n",
        "        keras.callbacks.EarlyStopping(monitor=\"val_loss\", patience=5, mode=\"min\")\n",
        "    ],\n",
        ")"
      ]
    },
    {
      "cell_type": "markdown",
      "metadata": {
        "id": "I_VVAGwKTnR3"
      },
      "source": [
        "Let's plot training and validation loss to see how the training went."
      ]
    },
    {
      "cell_type": "code",
      "execution_count": 10,
      "metadata": {
        "id": "_TDbx4DfTnR4",
        "outputId": "7e8a46b5-4623-4367-8f64-59802ca27ce5",
        "colab": {
          "base_uri": "https://localhost:8080/",
          "height": 265
        }
      },
      "outputs": [
        {
          "output_type": "display_data",
          "data": {
            "text/plain": [
              "<Figure size 432x288 with 1 Axes>"
            ],
            "image/png": "[encoded data removed]"
          },
          "metadata": {
            "needs_background": "light"
          }
        }
      ],
      "source": [
        "plt.plot(history.history[\"loss\"], label=\"Training Loss\")\n",
        "plt.plot(history.history[\"val_loss\"], label=\"Validation Loss\")\n",
        "plt.legend()\n",
        "plt.show()"
      ]
    },
    {
      "cell_type": "markdown",
      "metadata": {
        "id": "T0PzRSzFTnR4"
      },
      "source": [
        "## Detecting anomalies\n",
        "\n",
        "We will detect anomalies by determining how well our model can reconstruct\n",
        "the input data.\n",
        "\n",
        "\n",
        "1.   Find MAE loss on training samples.\n",
        "2.   Find max MAE loss value. This is the worst our model has performed trying\n",
        "to reconstruct a sample. We will make this the `threshold` for anomaly\n",
        "detection.\n",
        "3.   If the reconstruction loss for a sample is greater than this `threshold`\n",
        "value then we can infer that the model is seeing a pattern that it isn't\n",
        "familiar with. We will label this sample as an `anomaly`.\n"
      ]
    },
    {
      "cell_type": "code",
      "execution_count": 11,
      "metadata": {
        "id": "IJIovixmTnR4",
        "outputId": "5c79031a-4606-4b32-87f8-5cf8fb6fb027",
        "colab": {
          "base_uri": "https://localhost:8080/",
          "height": 297
        }
      },
      "outputs": [
        {
          "output_type": "display_data",
          "data": {
            "text/plain": [
              "<Figure size 432x288 with 1 Axes>"
            ],
            "image/png": "[encoded data removed]"
          },
          "metadata": {
            "needs_background": "light"
          }
        },
        {
          "output_type": "stream",
          "name": "stdout",
          "text": [
            "Reconstruction error threshold:  0.09682493346722312\n"
          ]
        }
      ],
      "source": [
        "# Get train MAE loss.\n",
        "x_train_pred = model.predict(x_train)\n",
        "train_mae_loss = np.mean(np.abs(x_train_pred - x_train), axis=1)\n",
        "\n",
        "plt.hist(train_mae_loss, bins=50)\n",
        "plt.xlabel(\"Train MAE loss\")\n",
        "plt.ylabel(\"No of samples\")\n",
        "plt.show()\n",
        "\n",
        "# Get reconstruction loss threshold.\n",
        "threshold = np.max(train_mae_loss)\n",
        "print(\"Reconstruction error threshold: \", threshold)"
      ]
    },
    {
      "cell_type": "markdown",
      "metadata": {
        "id": "YgrPtHb7TnR4"
      },
      "source": [
        "### Compare recontruction\n",
        "\n",
        "Just for fun, let's see how our model has recontructed the first sample.\n",
        "This is the 288 timesteps from day 1 of our training dataset."
      ]
    },
    {
      "cell_type": "code",
      "execution_count": 12,
      "metadata": {
        "id": "ZiQjPxFBTnR4",
        "outputId": "f0e290e5-6def-455e-9286-3ac5d4e483e6",
        "colab": {
          "base_uri": "https://localhost:8080/",
          "height": 265
        }
      },
      "outputs": [
        {
          "output_type": "display_data",
          "data": {
            "text/plain": [
              "<Figure size 432x288 with 1 Axes>"
            ],
            "image/png": "[encoded data removed]"
          },
          "metadata": {
            "needs_background": "light"
          }
        }
      ],
      "source": [
        "# Checking how the first sequence is learnt\n",
        "plt.plot(x_train[0])\n",
        "plt.plot(x_train_pred[0])\n",
        "plt.show()"
      ]
    },
    {
      "cell_type": "markdown",
      "metadata": {
        "id": "2r6SCMiBTnR4"
      },
      "source": [
        "### Prepare test data"
      ]
    },
    {
      "cell_type": "code",
      "execution_count": 13,
      "metadata": {
        "id": "SXunkKpXTnR4",
        "outputId": "bd7a8814-c550-4491-bed6-cd62f7083ade",
        "colab": {
          "base_uri": "https://localhost:8080/",
          "height": 1000
        }
      },
      "outputs": [
        {
          "output_type": "display_data",
          "data": {
            "text/plain": [
              "<Figure size 432x288 with 1 Axes>"
            ],
            "image/png": "[encoded data removed]"
          },
          "metadata": {
            "needs_background": "light"
          }
        },
        {
          "output_type": "stream",
          "name": "stdout",
          "text": [
            "Test input shape:  (3745, 288, 1)\n"
          ]
        },
        {
          "output_type": "display_data",
          "data": {
            "text/plain": [
              "<Figure size 432x288 with 1 Axes>"
            ],
            "image/png": "[encoded data removed]"
          },
          "metadata": {
            "needs_background": "light"
          }
        },
        {
          "output_type": "stream",
          "name": "stdout",
          "text": [
            "Number of anomaly samples:  398\n",
            "Indices of anomaly samples:  (array([ 793, 1945, 2521, 2701, 2702, 2703, 2704, 2705, 2706, 2707, 2708,\n",
            "       2709, 2710, 2711, 2712, 2713, 2714, 2715, 2716, 2717, 2718, 2719,\n",
            "       2720, 2721, 2722, 2723, 2724, 2725, 2726, 2727, 2728, 2729, 2730,\n",
            "       2731, 2732, 2733, 2734, 2735, 2736, 2737, 2738, 2739, 2740, 2741,\n",
            "       2742, 2743, 2744, 2745, 2746, 2747, 2748, 2749, 2750, 2751, 2752,\n",
            "       2753, 2754, 2755, 2756, 2757, 2758, 2759, 2760, 2761, 2762, 2763,\n",
            "       2764, 2765, 2766, 2767, 2768, 2769, 2770, 2771, 2772, 2773, 2774,\n",
            "       2775, 2776, 2777, 2778, 2779, 2780, 2781, 2782, 2783, 2784, 2785,\n",
            "       2786, 2787, 2788, 2789, 2790, 2791, 2792, 2793, 2794, 2795, 2796,\n",
            "       2797, 2798, 2799, 2800, 2801, 2802, 2803, 2804, 2805, 2806, 2807,\n",
            "       2808, 2809, 2810, 2811, 2812, 2813, 2814, 2815, 2816, 2817, 2818,\n",
            "       2819, 2820, 2821, 2822, 2823, 2824, 2825, 2826, 2827, 2828, 2829,\n",
            "       2830, 2831, 2832, 2833, 2834, 2835, 2836, 2837, 2838, 2839, 2840,\n",
            "       2841, 2842, 2843, 2844, 2845, 2846, 2847, 2848, 2849, 2850, 2851,\n",
            "       2852, 2853, 2854, 2855, 2856, 2857, 2858, 2859, 2860, 2861, 2862,\n",
            "       2863, 2864, 2865, 2866, 2867, 2868, 2869, 2870, 2871, 2872, 2873,\n",
            "       2874, 2875, 2876, 2877, 2878, 2879, 2880, 2881, 2882, 2883, 2884,\n",
            "       2885, 2886, 2887, 2888, 2889, 2890, 2891, 2892, 2893, 2894, 2895,\n",
            "       2896, 2897, 2898, 2899, 2900, 2901, 2902, 2903, 2904, 2905, 2906,\n",
            "       2907, 2908, 2909, 2910, 2911, 2912, 2913, 2914, 2915, 2916, 2917,\n",
            "       2918, 2919, 2920, 2921, 2922, 2923, 2924, 2925, 2926, 2927, 2928,\n",
            "       2929, 2930, 2931, 2932, 2933, 2934, 2935, 2936, 2937, 2938, 2939,\n",
            "       2940, 2941, 2942, 2943, 2944, 2945, 2946, 2947, 2948, 2949, 2950,\n",
            "       2951, 2952, 2953, 2954, 2955, 2956, 2957, 2958, 2959, 2960, 2961,\n",
            "       2962, 2963, 2964, 2965, 2966, 2967, 2968, 2969, 2970, 2971, 2972,\n",
            "       2973, 2974, 2975, 2976, 2977, 2978, 2979, 2980, 2981, 2982, 2983,\n",
            "       2984, 2985, 2986, 2987, 2988, 2989, 2990, 2991, 2992, 2993, 2994,\n",
            "       2995, 2996, 2997, 2998, 2999, 3000, 3001, 3002, 3003, 3004, 3005,\n",
            "       3006, 3007, 3008, 3009, 3010, 3011, 3012, 3013, 3014, 3015, 3016,\n",
            "       3017, 3018, 3019, 3020, 3021, 3022, 3023, 3024, 3025, 3026, 3027,\n",
            "       3028, 3029, 3030, 3031, 3032, 3033, 3034, 3035, 3036, 3037, 3038,\n",
            "       3039, 3040, 3041, 3042, 3043, 3044, 3045, 3046, 3047, 3048, 3049,\n",
            "       3050, 3051, 3052, 3053, 3054, 3055, 3056, 3057, 3058, 3059, 3060,\n",
            "       3061, 3062, 3063, 3064, 3065, 3066, 3067, 3068, 3069, 3070, 3071,\n",
            "       3072, 3073, 3074, 3075, 3076, 3077, 3078, 3079, 3080, 3081, 3082,\n",
            "       3083, 3084, 3085, 3086, 3087, 3088, 3089, 3090, 3091, 3092, 3093,\n",
            "       3094, 3095]),)\n"
          ]
        }
      ],
      "source": [
        "\n",
        "df_test_value = (df_daily_jumpsup - training_mean) / training_std\n",
        "fig, ax = plt.subplots()\n",
        "df_test_value.plot(legend=False, ax=ax)\n",
        "plt.show()\n",
        "\n",
        "# Create sequences from test values.\n",
        "x_test = create_sequences(df_test_value.values)\n",
        "print(\"Test input shape: \", x_test.shape)\n",
        "\n",
        "# Get test MAE loss.\n",
        "x_test_pred = model.predict(x_test)\n",
        "test_mae_loss = np.mean(np.abs(x_test_pred - x_test), axis=1)\n",
        "test_mae_loss = test_mae_loss.reshape((-1))\n",
        "\n",
        "plt.hist(test_mae_loss, bins=50)\n",
        "plt.xlabel(\"test MAE loss\")\n",
        "plt.ylabel(\"No of samples\")\n",
        "plt.show()\n",
        "\n",
        "# Detect all the samples which are anomalies.\n",
        "anomalies = test_mae_loss > threshold\n",
        "print(\"Number of anomaly samples: \", np.sum(anomalies))\n",
        "print(\"Indices of anomaly samples: \", np.where(anomalies))"
      ]
    },
    {
      "cell_type": "markdown",
      "metadata": {
        "id": "Qfk7NeBcTnR4"
      },
      "source": [
        "## Plot anomalies\n",
        "\n",
        "We now know the samples of the data which are anomalies. With this, we will\n",
        "find the corresponding `timestamps` from the original test data. We will be\n",
        "using the following method to do that:\n",
        "\n",
        "Let's say time_steps = 3 and we have 10 training values. Our `x_train` will\n",
        "look like this:\n",
        "\n",
        "- 0, 1, 2\n",
        "- 1, 2, 3\n",
        "- 2, 3, 4\n",
        "- 3, 4, 5\n",
        "- 4, 5, 6\n",
        "- 5, 6, 7\n",
        "- 6, 7, 8\n",
        "- 7, 8, 9\n",
        "\n",
        "All except the initial and the final time_steps-1 data values, will appear in\n",
        "`time_steps` number of samples. So, if we know that the samples\n",
        "[(3, 4, 5), (4, 5, 6), (5, 6, 7)] are anomalies, we can say that the data point\n",
        "5 is an anomaly."
      ]
    },
    {
      "cell_type": "code",
      "execution_count": 14,
      "metadata": {
        "id": "1t7KbOKiTnR4"
      },
      "outputs": [],
      "source": [
        "# data i is an anomaly if samples [(i - timesteps + 1) to (i)] are anomalies\n",
        "anomalous_data_indices = []\n",
        "for data_idx in range(TIME_STEPS - 1, len(df_test_value) - TIME_STEPS + 1):\n",
        "    if np.all(anomalies[data_idx - TIME_STEPS + 1 : data_idx]):\n",
        "        anomalous_data_indices.append(data_idx)"
      ]
    },
    {
      "cell_type": "markdown",
      "metadata": {
        "id": "2eYKk5vLTnR4"
      },
      "source": [
        "Let's overlay the anomalies on the original test data plot."
      ]
    },
    {
      "cell_type": "code",
      "execution_count": 15,
      "metadata": {
        "id": "4QJ0-nZkTnR4",
        "outputId": "5835c64a-4498-413e-ef51-5b21d8f0016c",
        "colab": {
          "base_uri": "https://localhost:8080/",
          "height": 303
        }
      },
      "outputs": [
        {
          "output_type": "display_data",
          "data": {
            "text/plain": [
              "<Figure size 432x288 with 1 Axes>"
            ],
            "image/png": "[encoded data removed]"
          },
          "metadata": {
            "needs_background": "light"
          }
        }
      ],
      "source": [
        "df_subset = df_daily_jumpsup.iloc[anomalous_data_indices]\n",
        "fig, ax = plt.subplots()\n",
        "df_daily_jumpsup.plot(legend=False, ax=ax)\n",
        "df_subset.plot(legend=False, ax=ax, color=\"r\")\n",
        "plt.show()"
      ]
    }
  ],
  "metadata": {
    "colab": {
      "collapsed_sections": [],
      "name": "timeseries_anomaly_detection",
      "provenance": [],
      "toc_visible": true,
      "machine_shape": "hm"
    },
    "kernelspec": {
      "display_name": "Python 3",
      "language": "python",
      "name": "python3"
    },
    "language_info": {
      "codemirror_mode": {
        "name": "ipython",
        "version": 3
      },
      "file_extension": ".py",
      "mimetype": "text/x-python",
      "name": "python",
      "nbconvert_exporter": "python",
      "pygments_lexer": "ipython3",
      "version": "3.7.0"
    },
    "accelerator": "GPU",
    "gpuClass": "standard"
  },
  "nbformat": 4,
  "nbformat_minor": 0
}